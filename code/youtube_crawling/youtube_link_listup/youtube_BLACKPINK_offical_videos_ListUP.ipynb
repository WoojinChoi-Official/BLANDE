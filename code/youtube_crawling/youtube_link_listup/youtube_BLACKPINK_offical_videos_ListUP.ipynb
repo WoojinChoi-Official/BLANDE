{
 "cells": [
  {
   "cell_type": "code",
   "execution_count": 1,
   "metadata": {},
   "outputs": [],
   "source": [
    "import time\n",
    "\n",
    "import pandas as pd\n",
    "from bs4 import BeautifulSoup\n",
    "from selenium import webdriver as wd"
   ]
  },
  {
   "cell_type": "markdown",
   "metadata": {},
   "source": [
    "# 영상 리스트업 (블랙핑크 공식 채널 ) "
   ]
  },
  {
   "cell_type": "markdown",
   "metadata": {},
   "source": [
    "##  로제 \n"
   ]
  },
  {
   "cell_type": "code",
   "execution_count": 9,
   "metadata": {},
   "outputs": [],
   "source": [
    "video_list = [ (\"ROSÉ - 'EYES CLOSED (Halsey)' COVER\", 'BLACKPINK', 'https://www.youtube.com/watch?v=vXmVvAgzgVI' ) ,\n",
    "             (\"ROSÉ - 'THE CHRISTMAS SONG (Nat King Cole)' COVER\", 'BLACKPINK', 'https://www.youtube.com/watch?v=6Nm9GOAmZgk' ) ,\n",
    "             (\"BLACKPINK - ROSÉ '뚜두뚜두 (DDU-DU DDU-DU)' FOCUSED CAMERA\", 'BLACKPINK', 'https://www.youtube.com/watch?v=dEnDjgoLLY4' ) ,\n",
    "             (\"BLACKPINK - 'SQUARE UP' ROSÉ MOVING POSTER\", 'BLACKPINK', 'https://www.youtube.com/watch?v=kL1f09pdVa4' ) ,\n",
    "             (\"BLACKPINK - ROSÉ 'Forever Young' FOCUSED CAMERA\", 'BLACKPINK', 'https://www.youtube.com/watch?v=WaIGc9QmV2w'),\n",
    "              (\"BLACKPINK - 'THE ALBUM' ROSÉ Concept Teaser Video\", 'BLACKPINK', 'https://www.youtube.com/watch?v=Q9G14FEpM3U'),\n",
    "              (\"BLACKPINK - 'How You Like That' ROSÉ Concept Teaser Video\", 'BLACKPINK', 'https://www.youtube.com/watch?v=RbHXthF3GSU'),\n",
    "              (\"BLACKPINK - ROSÉ 'Kill This Love' FOCUSED CAMERA\", 'BLACKPINK', 'https://www.youtube.com/watch?v=rt6G9Vwt1xc')\n",
    "             ]"
   ]
  },
  {
   "cell_type": "code",
   "execution_count": 13,
   "metadata": {},
   "outputs": [
    {
     "data": {
      "text/html": [
       "<div>\n",
       "<style scoped>\n",
       "    .dataframe tbody tr th:only-of-type {\n",
       "        vertical-align: middle;\n",
       "    }\n",
       "\n",
       "    .dataframe tbody tr th {\n",
       "        vertical-align: top;\n",
       "    }\n",
       "\n",
       "    .dataframe thead th {\n",
       "        text-align: right;\n",
       "    }\n",
       "</style>\n",
       "<table border=\"1\" class=\"dataframe\">\n",
       "  <thead>\n",
       "    <tr style=\"text-align: right;\">\n",
       "      <th></th>\n",
       "      <th>title</th>\n",
       "      <th>channel</th>\n",
       "      <th>link</th>\n",
       "    </tr>\n",
       "  </thead>\n",
       "  <tbody>\n",
       "    <tr>\n",
       "      <th>0</th>\n",
       "      <td>ROSÉ - 'EYES CLOSED (Halsey)' COVER</td>\n",
       "      <td>BLACKPINK</td>\n",
       "      <td>https://www.youtube.com/watch?v=vXmVvAgzgVI</td>\n",
       "    </tr>\n",
       "    <tr>\n",
       "      <th>1</th>\n",
       "      <td>ROSÉ - 'THE CHRISTMAS SONG (Nat King Cole)' COVER</td>\n",
       "      <td>BLACKPINK</td>\n",
       "      <td>https://www.youtube.com/watch?v=6Nm9GOAmZgk</td>\n",
       "    </tr>\n",
       "    <tr>\n",
       "      <th>2</th>\n",
       "      <td>BLACKPINK - ROSÉ '뚜두뚜두 (DDU-DU DDU-DU)' FOCUSE...</td>\n",
       "      <td>BLACKPINK</td>\n",
       "      <td>https://www.youtube.com/watch?v=dEnDjgoLLY4</td>\n",
       "    </tr>\n",
       "    <tr>\n",
       "      <th>3</th>\n",
       "      <td>BLACKPINK - 'SQUARE UP' ROSÉ MOVING POSTER</td>\n",
       "      <td>BLACKPINK</td>\n",
       "      <td>https://www.youtube.com/watch?v=kL1f09pdVa4</td>\n",
       "    </tr>\n",
       "    <tr>\n",
       "      <th>4</th>\n",
       "      <td>BLACKPINK - ROSÉ 'Forever Young' FOCUSED CAMERA</td>\n",
       "      <td>BLACKPINK</td>\n",
       "      <td>https://www.youtube.com/watch?v=WaIGc9QmV2w</td>\n",
       "    </tr>\n",
       "    <tr>\n",
       "      <th>5</th>\n",
       "      <td>BLACKPINK - 'THE ALBUM' ROSÉ Concept Teaser Video</td>\n",
       "      <td>BLACKPINK</td>\n",
       "      <td>https://www.youtube.com/watch?v=Q9G14FEpM3U</td>\n",
       "    </tr>\n",
       "    <tr>\n",
       "      <th>6</th>\n",
       "      <td>BLACKPINK - 'How You Like That' ROSÉ Concept T...</td>\n",
       "      <td>BLACKPINK</td>\n",
       "      <td>https://www.youtube.com/watch?v=RbHXthF3GSU</td>\n",
       "    </tr>\n",
       "    <tr>\n",
       "      <th>7</th>\n",
       "      <td>BLACKPINK - ROSÉ 'Kill This Love' FOCUSED CAMERA</td>\n",
       "      <td>BLACKPINK</td>\n",
       "      <td>https://www.youtube.com/watch?v=rt6G9Vwt1xc</td>\n",
       "    </tr>\n",
       "  </tbody>\n",
       "</table>\n",
       "</div>"
      ],
      "text/plain": [
       "                                               title    channel  \\\n",
       "0                ROSÉ - 'EYES CLOSED (Halsey)' COVER  BLACKPINK   \n",
       "1  ROSÉ - 'THE CHRISTMAS SONG (Nat King Cole)' COVER  BLACKPINK   \n",
       "2  BLACKPINK - ROSÉ '뚜두뚜두 (DDU-DU DDU-DU)' FOCUSE...  BLACKPINK   \n",
       "3         BLACKPINK - 'SQUARE UP' ROSÉ MOVING POSTER  BLACKPINK   \n",
       "4    BLACKPINK - ROSÉ 'Forever Young' FOCUSED CAMERA  BLACKPINK   \n",
       "5  BLACKPINK - 'THE ALBUM' ROSÉ Concept Teaser Video  BLACKPINK   \n",
       "6  BLACKPINK - 'How You Like That' ROSÉ Concept T...  BLACKPINK   \n",
       "7   BLACKPINK - ROSÉ 'Kill This Love' FOCUSED CAMERA  BLACKPINK   \n",
       "\n",
       "                                          link  \n",
       "0  https://www.youtube.com/watch?v=vXmVvAgzgVI  \n",
       "1  https://www.youtube.com/watch?v=6Nm9GOAmZgk  \n",
       "2  https://www.youtube.com/watch?v=dEnDjgoLLY4  \n",
       "3  https://www.youtube.com/watch?v=kL1f09pdVa4  \n",
       "4  https://www.youtube.com/watch?v=WaIGc9QmV2w  \n",
       "5  https://www.youtube.com/watch?v=Q9G14FEpM3U  \n",
       "6  https://www.youtube.com/watch?v=RbHXthF3GSU  \n",
       "7  https://www.youtube.com/watch?v=rt6G9Vwt1xc  "
      ]
     },
     "execution_count": 13,
     "metadata": {},
     "output_type": "execute_result"
    }
   ],
   "source": [
    "df = pd.DataFrame(video_list, columns = (['title','channel','link']))\n",
    "df"
   ]
  },
  {
   "cell_type": "markdown",
   "metadata": {},
   "source": [
    "## CSV 저장"
   ]
  },
  {
   "cell_type": "code",
   "execution_count": 12,
   "metadata": {
    "scrolled": true
   },
   "outputs": [
    {
     "name": "stdout",
     "output_type": "stream",
     "text": [
      "Success\n"
     ]
    }
   ],
   "source": [
    "df.to_csv(\"./data/youtube_links/blackpink_offical_ROSE_only.csv\", sep = \"|\", encoding = \"utf-8\", index= False)\n",
    "print(\"Success\")"
   ]
  },
  {
   "cell_type": "markdown",
   "metadata": {},
   "source": [
    "## 지수 "
   ]
  },
  {
   "cell_type": "code",
   "execution_count": 16,
   "metadata": {},
   "outputs": [],
   "source": [
    "video_list2 = [(\"BLACKPINK - JISOO 'Forever Young' FOCUSED CAMERA\", 'BLACKPINK', 'https://www.youtube.com/watch?v=xqWjJP_WT-0'),\n",
    "               (\"BLACKPINK - JISOO 'Don't Know What To Do' FOCUSED CAMERA\", 'BLACKPINK', 'https://www.youtube.com/watch?v=RgI8UNOqczE'),\n",
    "               (\"BLACKPINK - 'THE ALBUM' JISOO Concept Teaser Video\", 'BLACKPINK', 'https://www.youtube.com/watch?v=1Zxjr6fd43w'),\n",
    "               (\"BLACKPINK - 'KILL THIS LOVE' JISOO TEASER VIDEO\", 'BLACKPINK', 'https://www.youtube.com/watch?v=Gyr47bL8t0s'),\n",
    "               (\"BLACKPINK - 'SQUARE UP' JISOO MOVING POSTER\", 'BLACKPINK', 'https://www.youtube.com/watch?v=NDA2sD9JFc4'),\n",
    "               (\"BLACKPINK - 'How You Like That' JISOO Concept Teaser Video\", 'BLACKPINK', 'https://www.youtube.com/watch?v=cVz8UQznK-U'),\n",
    "               (\"BLACKPINK - JISOO '뚜두뚜두 (DDU-DU DDU-DU)' FOCUSED CAMERA\", 'BLACKPINK', 'https://www.youtube.com/watch?v=PZ5t29qgGAM')\n",
    "             ]"
   ]
  },
  {
   "cell_type": "code",
   "execution_count": 17,
   "metadata": {},
   "outputs": [
    {
     "data": {
      "text/html": [
       "<div>\n",
       "<style scoped>\n",
       "    .dataframe tbody tr th:only-of-type {\n",
       "        vertical-align: middle;\n",
       "    }\n",
       "\n",
       "    .dataframe tbody tr th {\n",
       "        vertical-align: top;\n",
       "    }\n",
       "\n",
       "    .dataframe thead th {\n",
       "        text-align: right;\n",
       "    }\n",
       "</style>\n",
       "<table border=\"1\" class=\"dataframe\">\n",
       "  <thead>\n",
       "    <tr style=\"text-align: right;\">\n",
       "      <th></th>\n",
       "      <th>title</th>\n",
       "      <th>channel</th>\n",
       "      <th>link</th>\n",
       "    </tr>\n",
       "  </thead>\n",
       "  <tbody>\n",
       "    <tr>\n",
       "      <th>0</th>\n",
       "      <td>BLACKPINK - JISOO 'Forever Young' FOCUSED CAMERA</td>\n",
       "      <td>BLACKPINK</td>\n",
       "      <td>https://www.youtube.com/watch?v=xqWjJP_WT-0</td>\n",
       "    </tr>\n",
       "    <tr>\n",
       "      <th>1</th>\n",
       "      <td>BLACKPINK - JISOO 'Don't Know What To Do' FOCU...</td>\n",
       "      <td>BLACKPINK</td>\n",
       "      <td>https://www.youtube.com/watch?v=RgI8UNOqczE</td>\n",
       "    </tr>\n",
       "    <tr>\n",
       "      <th>2</th>\n",
       "      <td>BLACKPINK - 'THE ALBUM' JISOO Concept Teaser V...</td>\n",
       "      <td>BLACKPINK</td>\n",
       "      <td>https://www.youtube.com/watch?v=1Zxjr6fd43w</td>\n",
       "    </tr>\n",
       "    <tr>\n",
       "      <th>3</th>\n",
       "      <td>BLACKPINK - 'KILL THIS LOVE' JISOO TEASER VIDEO</td>\n",
       "      <td>BLACKPINK</td>\n",
       "      <td>https://www.youtube.com/watch?v=Gyr47bL8t0s</td>\n",
       "    </tr>\n",
       "    <tr>\n",
       "      <th>4</th>\n",
       "      <td>BLACKPINK - 'SQUARE UP' JISOO MOVING POSTER</td>\n",
       "      <td>BLACKPINK</td>\n",
       "      <td>https://www.youtube.com/watch?v=NDA2sD9JFc4</td>\n",
       "    </tr>\n",
       "    <tr>\n",
       "      <th>5</th>\n",
       "      <td>BLACKPINK - 'How You Like That' JISOO Concept ...</td>\n",
       "      <td>BLACKPINK</td>\n",
       "      <td>https://www.youtube.com/watch?v=cVz8UQznK-U</td>\n",
       "    </tr>\n",
       "    <tr>\n",
       "      <th>6</th>\n",
       "      <td>BLACKPINK - JISOO '뚜두뚜두 (DDU-DU DDU-DU)' FOCUS...</td>\n",
       "      <td>BLACKPINK</td>\n",
       "      <td>https://www.youtube.com/watch?v=PZ5t29qgGAM</td>\n",
       "    </tr>\n",
       "  </tbody>\n",
       "</table>\n",
       "</div>"
      ],
      "text/plain": [
       "                                               title    channel  \\\n",
       "0   BLACKPINK - JISOO 'Forever Young' FOCUSED CAMERA  BLACKPINK   \n",
       "1  BLACKPINK - JISOO 'Don't Know What To Do' FOCU...  BLACKPINK   \n",
       "2  BLACKPINK - 'THE ALBUM' JISOO Concept Teaser V...  BLACKPINK   \n",
       "3    BLACKPINK - 'KILL THIS LOVE' JISOO TEASER VIDEO  BLACKPINK   \n",
       "4        BLACKPINK - 'SQUARE UP' JISOO MOVING POSTER  BLACKPINK   \n",
       "5  BLACKPINK - 'How You Like That' JISOO Concept ...  BLACKPINK   \n",
       "6  BLACKPINK - JISOO '뚜두뚜두 (DDU-DU DDU-DU)' FOCUS...  BLACKPINK   \n",
       "\n",
       "                                          link  \n",
       "0  https://www.youtube.com/watch?v=xqWjJP_WT-0  \n",
       "1  https://www.youtube.com/watch?v=RgI8UNOqczE  \n",
       "2  https://www.youtube.com/watch?v=1Zxjr6fd43w  \n",
       "3  https://www.youtube.com/watch?v=Gyr47bL8t0s  \n",
       "4  https://www.youtube.com/watch?v=NDA2sD9JFc4  \n",
       "5  https://www.youtube.com/watch?v=cVz8UQznK-U  \n",
       "6  https://www.youtube.com/watch?v=PZ5t29qgGAM  "
      ]
     },
     "execution_count": 17,
     "metadata": {},
     "output_type": "execute_result"
    }
   ],
   "source": [
    "df2 = pd.DataFrame(video_list2, columns = (['title','channel','link']))\n",
    "df2"
   ]
  },
  {
   "cell_type": "markdown",
   "metadata": {},
   "source": [
    "## CSV 저장"
   ]
  },
  {
   "cell_type": "code",
   "execution_count": 18,
   "metadata": {
    "scrolled": true
   },
   "outputs": [
    {
     "name": "stdout",
     "output_type": "stream",
     "text": [
      "Success\n"
     ]
    }
   ],
   "source": [
    "df2.to_csv(\"./data/youtube_links/blackpink_offical_JISOO_only.csv\", sep = \"|\", encoding = \"utf-8\", index= False)\n",
    "print(\"Success\")"
   ]
  },
  {
   "cell_type": "markdown",
   "metadata": {},
   "source": [
    "## 제니\n",
    "###  1. SOLO Diary 에는 다른 멤버 나오는 영상은 제외\n",
    "###  2. SOLO 방송 공연 영상 제외 "
   ]
  },
  {
   "cell_type": "code",
   "execution_count": 2,
   "metadata": {},
   "outputs": [],
   "source": [
    "video_list_Jennie = [(\"JENNIE - 'SOLO' DIARY EP.4-3\", 'BLACKPINK', \"https://www.youtube.com/watch?v=QIvx2ZPE6K4\"),\n",
    "               (\"JENNIE - 'SOLO' DIARY EP.5-2\", 'BLACKPINK', \"https://www.youtube.com/watch?v=xKW9q-oIZUE\"),\n",
    "               (\"JENNIE - 'SOLO' M/V\", 'BLACKPINK', \"https://www.youtube.com/watch?v=b73BI9eUkjM\"),\n",
    "               (\"JENNIE - 'SOLO' DIARY EP.1\", \"BLACKPINK\", \"https://www.youtube.com/watch?v=iHgDwNSCoiQ\"),\n",
    "               (\"JENNIE - 'SOLO' CHOREOGRAPHY UNEDITED VERSION\", \"BLACKPINK\", \"https://www.youtube.com/watch?v=vdDuCvCrcKg\"),\n",
    "               (\"JENNIE - 'SOLO' DIARY EP.2-1\", \"BLACKPINK\", \"https://www.youtube.com/watch?v=qWDuwmwMTBQ\"),\n",
    "               (\"JENNIE - 'SOLO' DIARY EP.3\", \"BLACKPINK\", \"https://www.youtube.com/watch?v=DR9n-vDj-zo\"),\n",
    "               (\"BLACKPINK - JENNIE 'Forever Young' FOCUSED CAMERA\", \"BLACKPINK\", \"https://www.youtube.com/watch?v=HhyRAPKiXi4\"),\n",
    "               (\"JENNIE - 'SOLO' DIARY EP.4-2\", \"BLACKPINK\", \"https://www.youtube.com/watch?v=HDIoWLzOmVc\"),\n",
    "               (\"JENNIE - ‘SOLO’ PERFORMANCE VIDEO\", \"BLACKPINK\", \"https://www.youtube.com/watch?v=Ws5SOMeA3_E\"),\n",
    "               (\"JENNIE - 'SOLO' DIARY EP.2-2\", \"BLACKPINK\", \"https://www.youtube.com/watch?v=GEFef9eOInM\"),\n",
    "               (\"JENNIE - 'SOLO' M/V MAKING FILM\", \"BLACKPINK\", \"https://www.youtube.com/watch?v=QCyPQVgSu0M\"),\n",
    "               (\"BLACKPINK - JENNIE 'Don't Know What To Do' FOCUSED CAMERA\", \"BLACKPINK\", \"https://www.youtube.com/watch?v=sL175y19MUU\"),\n",
    "               (\"BLACKPINK - JENNIE '뚜두뚜두 (DDU-DU DDU-DU)' FOCUSED CAMERA\", \"BLACKPINK\", \"https://www.youtube.com/watch?v=0uje7GB8Azk\"),\n",
    "               (\"JENNIE - 'SOLO' FAN SIGNING DAY\", \"BLACKPINK\", \"https://www.youtube.com/watch?v=T8ONpK3S0KI\"),\n",
    "               (\"JENNIE - 'SOLO' TEASER VIDEO #1\", \"BLACKPINK\", \"https://www.youtube.com/watch?v=o5Fw2AYfUzs\"),\n",
    "               (\"JENNIE - 'SOLO' CHOREOGRAPHY CUT TEASER\", \"BLACKPINK\", \"https://www.youtube.com/watch?v=f3bbg-h-pps\"),\n",
    "               (\"BLACKPINK - 'KILL THIS LOVE' JENNIE TEASER VIDEO\", \"BLACKPINK\", \"https://www.youtube.com/watch?v=HSFqo45N0tM\"),\n",
    "               (\"JENNIE - DANCE PRACTICE VIDEO\", \"BLACKPINK\", \"https://www.youtube.com/watch?v=kqXGnxJ-S3k&t=75s\")\n",
    "              ]"
   ]
  },
  {
   "cell_type": "code",
   "execution_count": 3,
   "metadata": {},
   "outputs": [
    {
     "data": {
      "text/html": [
       "<div>\n",
       "<style scoped>\n",
       "    .dataframe tbody tr th:only-of-type {\n",
       "        vertical-align: middle;\n",
       "    }\n",
       "\n",
       "    .dataframe tbody tr th {\n",
       "        vertical-align: top;\n",
       "    }\n",
       "\n",
       "    .dataframe thead th {\n",
       "        text-align: right;\n",
       "    }\n",
       "</style>\n",
       "<table border=\"1\" class=\"dataframe\">\n",
       "  <thead>\n",
       "    <tr style=\"text-align: right;\">\n",
       "      <th></th>\n",
       "      <th>title</th>\n",
       "      <th>channel</th>\n",
       "      <th>link</th>\n",
       "    </tr>\n",
       "  </thead>\n",
       "  <tbody>\n",
       "    <tr>\n",
       "      <th>0</th>\n",
       "      <td>JENNIE - 'SOLO' DIARY EP.4-3</td>\n",
       "      <td>BLACKPINK</td>\n",
       "      <td>https://www.youtube.com/watch?v=QIvx2ZPE6K4</td>\n",
       "    </tr>\n",
       "    <tr>\n",
       "      <th>1</th>\n",
       "      <td>JENNIE - 'SOLO' DIARY EP.5-2</td>\n",
       "      <td>BLACKPINK</td>\n",
       "      <td>https://www.youtube.com/watch?v=xKW9q-oIZUE</td>\n",
       "    </tr>\n",
       "    <tr>\n",
       "      <th>2</th>\n",
       "      <td>JENNIE - 'SOLO' M/V</td>\n",
       "      <td>BLACKPINK</td>\n",
       "      <td>https://www.youtube.com/watch?v=b73BI9eUkjM</td>\n",
       "    </tr>\n",
       "    <tr>\n",
       "      <th>3</th>\n",
       "      <td>JENNIE - 'SOLO' DIARY EP.1</td>\n",
       "      <td>BLACKPINK</td>\n",
       "      <td>https://www.youtube.com/watch?v=iHgDwNSCoiQ</td>\n",
       "    </tr>\n",
       "    <tr>\n",
       "      <th>4</th>\n",
       "      <td>JENNIE - 'SOLO' CHOREOGRAPHY UNEDITED VERSION</td>\n",
       "      <td>BLACKPINK</td>\n",
       "      <td>https://www.youtube.com/watch?v=vdDuCvCrcKg</td>\n",
       "    </tr>\n",
       "    <tr>\n",
       "      <th>5</th>\n",
       "      <td>JENNIE - 'SOLO' DIARY EP.2-1</td>\n",
       "      <td>BLACKPINK</td>\n",
       "      <td>https://www.youtube.com/watch?v=qWDuwmwMTBQ</td>\n",
       "    </tr>\n",
       "    <tr>\n",
       "      <th>6</th>\n",
       "      <td>JENNIE - 'SOLO' DIARY EP.3</td>\n",
       "      <td>BLACKPINK</td>\n",
       "      <td>https://www.youtube.com/watch?v=DR9n-vDj-zo</td>\n",
       "    </tr>\n",
       "    <tr>\n",
       "      <th>7</th>\n",
       "      <td>BLACKPINK - JENNIE 'Forever Young' FOCUSED CAMERA</td>\n",
       "      <td>BLACKPINK</td>\n",
       "      <td>https://www.youtube.com/watch?v=HhyRAPKiXi4</td>\n",
       "    </tr>\n",
       "    <tr>\n",
       "      <th>8</th>\n",
       "      <td>JENNIE - 'SOLO' DIARY EP.4-2</td>\n",
       "      <td>BLACKPINK</td>\n",
       "      <td>https://www.youtube.com/watch?v=HDIoWLzOmVc</td>\n",
       "    </tr>\n",
       "    <tr>\n",
       "      <th>9</th>\n",
       "      <td>JENNIE - ‘SOLO’ PERFORMANCE VIDEO</td>\n",
       "      <td>BLACKPINK</td>\n",
       "      <td>https://www.youtube.com/watch?v=Ws5SOMeA3_E</td>\n",
       "    </tr>\n",
       "    <tr>\n",
       "      <th>10</th>\n",
       "      <td>JENNIE - 'SOLO' DIARY EP.2-2</td>\n",
       "      <td>BLACKPINK</td>\n",
       "      <td>https://www.youtube.com/watch?v=GEFef9eOInM</td>\n",
       "    </tr>\n",
       "    <tr>\n",
       "      <th>11</th>\n",
       "      <td>JENNIE - 'SOLO' M/V MAKING FILM</td>\n",
       "      <td>BLACKPINK</td>\n",
       "      <td>https://www.youtube.com/watch?v=QCyPQVgSu0M</td>\n",
       "    </tr>\n",
       "    <tr>\n",
       "      <th>12</th>\n",
       "      <td>BLACKPINK - JENNIE 'Don't Know What To Do' FOC...</td>\n",
       "      <td>BLACKPINK</td>\n",
       "      <td>https://www.youtube.com/watch?v=sL175y19MUU</td>\n",
       "    </tr>\n",
       "    <tr>\n",
       "      <th>13</th>\n",
       "      <td>BLACKPINK - JENNIE '뚜두뚜두 (DDU-DU DDU-DU)' FOCU...</td>\n",
       "      <td>BLACKPINK</td>\n",
       "      <td>https://www.youtube.com/watch?v=0uje7GB8Azk</td>\n",
       "    </tr>\n",
       "    <tr>\n",
       "      <th>14</th>\n",
       "      <td>JENNIE - 'SOLO' FAN SIGNING DAY</td>\n",
       "      <td>BLACKPINK</td>\n",
       "      <td>https://www.youtube.com/watch?v=T8ONpK3S0KI</td>\n",
       "    </tr>\n",
       "    <tr>\n",
       "      <th>15</th>\n",
       "      <td>JENNIE - 'SOLO' TEASER VIDEO #1</td>\n",
       "      <td>BLACKPINK</td>\n",
       "      <td>https://www.youtube.com/watch?v=o5Fw2AYfUzs</td>\n",
       "    </tr>\n",
       "    <tr>\n",
       "      <th>16</th>\n",
       "      <td>JENNIE - 'SOLO' CHOREOGRAPHY CUT TEASER</td>\n",
       "      <td>BLACKPINK</td>\n",
       "      <td>https://www.youtube.com/watch?v=f3bbg-h-pps</td>\n",
       "    </tr>\n",
       "    <tr>\n",
       "      <th>17</th>\n",
       "      <td>BLACKPINK - 'KILL THIS LOVE' JENNIE TEASER VIDEO</td>\n",
       "      <td>BLACKPINK</td>\n",
       "      <td>https://www.youtube.com/watch?v=HSFqo45N0tM</td>\n",
       "    </tr>\n",
       "    <tr>\n",
       "      <th>18</th>\n",
       "      <td>JENNIE - DANCE PRACTICE VIDEO</td>\n",
       "      <td>BLACKPINK</td>\n",
       "      <td>https://www.youtube.com/watch?v=kqXGnxJ-S3k&amp;t=75s</td>\n",
       "    </tr>\n",
       "  </tbody>\n",
       "</table>\n",
       "</div>"
      ],
      "text/plain": [
       "                                                title    channel  \\\n",
       "0                        JENNIE - 'SOLO' DIARY EP.4-3  BLACKPINK   \n",
       "1                        JENNIE - 'SOLO' DIARY EP.5-2  BLACKPINK   \n",
       "2                                 JENNIE - 'SOLO' M/V  BLACKPINK   \n",
       "3                          JENNIE - 'SOLO' DIARY EP.1  BLACKPINK   \n",
       "4       JENNIE - 'SOLO' CHOREOGRAPHY UNEDITED VERSION  BLACKPINK   \n",
       "5                        JENNIE - 'SOLO' DIARY EP.2-1  BLACKPINK   \n",
       "6                          JENNIE - 'SOLO' DIARY EP.3  BLACKPINK   \n",
       "7   BLACKPINK - JENNIE 'Forever Young' FOCUSED CAMERA  BLACKPINK   \n",
       "8                        JENNIE - 'SOLO' DIARY EP.4-2  BLACKPINK   \n",
       "9                   JENNIE - ‘SOLO’ PERFORMANCE VIDEO  BLACKPINK   \n",
       "10                       JENNIE - 'SOLO' DIARY EP.2-2  BLACKPINK   \n",
       "11                    JENNIE - 'SOLO' M/V MAKING FILM  BLACKPINK   \n",
       "12  BLACKPINK - JENNIE 'Don't Know What To Do' FOC...  BLACKPINK   \n",
       "13  BLACKPINK - JENNIE '뚜두뚜두 (DDU-DU DDU-DU)' FOCU...  BLACKPINK   \n",
       "14                    JENNIE - 'SOLO' FAN SIGNING DAY  BLACKPINK   \n",
       "15                    JENNIE - 'SOLO' TEASER VIDEO #1  BLACKPINK   \n",
       "16            JENNIE - 'SOLO' CHOREOGRAPHY CUT TEASER  BLACKPINK   \n",
       "17   BLACKPINK - 'KILL THIS LOVE' JENNIE TEASER VIDEO  BLACKPINK   \n",
       "18                      JENNIE - DANCE PRACTICE VIDEO  BLACKPINK   \n",
       "\n",
       "                                                 link  \n",
       "0         https://www.youtube.com/watch?v=QIvx2ZPE6K4  \n",
       "1         https://www.youtube.com/watch?v=xKW9q-oIZUE  \n",
       "2         https://www.youtube.com/watch?v=b73BI9eUkjM  \n",
       "3         https://www.youtube.com/watch?v=iHgDwNSCoiQ  \n",
       "4         https://www.youtube.com/watch?v=vdDuCvCrcKg  \n",
       "5         https://www.youtube.com/watch?v=qWDuwmwMTBQ  \n",
       "6         https://www.youtube.com/watch?v=DR9n-vDj-zo  \n",
       "7         https://www.youtube.com/watch?v=HhyRAPKiXi4  \n",
       "8         https://www.youtube.com/watch?v=HDIoWLzOmVc  \n",
       "9         https://www.youtube.com/watch?v=Ws5SOMeA3_E  \n",
       "10        https://www.youtube.com/watch?v=GEFef9eOInM  \n",
       "11        https://www.youtube.com/watch?v=QCyPQVgSu0M  \n",
       "12        https://www.youtube.com/watch?v=sL175y19MUU  \n",
       "13        https://www.youtube.com/watch?v=0uje7GB8Azk  \n",
       "14        https://www.youtube.com/watch?v=T8ONpK3S0KI  \n",
       "15        https://www.youtube.com/watch?v=o5Fw2AYfUzs  \n",
       "16        https://www.youtube.com/watch?v=f3bbg-h-pps  \n",
       "17        https://www.youtube.com/watch?v=HSFqo45N0tM  \n",
       "18  https://www.youtube.com/watch?v=kqXGnxJ-S3k&t=75s  "
      ]
     },
     "execution_count": 3,
     "metadata": {},
     "output_type": "execute_result"
    }
   ],
   "source": [
    "df_Jenny = pd.DataFrame(video_list_Jennie, columns = (['title','channel','link']))\n",
    "df_Jenny"
   ]
  },
  {
   "cell_type": "markdown",
   "metadata": {},
   "source": [
    "## CSV 저장"
   ]
  },
  {
   "cell_type": "code",
   "execution_count": 4,
   "metadata": {
    "scrolled": true
   },
   "outputs": [
    {
     "name": "stdout",
     "output_type": "stream",
     "text": [
      "Success\n"
     ]
    }
   ],
   "source": [
    "df_Jenny.to_csv(\"./data/youtube_links/blackpink_offical_JENNIE_only.csv\", sep = \"|\", encoding = \"utf-8\", index= False)\n",
    "print(\"Success\")"
   ]
  },
  {
   "cell_type": "code",
   "execution_count": null,
   "metadata": {},
   "outputs": [],
   "source": []
  },
  {
   "cell_type": "markdown",
   "metadata": {},
   "source": [
    "## 리사 "
   ]
  },
  {
   "cell_type": "code",
   "execution_count": 33,
   "metadata": {},
   "outputs": [],
   "source": [
    "video_list_LISA = [(\"BLACKPINK - LISA 'Forever Young' FOCUSED CAMERA\", \"BLACKPINK\",\"https://www.youtube.com/watch?v=4KRdmXcJWQU\"),\n",
    "                   (\"BLACKPINK - 'How You Like That' LISA Concept Teaser Video\", \"BLACKPINK\",\"https://www.youtube.com/watch?v=i8hicLO6gwY\"),\n",
    "                   (\"BLACKPINK - 'THE ALBUM' LISA Concept Teaser Video\", \"BLACKPINK\",\"https://www.youtube.com/watch?v=RYp6SPNSLxw\"),\n",
    "                   (\"BLACKPINK - 'KILL THIS LOVE' LISA TEASER VIDEO\", \"BLACKPINK\",\"https://www.youtube.com/watch?v=TlCPlO5rf7U\"),\n",
    "                   (\"BLACKPINK - LISA 'Kill This Love' FOCUSED CAMERA\", \"BLACKPINK\",\"https://www.youtube.com/watch?v=GXBDwS2Tizo\"),\n",
    "                   (\"BLACKPINK - 'SQUARE UP' LISA MOVING POSTER\", \"BLACKPINK\",\"https://www.youtube.com/watch?v=flPqsVWTnT0\"),\n",
    "                   (\"BLACKPINK - LISA '뚜두뚜두 (DDU-DU DDU-DU)' FOCUSED CAMERA\", \"BLACKPINK\",\"https://www.youtube.com/watch?v=rw2-h5JNLqM\")\n",
    "    \n",
    "              ]"
   ]
  },
  {
   "cell_type": "code",
   "execution_count": 34,
   "metadata": {},
   "outputs": [
    {
     "data": {
      "text/html": [
       "<div>\n",
       "<style scoped>\n",
       "    .dataframe tbody tr th:only-of-type {\n",
       "        vertical-align: middle;\n",
       "    }\n",
       "\n",
       "    .dataframe tbody tr th {\n",
       "        vertical-align: top;\n",
       "    }\n",
       "\n",
       "    .dataframe thead th {\n",
       "        text-align: right;\n",
       "    }\n",
       "</style>\n",
       "<table border=\"1\" class=\"dataframe\">\n",
       "  <thead>\n",
       "    <tr style=\"text-align: right;\">\n",
       "      <th></th>\n",
       "      <th>title</th>\n",
       "      <th>channel</th>\n",
       "      <th>link</th>\n",
       "    </tr>\n",
       "  </thead>\n",
       "  <tbody>\n",
       "    <tr>\n",
       "      <th>0</th>\n",
       "      <td>BLACKPINK - LISA 'Forever Young' FOCUSED CAMERA</td>\n",
       "      <td>BLACKPINK</td>\n",
       "      <td>https://www.youtube.com/watch?v=4KRdmXcJWQU</td>\n",
       "    </tr>\n",
       "    <tr>\n",
       "      <th>1</th>\n",
       "      <td>BLACKPINK - 'How You Like That' LISA Concept T...</td>\n",
       "      <td>BLACKPINK</td>\n",
       "      <td>https://www.youtube.com/watch?v=i8hicLO6gwY</td>\n",
       "    </tr>\n",
       "    <tr>\n",
       "      <th>2</th>\n",
       "      <td>BLACKPINK - 'THE ALBUM' LISA Concept Teaser Video</td>\n",
       "      <td>BLACKPINK</td>\n",
       "      <td>https://www.youtube.com/watch?v=RYp6SPNSLxw</td>\n",
       "    </tr>\n",
       "    <tr>\n",
       "      <th>3</th>\n",
       "      <td>BLACKPINK - 'KILL THIS LOVE' LISA TEASER VIDEO</td>\n",
       "      <td>BLACKPINK</td>\n",
       "      <td>https://www.youtube.com/watch?v=TlCPlO5rf7U</td>\n",
       "    </tr>\n",
       "    <tr>\n",
       "      <th>4</th>\n",
       "      <td>BLACKPINK - LISA 'Kill This Love' FOCUSED CAMERA</td>\n",
       "      <td>BLACKPINK</td>\n",
       "      <td>https://www.youtube.com/watch?v=GXBDwS2Tizo</td>\n",
       "    </tr>\n",
       "    <tr>\n",
       "      <th>5</th>\n",
       "      <td>BLACKPINK - 'SQUARE UP' LISA MOVING POSTER</td>\n",
       "      <td>BLACKPINK</td>\n",
       "      <td>https://www.youtube.com/watch?v=flPqsVWTnT0</td>\n",
       "    </tr>\n",
       "    <tr>\n",
       "      <th>6</th>\n",
       "      <td>BLACKPINK - LISA '뚜두뚜두 (DDU-DU DDU-DU)' FOCUSE...</td>\n",
       "      <td>BLACKPINK</td>\n",
       "      <td>https://www.youtube.com/watch?v=rw2-h5JNLqM</td>\n",
       "    </tr>\n",
       "  </tbody>\n",
       "</table>\n",
       "</div>"
      ],
      "text/plain": [
       "                                               title    channel  \\\n",
       "0    BLACKPINK - LISA 'Forever Young' FOCUSED CAMERA  BLACKPINK   \n",
       "1  BLACKPINK - 'How You Like That' LISA Concept T...  BLACKPINK   \n",
       "2  BLACKPINK - 'THE ALBUM' LISA Concept Teaser Video  BLACKPINK   \n",
       "3     BLACKPINK - 'KILL THIS LOVE' LISA TEASER VIDEO  BLACKPINK   \n",
       "4   BLACKPINK - LISA 'Kill This Love' FOCUSED CAMERA  BLACKPINK   \n",
       "5         BLACKPINK - 'SQUARE UP' LISA MOVING POSTER  BLACKPINK   \n",
       "6  BLACKPINK - LISA '뚜두뚜두 (DDU-DU DDU-DU)' FOCUSE...  BLACKPINK   \n",
       "\n",
       "                                          link  \n",
       "0  https://www.youtube.com/watch?v=4KRdmXcJWQU  \n",
       "1  https://www.youtube.com/watch?v=i8hicLO6gwY  \n",
       "2  https://www.youtube.com/watch?v=RYp6SPNSLxw  \n",
       "3  https://www.youtube.com/watch?v=TlCPlO5rf7U  \n",
       "4  https://www.youtube.com/watch?v=GXBDwS2Tizo  \n",
       "5  https://www.youtube.com/watch?v=flPqsVWTnT0  \n",
       "6  https://www.youtube.com/watch?v=rw2-h5JNLqM  "
      ]
     },
     "execution_count": 34,
     "metadata": {},
     "output_type": "execute_result"
    }
   ],
   "source": [
    "df_Lisa = pd.DataFrame(video_list_LISA, columns = (['title','channel','link']))\n",
    "df_Lisa"
   ]
  },
  {
   "cell_type": "markdown",
   "metadata": {},
   "source": [
    "### CSV 저장"
   ]
  },
  {
   "cell_type": "code",
   "execution_count": 35,
   "metadata": {},
   "outputs": [
    {
     "name": "stdout",
     "output_type": "stream",
     "text": [
      "Success\n"
     ]
    }
   ],
   "source": [
    "df_Lisa.to_csv(\"./data/youtube_links/blackpink_offical_LISA_only.csv\", sep = \"|\", encoding = \"utf-8\", index= False)\n",
    "print(\"Success\")"
   ]
  }
 ],
 "metadata": {
  "kernelspec": {
   "display_name": "Python 3",
   "language": "python",
   "name": "python3"
  },
  "language_info": {
   "codemirror_mode": {
    "name": "ipython",
    "version": 3
   },
   "file_extension": ".py",
   "mimetype": "text/x-python",
   "name": "python",
   "nbconvert_exporter": "python",
   "pygments_lexer": "ipython3",
   "version": "3.7.6"
  }
 },
 "nbformat": 4,
 "nbformat_minor": 4
}
