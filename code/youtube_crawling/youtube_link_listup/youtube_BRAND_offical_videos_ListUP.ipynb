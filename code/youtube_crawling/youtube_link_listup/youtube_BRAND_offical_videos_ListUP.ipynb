{
 "cells": [
  {
   "cell_type": "code",
   "execution_count": 5,
   "metadata": {},
   "outputs": [],
   "source": [
    "import time\n",
    "\n",
    "import pandas as pd\n",
    "from bs4 import BeautifulSoup\n",
    "from selenium import webdriver as wd"
   ]
  },
  {
   "cell_type": "code",
   "execution_count": null,
   "metadata": {},
   "outputs": [],
   "source": []
  },
  {
   "cell_type": "code",
   "execution_count": null,
   "metadata": {},
   "outputs": [],
   "source": []
  },
  {
   "cell_type": "markdown",
   "metadata": {},
   "source": [
    "# 영상 리스트업 (멤버별 브랜드)\n"
   ]
  },
  {
   "cell_type": "markdown",
   "metadata": {},
   "source": [
    "##  로제 (YSL 채널이 댓글 사용 중지)\n"
   ]
  },
  {
   "cell_type": "code",
   "execution_count": null,
   "metadata": {},
   "outputs": [],
   "source": [
    "# 복붙용 템플릿 \n",
    "# video_list = [ (\"\", '', '' ) ,\n",
    "#              ]"
   ]
  },
  {
   "cell_type": "code",
   "execution_count": null,
   "metadata": {},
   "outputs": [],
   "source": []
  },
  {
   "cell_type": "code",
   "execution_count": 6,
   "metadata": {},
   "outputs": [],
   "source": [
    "video_list_ROSE = [ (\"SAINT LAURENT - FALL 2020 - ROSÉ\", 'Saint Laurent', 'https://www.youtube.com/watch?v=E9m4IzTEbA0' ) ,\n",
    "              (\"SAINT LAURENT - FALL 2020 - ROSÉ - THE SOLFERINO\", 'Saint Laurent', 'https://www.youtube.com/watch?v=TPciTUDUoAI' )\n",
    "             ]"
   ]
  },
  {
   "cell_type": "code",
   "execution_count": 7,
   "metadata": {},
   "outputs": [
    {
     "data": {
      "text/html": [
       "<div>\n",
       "<style scoped>\n",
       "    .dataframe tbody tr th:only-of-type {\n",
       "        vertical-align: middle;\n",
       "    }\n",
       "\n",
       "    .dataframe tbody tr th {\n",
       "        vertical-align: top;\n",
       "    }\n",
       "\n",
       "    .dataframe thead th {\n",
       "        text-align: right;\n",
       "    }\n",
       "</style>\n",
       "<table border=\"1\" class=\"dataframe\">\n",
       "  <thead>\n",
       "    <tr style=\"text-align: right;\">\n",
       "      <th></th>\n",
       "      <th>title</th>\n",
       "      <th>channel</th>\n",
       "      <th>link</th>\n",
       "    </tr>\n",
       "  </thead>\n",
       "  <tbody>\n",
       "    <tr>\n",
       "      <th>0</th>\n",
       "      <td>SAINT LAURENT - FALL 2020 - ROSÉ</td>\n",
       "      <td>Saint Laurent</td>\n",
       "      <td>https://www.youtube.com/watch?v=E9m4IzTEbA0</td>\n",
       "    </tr>\n",
       "    <tr>\n",
       "      <th>1</th>\n",
       "      <td>SAINT LAURENT - FALL 2020 - ROSÉ - THE SOLFERINO</td>\n",
       "      <td>Saint Laurent</td>\n",
       "      <td>https://www.youtube.com/watch?v=TPciTUDUoAI</td>\n",
       "    </tr>\n",
       "  </tbody>\n",
       "</table>\n",
       "</div>"
      ],
      "text/plain": [
       "                                              title        channel  \\\n",
       "0                  SAINT LAURENT - FALL 2020 - ROSÉ  Saint Laurent   \n",
       "1  SAINT LAURENT - FALL 2020 - ROSÉ - THE SOLFERINO  Saint Laurent   \n",
       "\n",
       "                                          link  \n",
       "0  https://www.youtube.com/watch?v=E9m4IzTEbA0  \n",
       "1  https://www.youtube.com/watch?v=TPciTUDUoAI  "
      ]
     },
     "execution_count": 7,
     "metadata": {},
     "output_type": "execute_result"
    }
   ],
   "source": [
    "df = pd.DataFrame(video_list_ROSE, columns = (['title','channel','link']))\n",
    "df"
   ]
  },
  {
   "cell_type": "markdown",
   "metadata": {},
   "source": [
    "## CSV 저장"
   ]
  },
  {
   "cell_type": "code",
   "execution_count": 8,
   "metadata": {
    "scrolled": true
   },
   "outputs": [
    {
     "name": "stdout",
     "output_type": "stream",
     "text": [
      "Success\n"
     ]
    }
   ],
   "source": [
    "df.to_csv(\"./data/youtube_links/Brand_offical_ROSE_YSL_only.csv\", sep = \"|\", encoding = \"utf-8\", index= False)\n",
    "print(\"Success\")"
   ]
  },
  {
   "cell_type": "markdown",
   "metadata": {},
   "source": [
    "## 지수 "
   ]
  },
  {
   "cell_type": "code",
   "execution_count": 15,
   "metadata": {},
   "outputs": [],
   "source": [
    "video_list_JISOO = [ (\"Jisoo from Blackpink Watching the Dior Spring-Summer 2021 Show\", 'Christian Dior', 'https://www.youtube.com/watch?v=ml4XzQ8U3Y4' ) ,\n",
    "              (\"Jisoo wears Dior Autumn-Winter 2020-2021\", 'Christian Dior', 'https://www.youtube.com/watch?v=XbfO9L8Bb-Q' ) \n",
    "             ]"
   ]
  },
  {
   "cell_type": "code",
   "execution_count": 17,
   "metadata": {},
   "outputs": [
    {
     "data": {
      "text/html": [
       "<div>\n",
       "<style scoped>\n",
       "    .dataframe tbody tr th:only-of-type {\n",
       "        vertical-align: middle;\n",
       "    }\n",
       "\n",
       "    .dataframe tbody tr th {\n",
       "        vertical-align: top;\n",
       "    }\n",
       "\n",
       "    .dataframe thead th {\n",
       "        text-align: right;\n",
       "    }\n",
       "</style>\n",
       "<table border=\"1\" class=\"dataframe\">\n",
       "  <thead>\n",
       "    <tr style=\"text-align: right;\">\n",
       "      <th></th>\n",
       "      <th>title</th>\n",
       "      <th>channel</th>\n",
       "      <th>link</th>\n",
       "    </tr>\n",
       "  </thead>\n",
       "  <tbody>\n",
       "    <tr>\n",
       "      <th>0</th>\n",
       "      <td>Jisoo from Blackpink Watching the Dior Spring-...</td>\n",
       "      <td>Christian Dior</td>\n",
       "      <td>https://www.youtube.com/watch?v=ml4XzQ8U3Y4</td>\n",
       "    </tr>\n",
       "    <tr>\n",
       "      <th>1</th>\n",
       "      <td>Jisoo wears Dior Autumn-Winter 2020-2021</td>\n",
       "      <td>Christian Dior</td>\n",
       "      <td>https://www.youtube.com/watch?v=XbfO9L8Bb-Q</td>\n",
       "    </tr>\n",
       "  </tbody>\n",
       "</table>\n",
       "</div>"
      ],
      "text/plain": [
       "                                               title         channel  \\\n",
       "0  Jisoo from Blackpink Watching the Dior Spring-...  Christian Dior   \n",
       "1           Jisoo wears Dior Autumn-Winter 2020-2021  Christian Dior   \n",
       "\n",
       "                                          link  \n",
       "0  https://www.youtube.com/watch?v=ml4XzQ8U3Y4  \n",
       "1  https://www.youtube.com/watch?v=XbfO9L8Bb-Q  "
      ]
     },
     "execution_count": 17,
     "metadata": {},
     "output_type": "execute_result"
    }
   ],
   "source": [
    "df_JISOO = pd.DataFrame(video_list_JISOO, columns = (['title','channel','link']))\n",
    "df_JISOO"
   ]
  },
  {
   "cell_type": "markdown",
   "metadata": {},
   "source": [
    "## CSV 저장"
   ]
  },
  {
   "cell_type": "code",
   "execution_count": 19,
   "metadata": {
    "scrolled": true
   },
   "outputs": [
    {
     "name": "stdout",
     "output_type": "stream",
     "text": [
      "Success\n"
     ]
    }
   ],
   "source": [
    "df_JISOO.to_csv(\"./data/youtube_links/Brand_offical_JISOO_Dior_only.csv\", sep = \"|\", encoding = \"utf-8\", index= False)\n",
    "print(\"Success\")"
   ]
  },
  {
   "cell_type": "markdown",
   "metadata": {},
   "source": [
    "## 제니"
   ]
  },
  {
   "cell_type": "code",
   "execution_count": null,
   "metadata": {},
   "outputs": [],
   "source": []
  },
  {
   "cell_type": "code",
   "execution_count": 23,
   "metadata": {},
   "outputs": [],
   "source": [
    "video_list_JENNIE = [ (\"2021 봄-여름 레디-투-웨어 쇼가 끝난 후 함께한 제니와 최서연 — CHANEL\", 'CHANEL', 'https://www.youtube.com/watch?v=h05NmlNrq3k' )\n",
    "                     \n",
    "             ]"
   ]
  },
  {
   "cell_type": "code",
   "execution_count": 27,
   "metadata": {},
   "outputs": [
    {
     "data": {
      "text/html": [
       "<div>\n",
       "<style scoped>\n",
       "    .dataframe tbody tr th:only-of-type {\n",
       "        vertical-align: middle;\n",
       "    }\n",
       "\n",
       "    .dataframe tbody tr th {\n",
       "        vertical-align: top;\n",
       "    }\n",
       "\n",
       "    .dataframe thead th {\n",
       "        text-align: right;\n",
       "    }\n",
       "</style>\n",
       "<table border=\"1\" class=\"dataframe\">\n",
       "  <thead>\n",
       "    <tr style=\"text-align: right;\">\n",
       "      <th></th>\n",
       "      <th>title</th>\n",
       "      <th>channel</th>\n",
       "      <th>link</th>\n",
       "    </tr>\n",
       "  </thead>\n",
       "  <tbody>\n",
       "    <tr>\n",
       "      <th>0</th>\n",
       "      <td>2021 봄-여름 레디-투-웨어 쇼가 끝난 후 함께한 제니와 최서연 — CHANEL</td>\n",
       "      <td>CHANEL</td>\n",
       "      <td>https://www.youtube.com/watch?v=h05NmlNrq3k</td>\n",
       "    </tr>\n",
       "  </tbody>\n",
       "</table>\n",
       "</div>"
      ],
      "text/plain": [
       "                                            title channel  \\\n",
       "0  2021 봄-여름 레디-투-웨어 쇼가 끝난 후 함께한 제니와 최서연 — CHANEL  CHANEL   \n",
       "\n",
       "                                          link  \n",
       "0  https://www.youtube.com/watch?v=h05NmlNrq3k  "
      ]
     },
     "execution_count": 27,
     "metadata": {},
     "output_type": "execute_result"
    }
   ],
   "source": [
    "df_Jenny = pd.DataFrame(video_list_JENNIE , columns = (['title','channel','link']))\n",
    "df_Jenny"
   ]
  },
  {
   "cell_type": "markdown",
   "metadata": {},
   "source": [
    "## CSV 저장"
   ]
  },
  {
   "cell_type": "code",
   "execution_count": 28,
   "metadata": {
    "scrolled": true
   },
   "outputs": [
    {
     "name": "stdout",
     "output_type": "stream",
     "text": [
      "Success\n"
     ]
    }
   ],
   "source": [
    "df_Jenny.to_csv(\"./data/youtube_links/Brand_offical_JENNIE_Chanel_only.csv\", sep = \"|\", encoding = \"utf-8\", index= False)\n",
    "print(\"Success\")"
   ]
  },
  {
   "cell_type": "code",
   "execution_count": null,
   "metadata": {},
   "outputs": [],
   "source": []
  },
  {
   "cell_type": "markdown",
   "metadata": {},
   "source": [
    "## 리사 "
   ]
  },
  {
   "cell_type": "code",
   "execution_count": 20,
   "metadata": {},
   "outputs": [],
   "source": [
    "video_list_LISA = []"
   ]
  },
  {
   "cell_type": "code",
   "execution_count": 21,
   "metadata": {},
   "outputs": [
    {
     "data": {
      "text/html": [
       "<div>\n",
       "<style scoped>\n",
       "    .dataframe tbody tr th:only-of-type {\n",
       "        vertical-align: middle;\n",
       "    }\n",
       "\n",
       "    .dataframe tbody tr th {\n",
       "        vertical-align: top;\n",
       "    }\n",
       "\n",
       "    .dataframe thead th {\n",
       "        text-align: right;\n",
       "    }\n",
       "</style>\n",
       "<table border=\"1\" class=\"dataframe\">\n",
       "  <thead>\n",
       "    <tr style=\"text-align: right;\">\n",
       "      <th></th>\n",
       "      <th>title</th>\n",
       "      <th>channel</th>\n",
       "      <th>link</th>\n",
       "    </tr>\n",
       "  </thead>\n",
       "  <tbody>\n",
       "  </tbody>\n",
       "</table>\n",
       "</div>"
      ],
      "text/plain": [
       "Empty DataFrame\n",
       "Columns: [title, channel, link]\n",
       "Index: []"
      ]
     },
     "execution_count": 21,
     "metadata": {},
     "output_type": "execute_result"
    }
   ],
   "source": [
    "df_Lisa = pd.DataFrame(video_list_LISA, columns = (['title','channel','link']))\n",
    "df_Lisa"
   ]
  },
  {
   "cell_type": "markdown",
   "metadata": {},
   "source": [
    "### CSV 저장"
   ]
  },
  {
   "cell_type": "code",
   "execution_count": 22,
   "metadata": {},
   "outputs": [
    {
     "name": "stdout",
     "output_type": "stream",
     "text": [
      "Success\n"
     ]
    }
   ],
   "source": [
    "df_Lisa.to_csv(\"./data/youtube_links/Brand_offical_LISA_Celine_only.csv\", sep = \"|\", encoding = \"utf-8\", index= False)\n",
    "print(\"Success\")"
   ]
  },
  {
   "cell_type": "code",
   "execution_count": null,
   "metadata": {},
   "outputs": [],
   "source": []
  }
 ],
 "metadata": {
  "kernelspec": {
   "display_name": "Python 3",
   "language": "python",
   "name": "python3"
  },
  "language_info": {
   "codemirror_mode": {
    "name": "ipython",
    "version": 3
   },
   "file_extension": ".py",
   "mimetype": "text/x-python",
   "name": "python",
   "nbconvert_exporter": "python",
   "pygments_lexer": "ipython3",
   "version": "3.7.6"
  }
 },
 "nbformat": 4,
 "nbformat_minor": 4
}
