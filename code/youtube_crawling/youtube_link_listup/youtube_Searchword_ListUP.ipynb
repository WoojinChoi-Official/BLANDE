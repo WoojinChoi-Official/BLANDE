{
 "cells": [
  {
   "cell_type": "code",
   "execution_count": 7,
   "metadata": {},
   "outputs": [],
   "source": [
    "import pandas as pd\n",
    "from selenium   import webdriver\n",
    "from selenium.webdriver.support.ui import WebDriverWait\n",
    "import time"
   ]
  },
  {
   "cell_type": "markdown",
   "metadata": {},
   "source": [
    "## 0. Youtube 검색"
   ]
  },
  {
   "cell_type": "code",
   "execution_count": 8,
   "metadata": {},
   "outputs": [],
   "source": [
    "searchWordDict = {'리사' : ['리사', '셀린'],\n",
    "                  '제니' : ['제니', '샤넬'],\n",
    "                  '로제' : ['로제', '로랑'],\n",
    "                  '지수' : ['지수', '디올']}"
   ]
  },
  {
   "cell_type": "code",
   "execution_count": 9,
   "metadata": {},
   "outputs": [],
   "source": [
    "searchIndex = 0"
   ]
  },
  {
   "cell_type": "code",
   "execution_count": 10,
   "metadata": {},
   "outputs": [
    {
     "name": "stdout",
     "output_type": "stream",
     "text": [
      "리사\n",
      "셀린\n"
     ]
    }
   ],
   "source": [
    "searchWord = list(searchWordDict.values())[searchIndex][0]\n",
    "searchWord_brand = list(searchWordDict.values())[searchIndex][1]\n",
    "print(searchWord)\n",
    "print(searchWord_brand)"
   ]
  },
  {
   "cell_type": "code",
   "execution_count": 11,
   "metadata": {},
   "outputs": [
    {
     "name": "stdout",
     "output_type": "stream",
     "text": [
      "리사\n",
      "리사+셀린\n",
      "리사+teaser\n"
     ]
    }
   ],
   "source": [
    "searchQuery = searchWord\n",
    "searchQuery_brand = searchWord + '+' + searchWord_brand\n",
    "searchQuery_teaser = searchWord + '+' + 'teaser'\n",
    "\n",
    "print(searchQuery)\n",
    "print(searchQuery_brand)\n",
    "print(searchQuery_teaser)"
   ]
  },
  {
   "cell_type": "code",
   "execution_count": 12,
   "metadata": {},
   "outputs": [],
   "source": [
    "# 현재 크롬 버전과 동일한 버전의 chromedriver.exe 파일 읽어옴\n",
    "driver = webdriver.Chrome(executable_path = 'C:/programming/multi_final_project/driver/chromedriver.exe')\n",
    "\n",
    "# 크롤링할 주소\n",
    "url = 'https://www.youtube.com/results?search_query='\n",
    "\n",
    "# 멤버명\n",
    "url_bp = url + searchQuery\n",
    "\n",
    "# 멤버명+브랜드\n",
    "url_bp_brand = url + searchQuery_brand\n",
    "\n",
    "# 멤버명+티저\n",
    "url_teaser = url + searchQuery_teaser\n",
    "\n",
    "# 해당 url을 크롬 새창으로 띄움\n",
    "driver.get(url_bp)"
   ]
  },
  {
   "cell_type": "markdown",
   "metadata": {},
   "source": [
    "## 1.1 크롤링(스크롤 내리지 않음)"
   ]
  },
  {
   "cell_type": "code",
   "execution_count": 13,
   "metadata": {},
   "outputs": [
    {
     "data": {
      "text/plain": [
       "10"
      ]
     },
     "execution_count": 13,
     "metadata": {},
     "output_type": "execute_result"
    }
   ],
   "source": [
    "elements = driver.find_elements_by_css_selector('#contents > ytd-video-renderer')\n",
    "len(elements)"
   ]
  },
  {
   "cell_type": "code",
   "execution_count": 14,
   "metadata": {},
   "outputs": [
    {
     "data": {
      "text/plain": [
       "'나중에 볼 동영상\\n[선공개] 리사의 ⚡️업그레이드된 태국 춤 = ′게 춤′♪ (point. 무표정😶) 아는 형님(Knowing bros) 251회\\n조회수 1267만회\\n1개월 전\\nJTBC Entertainment\\n[선공개] 리사의 ⚡️업그레이드된 태국 춤 = ′게 춤′♪ (point. 무표정 ) ＃아는형님 ＃블랙핑크 ＃리사.'"
      ]
     },
     "execution_count": 14,
     "metadata": {},
     "output_type": "execute_result"
    }
   ],
   "source": [
    "elements[0].text"
   ]
  },
  {
   "cell_type": "markdown",
   "metadata": {},
   "source": [
    "- 제목"
   ]
  },
  {
   "cell_type": "code",
   "execution_count": 15,
   "metadata": {},
   "outputs": [
    {
     "data": {
      "text/plain": [
       "'[선공개] 리사의 ⚡️업그레이드된 태국 춤 = ′게 춤′♪ (point. 무표정😶) 아는 형님(Knowing bros) 251회'"
      ]
     },
     "execution_count": 15,
     "metadata": {},
     "output_type": "execute_result"
    }
   ],
   "source": [
    "title = elements[0].find_element_by_css_selector('#video-title')\n",
    "title.text"
   ]
  },
  {
   "cell_type": "markdown",
   "metadata": {},
   "source": [
    "- 채널명"
   ]
  },
  {
   "cell_type": "code",
   "execution_count": 16,
   "metadata": {},
   "outputs": [
    {
     "data": {
      "text/plain": [
       "'JTBC Entertainment'"
      ]
     },
     "execution_count": 16,
     "metadata": {},
     "output_type": "execute_result"
    }
   ],
   "source": [
    "chanel = elements[0].find_element_by_css_selector('#channel-info > #channel-name > div > div > yt-formatted-string > a')\n",
    "chanel.text"
   ]
  },
  {
   "cell_type": "markdown",
   "metadata": {},
   "source": [
    "- 링크"
   ]
  },
  {
   "cell_type": "code",
   "execution_count": 17,
   "metadata": {},
   "outputs": [
    {
     "data": {
      "text/plain": [
       "'https://www.youtube.com/watch?v=Kzwog2_TQFw'"
      ]
     },
     "execution_count": 17,
     "metadata": {},
     "output_type": "execute_result"
    }
   ],
   "source": [
    "link = elements[0].find_element_by_css_selector('#video-title').get_attribute('href')\n",
    "link"
   ]
  },
  {
   "cell_type": "markdown",
   "metadata": {},
   "source": [
    "- 조회수"
   ]
  },
  {
   "cell_type": "code",
   "execution_count": 18,
   "metadata": {},
   "outputs": [
    {
     "data": {
      "text/plain": [
       "'1267만회'"
      ]
     },
     "execution_count": 18,
     "metadata": {},
     "output_type": "execute_result"
    }
   ],
   "source": [
    "viewCount = elements[0].find_element_by_css_selector('div > div > div > ytd-video-meta-block > div > div > span')\n",
    "viewCount.text[4:] # 조회수는 명확한 수치가 아니여서 해당 링크 이동 수 크롤링"
   ]
  },
  {
   "cell_type": "markdown",
   "metadata": {},
   "source": [
    "## 1.2 크롤링(스크롤 내림)"
   ]
  },
  {
   "cell_type": "code",
   "execution_count": 19,
   "metadata": {},
   "outputs": [],
   "source": [
    "# 전체 요소 읽어옴\n",
    "def getElement() :\n",
    "    elements = driver.find_elements_by_css_selector('#contents > ytd-video-renderer')    \n",
    "    \n",
    "    for element in elements :\n",
    "        titleList.append(element.find_element_by_css_selector('#video-title').text)\n",
    "        linkList.append(element.find_element_by_css_selector('#video-title').get_attribute('href'))\n",
    "        chanelList.append(element.find_element_by_css_selector('#channel-info > #channel-name > div > div > yt-formatted-string > a').text)"
   ]
  },
  {
   "cell_type": "code",
   "execution_count": null,
   "metadata": {},
   "outputs": [],
   "source": []
  },
  {
   "cell_type": "code",
   "execution_count": 20,
   "metadata": {},
   "outputs": [
    {
     "name": "stdout",
     "output_type": "stream",
     "text": [
      "5082\n"
     ]
    }
   ],
   "source": [
    "# 스크롤바 높이를 뺀 페이저 전체 길이\n",
    "last_page_height = driver.execute_script('return document.documentElement.scrollHeight')\n",
    "print(last_page_height)"
   ]
  },
  {
   "cell_type": "code",
   "execution_count": 21,
   "metadata": {},
   "outputs": [],
   "source": [
    "# n번의 스크롤을 내린 페이지\n",
    "# pLastPageHeight : 스크롤 내리는 횟수\n",
    "def getScrollPage(pLastPageHeight) :\n",
    "    \n",
    "    delay = 5.0\n",
    "    \n",
    "    for scroll in range(pLastPageHeight) :\n",
    "        print(scroll)\n",
    "        \n",
    "        # 화면 최하단으로 스크롤 내림\n",
    "        driver.execute_script('window.scrollTo(0, document.documentElement.scrollHeight);')        \n",
    "        \n",
    "        # 5초에에 한번씩 스크롤 내림\n",
    "        time.sleep(delay)\n",
    "        \n",
    "    return True"
   ]
  },
  {
   "cell_type": "code",
   "execution_count": null,
   "metadata": {},
   "outputs": [
    {
     "name": "stdout",
     "output_type": "stream",
     "text": [
      "0\n",
      "1\n",
      "2\n",
      "3\n",
      "4\n",
      "5\n",
      "6\n",
      "7\n",
      "8\n",
      "9\n",
      "10\n",
      "11\n",
      "12\n",
      "13\n",
      "14\n",
      "15\n",
      "16\n",
      "17\n"
     ]
    }
   ],
   "source": [
    "titleList = []\n",
    "linkList = []\n",
    "chanelList = []\n",
    "\n",
    "if getScrollPage(20) == True :\n",
    "    getElement()"
   ]
  },
  {
   "cell_type": "code",
   "execution_count": null,
   "metadata": {},
   "outputs": [],
   "source": [
    "print(len(titleList), len(linkList), len(chanelList))"
   ]
  },
  {
   "cell_type": "code",
   "execution_count": null,
   "metadata": {},
   "outputs": [],
   "source": [
    "scrollHeight = driver.execute_script(\"return document.documentElement.scrollHeight\")\n",
    "scrollHeight"
   ]
  },
  {
   "cell_type": "code",
   "execution_count": null,
   "metadata": {},
   "outputs": [],
   "source": [
    "titleList"
   ]
  },
  {
   "cell_type": "code",
   "execution_count": null,
   "metadata": {},
   "outputs": [],
   "source": [
    "linkList"
   ]
  },
  {
   "cell_type": "code",
   "execution_count": null,
   "metadata": {},
   "outputs": [],
   "source": [
    "chanelList"
   ]
  },
  {
   "cell_type": "markdown",
   "metadata": {},
   "source": [
    "## 2. 크롤링한 데이터 저장(.csv)"
   ]
  },
  {
   "cell_type": "code",
   "execution_count": null,
   "metadata": {},
   "outputs": [],
   "source": [
    "df = pd.DataFrame(data = {'title' : titleList,\n",
    "                         'channel' : chanelList,\n",
    "                         'link' : linkList})"
   ]
  },
  {
   "cell_type": "code",
   "execution_count": null,
   "metadata": {},
   "outputs": [],
   "source": [
    "df.head()"
   ]
  },
  {
   "cell_type": "code",
   "execution_count": null,
   "metadata": {},
   "outputs": [],
   "source": [
    "# 크롤링 결과 csv로 만듬\n",
    "csvFileName = './data/youtube/blackpink_' + searchQuery_brand +'.csv'\n",
    "resDf = df\n",
    "resDf.to_csv(csvFileName, sep = '|', encoding = 'utf-8', index = False)"
   ]
  },
  {
   "cell_type": "code",
   "execution_count": null,
   "metadata": {},
   "outputs": [],
   "source": [
    "'./data/youtube/blackpink_' + searchQuery_brand +'.csv'"
   ]
  },
  {
   "cell_type": "markdown",
   "metadata": {},
   "source": [
    "## 99. 웹드라이버 종료"
   ]
  },
  {
   "cell_type": "code",
   "execution_count": null,
   "metadata": {},
   "outputs": [],
   "source": [
    "driver.close()"
   ]
  }
 ],
 "metadata": {
  "kernelspec": {
   "display_name": "Python 3",
   "language": "python",
   "name": "python3"
  },
  "language_info": {
   "codemirror_mode": {
    "name": "ipython",
    "version": 3
   },
   "file_extension": ".py",
   "mimetype": "text/x-python",
   "name": "python",
   "nbconvert_exporter": "python",
   "pygments_lexer": "ipython3",
   "version": "3.7.6"
  }
 },
 "nbformat": 4,
 "nbformat_minor": 4
}
