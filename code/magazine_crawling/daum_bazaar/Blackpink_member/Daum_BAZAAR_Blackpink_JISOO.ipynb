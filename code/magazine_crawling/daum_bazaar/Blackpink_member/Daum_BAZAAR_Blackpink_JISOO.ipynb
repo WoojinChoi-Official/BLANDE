{
 "cells": [
  {
   "cell_type": "code",
   "execution_count": 28,
   "metadata": {},
   "outputs": [],
   "source": [
    "import pandas as pd\n",
    "import numpy as np\n",
    "import time"
   ]
  },
  {
   "cell_type": "code",
   "execution_count": 29,
   "metadata": {},
   "outputs": [],
   "source": [
    "from selenium import webdriver\n",
    "from selenium.webdriver.common.by import By   # 특정 요소 존재 여부 확인\n",
    "from selenium.webdriver.support.ui import WebDriverWait # 웹 페이지 로딩 완료될 때까지 대기\n",
    "from selenium.webdriver.support import expected_conditions as EC\n",
    "from selenium.webdriver.common.keys import Keys # key event 발생 시킴\n",
    "from selenium.webdriver.support.select import Select\n",
    "\n",
    "# Exception\n",
    "from selenium.common.exceptions import TimeoutException, NoSuchElementException"
   ]
  },
  {
   "cell_type": "code",
   "execution_count": 30,
   "metadata": {},
   "outputs": [],
   "source": [
    "path = 'C:/programming/multi_final_project/driver/chromedriver.exe'\n",
    "\n",
    "# 다음뉴스 -> 브랜드 검색 --> 기간 지정 (16.08.01~ 20.12.10) -->  최신순 --> 출처(하퍼스바자) 까지 선택한 후의 링크 \n",
    "Url = 'https://search.daum.net/search?w=news&sort=recency&q={}&cluster=n&dc=STC&pg=1&r=1&p={}&rc=1&at=more&sd=20160801000000&ed=20201210235959&period=u&cpname=%ED%95%98%ED%8D%BC%EC%8A%A4%EB%B0%94%EC%9E%90&cp=16tGeOd_Hc_jGqFhjc'"
   ]
  },
  {
   "cell_type": "code",
   "execution_count": 31,
   "metadata": {},
   "outputs": [],
   "source": [
    "def short_naming(member_name):\n",
    "    if member_name == '제니':\n",
    "        return \"Je\"\n",
    "    elif member_name == '지수':\n",
    "        return \"Ji\"\n",
    "    elif member_name == '로제':\n",
    "        return \"R\"\n",
    "    elif member_name == '리사':\n",
    "        return \"L\"\n",
    "    else:\n",
    "        return \"입력오류\""
   ]
  },
  {
   "cell_type": "code",
   "execution_count": 32,
   "metadata": {},
   "outputs": [],
   "source": [
    "SearchWord = ['지수']\n",
    "member_code = short_naming(SearchWord[0])"
   ]
  },
  {
   "cell_type": "code",
   "execution_count": 33,
   "metadata": {},
   "outputs": [],
   "source": [
    "magazine = 'Daum_BAZZAR'"
   ]
  },
  {
   "cell_type": "code",
   "execution_count": 34,
   "metadata": {},
   "outputs": [],
   "source": [
    "# 리스트 초기화 \n",
    "\n",
    "titleList = []\n",
    "linkList = []\n",
    "dateList = []\n",
    "categoryList = []\n",
    "contentList = []\n",
    "Temp_contentList = []"
   ]
  },
  {
   "cell_type": "code",
   "execution_count": null,
   "metadata": {},
   "outputs": [],
   "source": []
  },
  {
   "cell_type": "markdown",
   "metadata": {},
   "source": [
    "### 크롬 브라우저 제어할 수 있는 객체, 웹브라우저 실행"
   ]
  },
  {
   "cell_type": "code",
   "execution_count": 62,
   "metadata": {},
   "outputs": [
    {
     "data": {
      "text/plain": [
       "<selenium.webdriver.chrome.webdriver.WebDriver (session=\"44eb9a1e1e8142d792ca9ff2234cd91e\")>"
      ]
     },
     "execution_count": 62,
     "metadata": {},
     "output_type": "execute_result"
    }
   ],
   "source": [
    "driver = webdriver.Chrome(path)     # 크롬 브라우저 제어할 수 있는 객체, 웹브라우저 실행\n",
    "driver"
   ]
  },
  {
   "cell_type": "markdown",
   "metadata": {},
   "source": [
    "### 크롤링 실행 (end_of_page = 12)"
   ]
  },
  {
   "cell_type": "code",
   "execution_count": 63,
   "metadata": {
    "scrolled": true
   },
   "outputs": [
    {
     "name": "stdout",
     "output_type": "stream",
     "text": [
      "제목 :  자외선! 피할 수 없다면 케어하라\n",
      "날짜 : 2019.04.11\n"
     ]
    },
    {
     "name": "stderr",
     "output_type": "stream",
     "text": [
      "C:\\ProgramData\\Anaconda3\\lib\\site-packages\\ipykernel_launcher.py:27: DeprecationWarning: use driver.switch_to.window instead\n"
     ]
    },
    {
     "name": "stdout",
     "output_type": "stream",
     "text": [
      "link : https://www.harpersbazaar.co.kr/article/40042\n",
      "BEAUTY\n"
     ]
    },
    {
     "name": "stderr",
     "output_type": "stream",
     "text": [
      "C:\\ProgramData\\Anaconda3\\lib\\site-packages\\ipykernel_launcher.py:48: DeprecationWarning: use driver.switch_to.window instead\n"
     ]
    },
    {
     "name": "stdout",
     "output_type": "stream",
     "text": [
      "완료 : 3페이지, 0번 게시물\n",
      "--------------------------------------------------\n",
      "제목 :  선스틱, 잘 못쓰면 피부 저승 버튼\n",
      "날짜 : 2019.04.05\n",
      "link : https://www.harpersbazaar.co.kr/article/40054\n",
      "BEAUTY\n",
      "완료 : 3페이지, 1번 게시물\n",
      "--------------------------------------------------\n",
      "제목 :  봄맞이 추천 화장품!\n",
      "날짜 : 2019.04.03\n",
      "link : https://www.harpersbazaar.co.kr/article/40024\n",
      "BEAUTY\n",
      "완료 : 3페이지, 2번 게시물\n",
      "--------------------------------------------------\n",
      "제목 :  미모 지수를 높이고 싶다면 이것만 기억해라!\n",
      "날짜 : 2019.02.15\n",
      "link : https://www.harpersbazaar.co.kr/article/39927\n",
      "BEAUTY\n",
      "완료 : 3페이지, 3번 게시물\n",
      "--------------------------------------------------\n",
      "제목 :  여름나라로 떠날 땐 어떤 뷰티템을?\n",
      "날짜 : 2019.01.24\n",
      "link : https://www.harpersbazaar.co.kr/article/39879\n",
      "BEAUTY\n",
      "완료 : 3페이지, 4번 게시물\n",
      "--------------------------------------------------\n",
      "제목 :  이젠 #말린살구 컬러가 대세\n",
      "날짜 : 2019.01.11\n",
      "link : https://www.harpersbazaar.co.kr/article/39831\n",
      "BEAUTY\n",
      "완료 : 3페이지, 5번 게시물\n",
      "--------------------------------------------------\n",
      "제목 :  우아한 가난의 시대\n",
      "날짜 : 2018.12.19\n",
      "link : https://www.harpersbazaar.co.kr/article/39792\n",
      "LIFESTYLE\n",
      "완료 : 3페이지, 6번 게시물\n",
      "--------------------------------------------------\n",
      "제목 :  쿠션, 어떤게 좋아?\n",
      "날짜 : 2018.09.16\n",
      "link : https://www.harpersbazaar.co.kr/article/39541\n",
      "BEAUTY\n",
      "완료 : 3페이지, 7번 게시물\n",
      "--------------------------------------------------\n",
      "제목 :  바캉스 스타일링 팁\n",
      "날짜 : 2018.07.18\n",
      "link : https://www.harpersbazaar.co.kr/article/39380\n",
      "FASHION\n",
      "완료 : 3페이지, 8번 게시물\n",
      "--------------------------------------------------\n",
      "제목 :  부종만 잘 관리해도 살이 빠진다\n",
      "날짜 : 2018.05.15\n",
      "link : https://www.harpersbazaar.co.kr/article/39163\n",
      "BEAUTY\n",
      "완료 : 3페이지, 9번 게시물\n",
      "--------------------------------------------------\n",
      "제목 :  피부 에너지를 주세요 #생기템\n",
      "날짜 : 2018.04.15\n",
      "link : https://www.harpersbazaar.co.kr/article/39040\n",
      "BEAUTY\n",
      "완료 : 4페이지, 0번 게시물\n",
      "--------------------------------------------------\n"
     ]
    }
   ],
   "source": [
    "# 제니 : 4페이지 \n",
    "# 지수 : 4페이지 \n",
    "\n",
    "end_of_page = 5\n",
    "\n",
    "for page in range(3,end_of_page) :\n",
    "    driver.get(Url.format(SearchWord[0], page))\n",
    "    contElements = driver.find_elements_by_css_selector('#newsResultUL > li')\n",
    "    \n",
    "    for i, cont in enumerate(contElements):\n",
    "        \n",
    "        #제목 가져오기\n",
    "        title = cont.find_element_by_xpath('//*[@id=\"newsResultUL\"]/li[{}]/div/div/div/a'.format(i+1))\n",
    "        titleList.append(str(title.text))\n",
    "        print('제목 : ', title.text)\n",
    "       \n",
    "        #날짜 가져오기\n",
    "        date = cont.find_element_by_css_selector('span.f_nb.date').text[:10]\n",
    "        dateList.append(date)\n",
    "        print('날짜 :', date)\n",
    "        \n",
    "        #페이지 클릭\n",
    "        title.click()  \n",
    "        time.sleep(2)\n",
    "\n",
    "        # 새 탭으로 이동 \n",
    "        driver.switch_to_window(driver.window_handles[1])\n",
    "\n",
    "        link = driver.find_element_by_css_selector('head > meta:nth-child(9)').get_attribute('content')\n",
    "        linkList.append(link)\n",
    "        print('link :', link)\n",
    "        \n",
    "        \n",
    "        ## 카테고리 가져오기        \n",
    "        try:\n",
    "            category =  driver.find_element_by_xpath('//*[@id=\"contents\"]/div/div[1]/div/span').text\n",
    "            categoryList.append(category)\n",
    "            print(category)\n",
    "        except:\n",
    "            category =  \"NA\"\n",
    "            categoryList.append(category)\n",
    "            print(category)\n",
    "\n",
    "            \n",
    "        driver.close()\n",
    "\n",
    "        # 메인 탭으로 가기 \n",
    "        driver.switch_to_window(driver.window_handles[0])\n",
    "        time.sleep(2)\n",
    "        \n",
    "        # 게시물 10개 읽으면 다음 페이지로 \n",
    "        print(\"완료 : {}페이지, {}번 게시물\".format(page, i))\n",
    "        print('-'*50)\n",
    "        \n",
    "        if i == 9:\n",
    "            break\n",
    "        \n"
   ]
  },
  {
   "cell_type": "markdown",
   "metadata": {},
   "source": [
    "### 크롤링 결과 확인 "
   ]
  },
  {
   "cell_type": "code",
   "execution_count": 64,
   "metadata": {},
   "outputs": [],
   "source": [
    "# titleList = titleList[:10] \n",
    "# dateList   = dateList[:10]\n",
    "# linkList  = linkList[:10]\n",
    "# categoryList = categoryList[:10]\n",
    "\n",
    "\n",
    "# 2페이지 5 번 인덱스 게시물 : time over "
   ]
  },
  {
   "cell_type": "code",
   "execution_count": null,
   "metadata": {},
   "outputs": [],
   "source": []
  },
  {
   "cell_type": "code",
   "execution_count": null,
   "metadata": {},
   "outputs": [],
   "source": []
  },
  {
   "cell_type": "code",
   "execution_count": 70,
   "metadata": {},
   "outputs": [
    {
     "name": "stdout",
     "output_type": "stream",
     "text": [
      "len : 27\n",
      "['튀면 어때! 예쁘면 그만. 셀럽들의 알록달록 크롭트 톱', '여름 짜증 지수 내려주는 뷰티 리스트', '난리 난 블랙핑크의 네일아트, 왜?', '모델들이 요새 애용 중인 뷰티템은 무엇?', \"'하트시그널 3' 그녀들이 예쁜 이유\", '이 쇼츠엔 이 슈즈!', '스타일링이 어려운 베스트, 이렇게 입어!', '오직 <바자>에서만 볼 수 있는 지수의 인터뷰와 비하인드 컷', \"하퍼스 바자 2020년 첫 커버 주인공 '지수'\", '돌고 도는 #탑골공원 패션', '전문가들이 추천하는 우울증 극복하는 방법', '#스타의식탁 강민경의 이중생활', '하반기 뷰티 트렌드가 궁금해', '모르면 손해! 센스지수 올려주는 캠핑템', '크림마스크 써봤어?', '23년 장수 화장품', '자외선! 피할 수 없다면 케어하라', '선스틱, 잘 못쓰면 피부 저승 버튼', '봄맞이 추천 화장품!', '미모 지수를 높이고 싶다면 이것만 기억해라!', '여름나라로 떠날 땐 어떤 뷰티템을?', '이젠 #말린살구 컬러가 대세', '우아한 가난의 시대', '쿠션, 어떤게 좋아?', '바캉스 스타일링 팁', '부종만 잘 관리해도 살이 빠진다', '피부 에너지를 주세요 #생기템']\n"
     ]
    }
   ],
   "source": [
    "print('len :', len(titleList))\n",
    "print(titleList)"
   ]
  },
  {
   "cell_type": "code",
   "execution_count": 66,
   "metadata": {},
   "outputs": [
    {
     "data": {
      "text/plain": [
       "26"
      ]
     },
     "execution_count": 66,
     "metadata": {},
     "output_type": "execute_result"
    }
   ],
   "source": [
    "len(categoryList)"
   ]
  },
  {
   "cell_type": "code",
   "execution_count": 71,
   "metadata": {
    "scrolled": true
   },
   "outputs": [
    {
     "name": "stdout",
     "output_type": "stream",
     "text": [
      "len : 26\n",
      "['https://www.harpersbazaar.co.kr/article/48283', 'https://www.harpersbazaar.co.kr/article/48064', 'https://www.harpersbazaar.co.kr/article/47719', 'https://www.harpersbazaar.co.kr/article/47526', 'https://www.harpersbazaar.co.kr/article/47389', 'https://www.harpersbazaar.co.kr/article/46505', 'https://www.harpersbazaar.co.kr/article/45855', 'https://www.harpersbazaar.co.kr/article/43987', 'https://www.harpersbazaar.co.kr/article/43747', 'https://www.harpersbazaar.co.kr/article/42884', 'https://www.harpersbazaar.co.kr/article/42654', 'https://www.harpersbazaar.co.kr/article/41953', 'https://www.harpersbazaar.co.kr/article/40444', 'https://www.harpersbazaar.co.kr/article/40381', 'https://www.harpersbazaar.co.kr/article/40363', 'https://www.harpersbazaar.co.kr/article/40042', 'https://www.harpersbazaar.co.kr/article/40054', 'https://www.harpersbazaar.co.kr/article/40024', 'https://www.harpersbazaar.co.kr/article/39927', 'https://www.harpersbazaar.co.kr/article/39879', 'https://www.harpersbazaar.co.kr/article/39831', 'https://www.harpersbazaar.co.kr/article/39792', 'https://www.harpersbazaar.co.kr/article/39541', 'https://www.harpersbazaar.co.kr/article/39380', 'https://www.harpersbazaar.co.kr/article/39163', 'https://www.harpersbazaar.co.kr/article/39040']\n"
     ]
    }
   ],
   "source": [
    "print('len :', len(linkList))\n",
    "print(linkList)"
   ]
  },
  {
   "cell_type": "code",
   "execution_count": 72,
   "metadata": {},
   "outputs": [
    {
     "name": "stdout",
     "output_type": "stream",
     "text": [
      "len : 27\n",
      "['2020.08.18', '2020.08.07', '2020.07.17', '2020.07.07', '2020.06.30', '2020.05.14', '2020.04.08', '2020.01.07', '2019.12.18', '2019.10.28', '2019.10.14', '2019.09.03', '2019.08.05', '2019.07.31', '2019.07.31', '2019.07.30', '2019.04.11', '2019.04.05', '2019.04.03', '2019.02.15', '2019.01.24', '2019.01.11', '2018.12.19', '2018.09.16', '2018.07.18', '2018.05.15', '2018.04.15']\n"
     ]
    }
   ],
   "source": [
    "print('len :', len(dateList))\n",
    "print(dateList)"
   ]
  },
  {
   "cell_type": "code",
   "execution_count": 73,
   "metadata": {},
   "outputs": [
    {
     "ename": "ValueError",
     "evalue": "arrays must all be same length",
     "output_type": "error",
     "traceback": [
      "\u001b[1;31m---------------------------------------------------------------------------\u001b[0m",
      "\u001b[1;31mValueError\u001b[0m                                Traceback (most recent call last)",
      "\u001b[1;32m<ipython-input-73-9af0ba2ce894>\u001b[0m in \u001b[0;36m<module>\u001b[1;34m\u001b[0m\n\u001b[0;32m      3\u001b[0m     \u001b[1;34m'date'\u001b[0m  \u001b[1;33m:\u001b[0m \u001b[0mdateList\u001b[0m\u001b[1;33m,\u001b[0m\u001b[1;33m\u001b[0m\u001b[1;33m\u001b[0m\u001b[0m\n\u001b[0;32m      4\u001b[0m     \u001b[1;34m'link'\u001b[0m  \u001b[1;33m:\u001b[0m \u001b[0mlinkList\u001b[0m\u001b[1;33m,\u001b[0m\u001b[1;33m\u001b[0m\u001b[1;33m\u001b[0m\u001b[0m\n\u001b[1;32m----> 5\u001b[1;33m     \u001b[1;34m'category'\u001b[0m \u001b[1;33m:\u001b[0m \u001b[0mcategoryList\u001b[0m\u001b[1;33m\u001b[0m\u001b[1;33m\u001b[0m\u001b[0m\n\u001b[0m\u001b[0;32m      6\u001b[0m })\n",
      "\u001b[1;32mC:\\ProgramData\\Anaconda3\\lib\\site-packages\\pandas\\core\\frame.py\u001b[0m in \u001b[0;36m__init__\u001b[1;34m(self, data, index, columns, dtype, copy)\u001b[0m\n\u001b[0;32m    433\u001b[0m             )\n\u001b[0;32m    434\u001b[0m         \u001b[1;32melif\u001b[0m \u001b[0misinstance\u001b[0m\u001b[1;33m(\u001b[0m\u001b[0mdata\u001b[0m\u001b[1;33m,\u001b[0m \u001b[0mdict\u001b[0m\u001b[1;33m)\u001b[0m\u001b[1;33m:\u001b[0m\u001b[1;33m\u001b[0m\u001b[1;33m\u001b[0m\u001b[0m\n\u001b[1;32m--> 435\u001b[1;33m             \u001b[0mmgr\u001b[0m \u001b[1;33m=\u001b[0m \u001b[0minit_dict\u001b[0m\u001b[1;33m(\u001b[0m\u001b[0mdata\u001b[0m\u001b[1;33m,\u001b[0m \u001b[0mindex\u001b[0m\u001b[1;33m,\u001b[0m \u001b[0mcolumns\u001b[0m\u001b[1;33m,\u001b[0m \u001b[0mdtype\u001b[0m\u001b[1;33m=\u001b[0m\u001b[0mdtype\u001b[0m\u001b[1;33m)\u001b[0m\u001b[1;33m\u001b[0m\u001b[1;33m\u001b[0m\u001b[0m\n\u001b[0m\u001b[0;32m    436\u001b[0m         \u001b[1;32melif\u001b[0m \u001b[0misinstance\u001b[0m\u001b[1;33m(\u001b[0m\u001b[0mdata\u001b[0m\u001b[1;33m,\u001b[0m \u001b[0mma\u001b[0m\u001b[1;33m.\u001b[0m\u001b[0mMaskedArray\u001b[0m\u001b[1;33m)\u001b[0m\u001b[1;33m:\u001b[0m\u001b[1;33m\u001b[0m\u001b[1;33m\u001b[0m\u001b[0m\n\u001b[0;32m    437\u001b[0m             \u001b[1;32mimport\u001b[0m \u001b[0mnumpy\u001b[0m\u001b[1;33m.\u001b[0m\u001b[0mma\u001b[0m\u001b[1;33m.\u001b[0m\u001b[0mmrecords\u001b[0m \u001b[1;32mas\u001b[0m \u001b[0mmrecords\u001b[0m\u001b[1;33m\u001b[0m\u001b[1;33m\u001b[0m\u001b[0m\n",
      "\u001b[1;32mC:\\ProgramData\\Anaconda3\\lib\\site-packages\\pandas\\core\\internals\\construction.py\u001b[0m in \u001b[0;36minit_dict\u001b[1;34m(data, index, columns, dtype)\u001b[0m\n\u001b[0;32m    252\u001b[0m             \u001b[0marr\u001b[0m \u001b[1;32mif\u001b[0m \u001b[1;32mnot\u001b[0m \u001b[0mis_datetime64tz_dtype\u001b[0m\u001b[1;33m(\u001b[0m\u001b[0marr\u001b[0m\u001b[1;33m)\u001b[0m \u001b[1;32melse\u001b[0m \u001b[0marr\u001b[0m\u001b[1;33m.\u001b[0m\u001b[0mcopy\u001b[0m\u001b[1;33m(\u001b[0m\u001b[1;33m)\u001b[0m \u001b[1;32mfor\u001b[0m \u001b[0marr\u001b[0m \u001b[1;32min\u001b[0m \u001b[0marrays\u001b[0m\u001b[1;33m\u001b[0m\u001b[1;33m\u001b[0m\u001b[0m\n\u001b[0;32m    253\u001b[0m         ]\n\u001b[1;32m--> 254\u001b[1;33m     \u001b[1;32mreturn\u001b[0m \u001b[0marrays_to_mgr\u001b[0m\u001b[1;33m(\u001b[0m\u001b[0marrays\u001b[0m\u001b[1;33m,\u001b[0m \u001b[0mdata_names\u001b[0m\u001b[1;33m,\u001b[0m \u001b[0mindex\u001b[0m\u001b[1;33m,\u001b[0m \u001b[0mcolumns\u001b[0m\u001b[1;33m,\u001b[0m \u001b[0mdtype\u001b[0m\u001b[1;33m=\u001b[0m\u001b[0mdtype\u001b[0m\u001b[1;33m)\u001b[0m\u001b[1;33m\u001b[0m\u001b[1;33m\u001b[0m\u001b[0m\n\u001b[0m\u001b[0;32m    255\u001b[0m \u001b[1;33m\u001b[0m\u001b[0m\n\u001b[0;32m    256\u001b[0m \u001b[1;33m\u001b[0m\u001b[0m\n",
      "\u001b[1;32mC:\\ProgramData\\Anaconda3\\lib\\site-packages\\pandas\\core\\internals\\construction.py\u001b[0m in \u001b[0;36marrays_to_mgr\u001b[1;34m(arrays, arr_names, index, columns, dtype)\u001b[0m\n\u001b[0;32m     62\u001b[0m     \u001b[1;31m# figure out the index, if necessary\u001b[0m\u001b[1;33m\u001b[0m\u001b[1;33m\u001b[0m\u001b[1;33m\u001b[0m\u001b[0m\n\u001b[0;32m     63\u001b[0m     \u001b[1;32mif\u001b[0m \u001b[0mindex\u001b[0m \u001b[1;32mis\u001b[0m \u001b[1;32mNone\u001b[0m\u001b[1;33m:\u001b[0m\u001b[1;33m\u001b[0m\u001b[1;33m\u001b[0m\u001b[0m\n\u001b[1;32m---> 64\u001b[1;33m         \u001b[0mindex\u001b[0m \u001b[1;33m=\u001b[0m \u001b[0mextract_index\u001b[0m\u001b[1;33m(\u001b[0m\u001b[0marrays\u001b[0m\u001b[1;33m)\u001b[0m\u001b[1;33m\u001b[0m\u001b[1;33m\u001b[0m\u001b[0m\n\u001b[0m\u001b[0;32m     65\u001b[0m     \u001b[1;32melse\u001b[0m\u001b[1;33m:\u001b[0m\u001b[1;33m\u001b[0m\u001b[1;33m\u001b[0m\u001b[0m\n\u001b[0;32m     66\u001b[0m         \u001b[0mindex\u001b[0m \u001b[1;33m=\u001b[0m \u001b[0mensure_index\u001b[0m\u001b[1;33m(\u001b[0m\u001b[0mindex\u001b[0m\u001b[1;33m)\u001b[0m\u001b[1;33m\u001b[0m\u001b[1;33m\u001b[0m\u001b[0m\n",
      "\u001b[1;32mC:\\ProgramData\\Anaconda3\\lib\\site-packages\\pandas\\core\\internals\\construction.py\u001b[0m in \u001b[0;36mextract_index\u001b[1;34m(data)\u001b[0m\n\u001b[0;32m    363\u001b[0m             \u001b[0mlengths\u001b[0m \u001b[1;33m=\u001b[0m \u001b[0mlist\u001b[0m\u001b[1;33m(\u001b[0m\u001b[0mset\u001b[0m\u001b[1;33m(\u001b[0m\u001b[0mraw_lengths\u001b[0m\u001b[1;33m)\u001b[0m\u001b[1;33m)\u001b[0m\u001b[1;33m\u001b[0m\u001b[1;33m\u001b[0m\u001b[0m\n\u001b[0;32m    364\u001b[0m             \u001b[1;32mif\u001b[0m \u001b[0mlen\u001b[0m\u001b[1;33m(\u001b[0m\u001b[0mlengths\u001b[0m\u001b[1;33m)\u001b[0m \u001b[1;33m>\u001b[0m \u001b[1;36m1\u001b[0m\u001b[1;33m:\u001b[0m\u001b[1;33m\u001b[0m\u001b[1;33m\u001b[0m\u001b[0m\n\u001b[1;32m--> 365\u001b[1;33m                 \u001b[1;32mraise\u001b[0m \u001b[0mValueError\u001b[0m\u001b[1;33m(\u001b[0m\u001b[1;34m\"arrays must all be same length\"\u001b[0m\u001b[1;33m)\u001b[0m\u001b[1;33m\u001b[0m\u001b[1;33m\u001b[0m\u001b[0m\n\u001b[0m\u001b[0;32m    366\u001b[0m \u001b[1;33m\u001b[0m\u001b[0m\n\u001b[0;32m    367\u001b[0m             \u001b[1;32mif\u001b[0m \u001b[0mhave_dicts\u001b[0m\u001b[1;33m:\u001b[0m\u001b[1;33m\u001b[0m\u001b[1;33m\u001b[0m\u001b[0m\n",
      "\u001b[1;31mValueError\u001b[0m: arrays must all be same length"
     ]
    }
   ],
   "source": [
    "df = pd.DataFrame({\n",
    "    'title' : titleList,\n",
    "    'date'  : dateList, \n",
    "    'link'  : linkList,\n",
    "    'category' : categoryList\n",
    "})"
   ]
  },
  {
   "cell_type": "markdown",
   "metadata": {},
   "source": [
    "## 크롤링데이터 전처리 "
   ]
  },
  {
   "cell_type": "code",
   "execution_count": null,
   "metadata": {},
   "outputs": [],
   "source": [
    "df['category'] = categoryList\n",
    "df['title_member'] = 0\n",
    "df['check'] = 0\n",
    "df['why'] = '-'\n",
    "df['member'] = member_code\n",
    "\n",
    "df"
   ]
  },
  {
   "cell_type": "markdown",
   "metadata": {},
   "source": [
    "### title_member 처리 : 제목에 브랜드 이름이 있는가? "
   ]
  },
  {
   "cell_type": "code",
   "execution_count": null,
   "metadata": {},
   "outputs": [],
   "source": [
    "title_member = []\n",
    "\n",
    "for i in range(len(df['title'])) :\n",
    "    if SearchWord[0] in df['title'][i] :\n",
    "        title_member.append(1)\n",
    "    else :\n",
    "        title_member.append(0)"
   ]
  },
  {
   "cell_type": "code",
   "execution_count": null,
   "metadata": {},
   "outputs": [],
   "source": [
    "df['title_member'].value_counts()"
   ]
  },
  {
   "cell_type": "markdown",
   "metadata": {},
   "source": [
    "### BEAUTY 카테고리 : check = 2 부여 "
   ]
  },
  {
   "cell_type": "code",
   "execution_count": null,
   "metadata": {},
   "outputs": [],
   "source": [
    "df['category'].value_counts()"
   ]
  },
  {
   "cell_type": "code",
   "execution_count": null,
   "metadata": {},
   "outputs": [],
   "source": [
    "for i in range(len(df)) :\n",
    "    if df['category'][i] == 'BEAUTY' :\n",
    "        df['check'][i] = 2\n",
    "    else :\n",
    "        continue"
   ]
  },
  {
   "cell_type": "code",
   "execution_count": null,
   "metadata": {},
   "outputs": [],
   "source": [
    "df['check'].value_counts()"
   ]
  },
  {
   "cell_type": "markdown",
   "metadata": {},
   "source": [
    "### CSV로 저장 "
   ]
  },
  {
   "cell_type": "code",
   "execution_count": null,
   "metadata": {},
   "outputs": [],
   "source": [
    "df.to_csv('./data/{}_{}_links.csv'.format(magazine, member_code) , mode='w' , sep ='|', encoding='utf-8' , index=False)\n",
    "print('success')"
   ]
  }
 ],
 "metadata": {
  "kernelspec": {
   "display_name": "Python 3",
   "language": "python",
   "name": "python3"
  },
  "language_info": {
   "codemirror_mode": {
    "name": "ipython",
    "version": 3
   },
   "file_extension": ".py",
   "mimetype": "text/x-python",
   "name": "python",
   "nbconvert_exporter": "python",
   "pygments_lexer": "ipython3",
   "version": "3.7.6"
  }
 },
 "nbformat": 4,
 "nbformat_minor": 4
}
