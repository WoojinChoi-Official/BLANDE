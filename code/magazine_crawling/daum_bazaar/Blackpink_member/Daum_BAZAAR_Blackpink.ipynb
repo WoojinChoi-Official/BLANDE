{
 "cells": [
  {
   "cell_type": "code",
   "execution_count": 29,
   "metadata": {},
   "outputs": [],
   "source": [
    "import pandas as pd\n",
    "import numpy as np\n",
    "import time"
   ]
  },
  {
   "cell_type": "code",
   "execution_count": 30,
   "metadata": {},
   "outputs": [],
   "source": [
    "from selenium import webdriver\n",
    "from selenium.webdriver.common.by import By   # 특정 요소 존재 여부 확인\n",
    "from selenium.webdriver.support.ui import WebDriverWait # 웹 페이지 로딩 완료될 때까지 대기\n",
    "from selenium.webdriver.support import expected_conditions as EC\n",
    "from selenium.webdriver.common.keys import Keys # key event 발생 시킴\n",
    "from selenium.webdriver.support.select import Select\n",
    "\n",
    "# Exception\n",
    "from selenium.common.exceptions import TimeoutException, NoSuchElementException"
   ]
  },
  {
   "cell_type": "code",
   "execution_count": 31,
   "metadata": {},
   "outputs": [],
   "source": [
    "path = 'C:/programming/multi_final_project/driver/chromedriver.exe'\n",
    "\n",
    "# 다음뉴스 -> 브랜드 검색 --> 기간 지정 (16.08.01~ 20.12.10) -->  최신순 --> 출처(하퍼스바자) 까지 선택한 후의 링크 \n",
    "Url = 'https://search.daum.net/search?w=news&sort=recency&q={}&cluster=n&dc=STC&pg=1&r=1&p={}&rc=1&at=more&sd=20160801000000&ed=20201210235959&period=u&cpname=%ED%95%98%ED%8D%BC%EC%8A%A4%EB%B0%94%EC%9E%90&cp=16tGeOd_Hc_jGqFhjc'"
   ]
  },
  {
   "cell_type": "code",
   "execution_count": 32,
   "metadata": {},
   "outputs": [],
   "source": [
    "def short_naming(member_name):\n",
    "    if member_name == '제니':\n",
    "        return \"Je\"\n",
    "    elif member_name == '지수':\n",
    "        return \"Ji\"\n",
    "    elif member_name == '로제':\n",
    "        return \"R\"\n",
    "    elif member_name == '리사':\n",
    "        return \"L\"\n",
    "    else:\n",
    "        return \"입력오류\""
   ]
  },
  {
   "cell_type": "code",
   "execution_count": 33,
   "metadata": {},
   "outputs": [],
   "source": [
    "SearchWord = ['제니']\n",
    "member_code = short_naming(SearchWord[0])"
   ]
  },
  {
   "cell_type": "code",
   "execution_count": 34,
   "metadata": {},
   "outputs": [],
   "source": [
    "magazine = 'Daum_BAZZAR'"
   ]
  },
  {
   "cell_type": "code",
   "execution_count": 35,
   "metadata": {},
   "outputs": [],
   "source": [
    "# 리스트 초기화 \n",
    "\n",
    "titleList = []\n",
    "linkList = []\n",
    "dateList = []\n",
    "categoryList = []\n",
    "contentList = []\n",
    "Temp_contentList = []"
   ]
  },
  {
   "cell_type": "code",
   "execution_count": null,
   "metadata": {},
   "outputs": [],
   "source": []
  },
  {
   "cell_type": "markdown",
   "metadata": {},
   "source": [
    "### 크롬 브라우저 제어할 수 있는 객체, 웹브라우저 실행"
   ]
  },
  {
   "cell_type": "code",
   "execution_count": 39,
   "metadata": {},
   "outputs": [
    {
     "data": {
      "text/plain": [
       "<selenium.webdriver.chrome.webdriver.WebDriver (session=\"a570b8603ca944343dd9bab188140d5e\")>"
      ]
     },
     "execution_count": 39,
     "metadata": {},
     "output_type": "execute_result"
    }
   ],
   "source": [
    "driver = webdriver.Chrome(path)     # 크롬 브라우저 제어할 수 있는 객체, 웹브라우저 실행\n",
    "driver"
   ]
  },
  {
   "cell_type": "markdown",
   "metadata": {},
   "source": [
    "### 크롤링 실행 (end_of_page = 12)"
   ]
  },
  {
   "cell_type": "code",
   "execution_count": 40,
   "metadata": {
    "scrolled": true
   },
   "outputs": [
    {
     "name": "stdout",
     "output_type": "stream",
     "text": [
      "제목 :  모니카 스프루스의 여성 시대\n",
      "날짜 : 2019.05.20\n"
     ]
    },
    {
     "name": "stderr",
     "output_type": "stream",
     "text": [
      "C:\\ProgramData\\Anaconda3\\lib\\site-packages\\ipykernel_launcher.py:26: DeprecationWarning: use driver.switch_to.window instead\n"
     ]
    },
    {
     "name": "stdout",
     "output_type": "stream",
     "text": [
      "link : https://www.harpersbazaar.co.kr/article/40134\n",
      "ART&CULTURE\n"
     ]
    },
    {
     "name": "stderr",
     "output_type": "stream",
     "text": [
      "C:\\ProgramData\\Anaconda3\\lib\\site-packages\\ipykernel_launcher.py:47: DeprecationWarning: use driver.switch_to.window instead\n"
     ]
    },
    {
     "name": "stdout",
     "output_type": "stream",
     "text": [
      "완료 : 3페이지, 0번 게시물\n",
      "--------------------------------------------------\n",
      "제목 :  가성비 최고! 국내 셀럽들의 SPA 브랜드 사용법\n",
      "날짜 : 2019.04.18\n",
      "link : https://www.harpersbazaar.co.kr/article/40072\n",
      "FASHION\n",
      "완료 : 3페이지, 1번 게시물\n",
      "--------------------------------------------------\n",
      "제목 :  내 몸의 균형을 잡아라!\n",
      "날짜 : 2019.04.17\n",
      "link : https://www.harpersbazaar.co.kr/article/40062\n",
      "BEAUTY\n",
      "완료 : 3페이지, 2번 게시물\n",
      "--------------------------------------------------\n",
      "제목 :  SNS에서 화제 되는 제니 영상! 실물 후기\n",
      "날짜 : 2019.04.05\n",
      "link : https://www.harpersbazaar.co.kr/article/40053\n",
      "CELEBRITY\n",
      "완료 : 3페이지, 3번 게시물\n",
      "--------------------------------------------------\n",
      "제목 :  핫한 여배우들에게 배우는 피부관리법!\n",
      "날짜 : 2019.02.07\n",
      "link : https://www.harpersbazaar.co.kr/article/39906\n",
      "BEAUTY\n",
      "완료 : 3페이지, 4번 게시물\n",
      "--------------------------------------------------\n",
      "제목 :  겨울모자와 헤어의 컬래버레이션\n",
      "날짜 : 2018.12.21\n",
      "link : https://www.harpersbazaar.co.kr/article/39801\n",
      "BEAUTY\n",
      "완료 : 3페이지, 5번 게시물\n",
      "--------------------------------------------------\n",
      "제목 :  예쁨주의보\n",
      "날짜 : 2018.12.07\n",
      "link : https://www.harpersbazaar.co.kr/article/39740\n",
      "CELEBRITY\n",
      "완료 : 3페이지, 6번 게시물\n",
      "--------------------------------------------------\n",
      "제목 :  최고의 쿠션을 찾아서\n",
      "날짜 : 2018.12.01\n",
      "link : https://www.harpersbazaar.co.kr/article/39752\n",
      "BEAUTY\n",
      "완료 : 3페이지, 7번 게시물\n",
      "--------------------------------------------------\n",
      "제목 :  인간명품 제니의 화려한 ‘SOLO’\n",
      "날짜 : 2018.11.14\n",
      "link : https://www.harpersbazaar.co.kr/article/39710\n",
      "FASHION\n",
      "완료 : 3페이지, 8번 게시물\n",
      "--------------------------------------------------\n",
      "제목 :  샤넬에서 만난 수주 밀착 취재기\n",
      "날짜 : 2018.10.29\n",
      "link : https://www.harpersbazaar.co.kr/article/39658\n",
      "FASHION\n",
      "완료 : 3페이지, 9번 게시물\n",
      "--------------------------------------------------\n",
      "제목 :  제니 홀저의 비전\n",
      "날짜 : 2018.10.17\n",
      "link : https://www.harpersbazaar.co.kr/article/39637\n",
      "ART&CULTURE\n",
      "완료 : 4페이지, 0번 게시물\n",
      "--------------------------------------------------\n",
      "제목 :  여행의 목적지가 되는 아트 플레이스\n",
      "날짜 : 2018.09.30\n",
      "link : https://www.harpersbazaar.co.kr/article/39581\n",
      "ART&CULTURE\n",
      "완료 : 4페이지, 1번 게시물\n",
      "--------------------------------------------------\n",
      "제목 :  인플루언서 22의 인생템 1\n",
      "날짜 : 2018.08.14\n",
      "link : https://www.harpersbazaar.co.kr/article/39458\n",
      "BEAUTY\n",
      "완료 : 4페이지, 2번 게시물\n",
      "--------------------------------------------------\n",
      "제목 :  어서와, 인간샤넬은 처음이지?\n",
      "날짜 : 2018.06.28\n",
      "link : https://www.harpersbazaar.co.kr/article/39315\n",
      "FASHION\n",
      "완료 : 4페이지, 3번 게시물\n",
      "--------------------------------------------------\n",
      "제목 :  예뻐도 너무 예쁜 제니의 옷장\n",
      "날짜 : 2018.06.25\n",
      "link : https://www.harpersbazaar.co.kr/article/39305\n",
      "ART&CULTURE\n",
      "완료 : 4페이지, 4번 게시물\n",
      "--------------------------------------------------\n",
      "제목 :  집에서도 뚝딱, 안 쓰는 립스틱은 이렇게.\n",
      "날짜 : 2018.05.05\n",
      "link : https://www.harpersbazaar.co.kr/article/39123\n",
      "BEAUTY\n",
      "완료 : 4페이지, 5번 게시물\n",
      "--------------------------------------------------\n",
      "제목 :  예기치못한 아트 파크의 아트\n",
      "날짜 : 2018.04.27\n",
      "link : https://www.harpersbazaar.co.kr/article/39088\n",
      "ART&CULTURE\n",
      "완료 : 4페이지, 6번 게시물\n",
      "--------------------------------------------------\n"
     ]
    }
   ],
   "source": [
    "# 제니 : 4페이지 \n",
    "\n",
    "end_of_page = 5\n",
    "\n",
    "for page in range(3,end_of_page) :\n",
    "    driver.get(Url.format(SearchWord[0], page))\n",
    "    contElements = driver.find_elements_by_css_selector('#newsResultUL > li')\n",
    "    \n",
    "    for i, cont in enumerate(contElements):\n",
    "        \n",
    "        #제목 가져오기\n",
    "        title = cont.find_element_by_xpath('//*[@id=\"newsResultUL\"]/li[{}]/div/div/div/a'.format(i+1))\n",
    "        titleList.append(str(title.text))\n",
    "        print('제목 : ', title.text)\n",
    "       \n",
    "        #날짜 가져오기\n",
    "        date = cont.find_element_by_css_selector('span.f_nb.date').text[:10]\n",
    "        dateList.append(date)\n",
    "        print('날짜 :', date)\n",
    "        \n",
    "        #페이지 클릭\n",
    "        title.click()  \n",
    "        time.sleep(2)\n",
    "\n",
    "        # 새 탭으로 이동 \n",
    "        driver.switch_to_window(driver.window_handles[1])\n",
    "\n",
    "        link = driver.find_element_by_css_selector('head > meta:nth-child(9)').get_attribute('content')\n",
    "        linkList.append(link)\n",
    "        print('link :', link)\n",
    "        \n",
    "        \n",
    "        ## 카테고리 가져오기        \n",
    "        try:\n",
    "            category =  driver.find_element_by_xpath('//*[@id=\"contents\"]/div/div[1]/div/span').text\n",
    "            categoryList.append(category)\n",
    "            print(category)\n",
    "        except:\n",
    "            category =  \"NA\"\n",
    "            categoryList.append(category)\n",
    "            print(category)\n",
    "\n",
    "            \n",
    "        driver.close()\n",
    "\n",
    "        # 메인 탭으로 가기 \n",
    "        driver.switch_to_window(driver.window_handles[0])\n",
    "        time.sleep(2)\n",
    "        \n",
    "        # 게시물 10개 읽으면 다음 페이지로 \n",
    "        print(\"완료 : {}페이지, {}번 게시물\".format(page, i))\n",
    "        print('-'*50)\n",
    "        \n",
    "        if i == 9:\n",
    "            break\n",
    "        \n"
   ]
  },
  {
   "cell_type": "markdown",
   "metadata": {},
   "source": [
    "### 크롤링 결과 확인 "
   ]
  },
  {
   "cell_type": "code",
   "execution_count": 45,
   "metadata": {},
   "outputs": [
    {
     "name": "stdout",
     "output_type": "stream",
     "text": [
      "len : 38\n",
      "['머플러 하나로 달라지는 스타일! 제니, 수지, 장희령처럼!', '얼굴 소멸각! 셀럽들의 모자 스타일링 대방출!', '지금 아니면 입을 수 없는 꿀조합', '가을은 아묻따! 체크의 계절', '셀프염색할 때 주의해야할 점', '요즘 나만 빼고 다 한다는 투톤 브릿지 헤어!', '크롭트 톱을 셀럽처럼 힙하게 입으려면?', '화사, 제니가 선택한 네일 디자인은?', '잘 고른 여름 원피스 한 벌', '난리 난 블랙핑크의 네일아트, 왜?', '셀럽의 빈티지 청바지, 어디서 사?', '클래식한 진주 주얼리의 상큼한 귀환!', '떠오르는 패션 핫플 둘러보기', '부부의 세계 배우들, 화장품 어디꺼?', '벚꽃보다, 제니!', '당신을 위하여, 제니 홀저', '코덕이라면 다 알걸? 2019 베스트셀러는?', '비니 하나 썼을 뿐인데 이렇게 예뻐졌다고?', '무조건 구매각인 가을립컬러는? #스타러브즈', '돌고 도는 #탑골공원 패션', '모니카 스프루스의 여성 시대', '모니카 스프루스의 여성 시대', '가성비 최고! 국내 셀럽들의 SPA 브랜드 사용법', '내 몸의 균형을 잡아라!', 'SNS에서 화제 되는 제니 영상! 실물 후기', '핫한 여배우들에게 배우는 피부관리법!', '겨울모자와 헤어의 컬래버레이션', '예쁨주의보', '최고의 쿠션을 찾아서', '인간명품 제니의 화려한 ‘SOLO’', '샤넬에서 만난 수주 밀착 취재기', '제니 홀저의 비전', '여행의 목적지가 되는 아트 플레이스', '인플루언서 22의 인생템 1', '어서와, 인간샤넬은 처음이지?', '예뻐도 너무 예쁜 제니의 옷장', '집에서도 뚝딱, 안 쓰는 립스틱은 이렇게.', '예기치못한 아트 파크의 아트']\n"
     ]
    }
   ],
   "source": [
    "print('len :', len(titleList))\n",
    "print(titleList)"
   ]
  },
  {
   "cell_type": "code",
   "execution_count": 47,
   "metadata": {},
   "outputs": [
    {
     "data": {
      "text/plain": [
       "37"
      ]
     },
     "execution_count": 47,
     "metadata": {},
     "output_type": "execute_result"
    }
   ],
   "source": [
    "len(categoryList)"
   ]
  },
  {
   "cell_type": "code",
   "execution_count": 42,
   "metadata": {
    "scrolled": true
   },
   "outputs": [
    {
     "name": "stdout",
     "output_type": "stream",
     "text": [
      "len : 37\n",
      "['https://www.harpersbazaar.co.kr/article/50385', 'https://www.harpersbazaar.co.kr/article/49651', 'https://www.harpersbazaar.co.kr/article/48941', 'https://www.harpersbazaar.co.kr/article/48902', 'https://www.harpersbazaar.co.kr/article/48719', 'https://www.harpersbazaar.co.kr/article/48057', 'https://www.harpersbazaar.co.kr/article/47901', 'https://www.harpersbazaar.co.kr/article/47899', 'https://www.harpersbazaar.co.kr/article/47843', 'https://www.harpersbazaar.co.kr/article/47719', 'https://www.harpersbazaar.co.kr/article/47513', 'https://www.harpersbazaar.co.kr/article/47272', 'https://www.harpersbazaar.co.kr/article/46807', 'https://www.harpersbazaar.co.kr/article/46210', 'https://www.harpersbazaar.co.kr/article/45547', 'https://www.harpersbazaar.co.kr/article/43971', 'https://www.harpersbazaar.co.kr/article/43866', 'https://www.harpersbazaar.co.kr/article/43169', 'https://www.harpersbazaar.co.kr/article/42909', 'https://www.harpersbazaar.co.kr/article/42884', 'https://www.harpersbazaar.co.kr/article/40134', 'https://www.harpersbazaar.co.kr/article/40072', 'https://www.harpersbazaar.co.kr/article/40062', 'https://www.harpersbazaar.co.kr/article/40053', 'https://www.harpersbazaar.co.kr/article/39906', 'https://www.harpersbazaar.co.kr/article/39801', 'https://www.harpersbazaar.co.kr/article/39740', 'https://www.harpersbazaar.co.kr/article/39752', 'https://www.harpersbazaar.co.kr/article/39710', 'https://www.harpersbazaar.co.kr/article/39658', 'https://www.harpersbazaar.co.kr/article/39637', 'https://www.harpersbazaar.co.kr/article/39581', 'https://www.harpersbazaar.co.kr/article/39458', 'https://www.harpersbazaar.co.kr/article/39315', 'https://www.harpersbazaar.co.kr/article/39305', 'https://www.harpersbazaar.co.kr/article/39123', 'https://www.harpersbazaar.co.kr/article/39088']\n"
     ]
    }
   ],
   "source": [
    "print('len :', len(linkList))\n",
    "print(linkList)"
   ]
  },
  {
   "cell_type": "code",
   "execution_count": 43,
   "metadata": {},
   "outputs": [
    {
     "name": "stdout",
     "output_type": "stream",
     "text": [
      "len : 38\n",
      "['2020.11.27', '2020.10.23', '2020.09.21', '2020.09.18', '2020.09.10', '2020.08.05', '2020.07.29', '2020.07.28', '2020.07.24', '2020.07.17', '2020.07.07', '2020.06.24', '2020.05.29', '2020.04.25', '2020.03.24', '2020.01.03', '2019.12.26', '2019.11.14', '2019.10.29', '2019.10.28', '2019.05.20', '2019.05.20', '2019.04.18', '2019.04.17', '2019.04.05', '2019.02.07', '2018.12.21', '2018.12.07', '2018.12.01', '2018.11.14', '2018.10.29', '2018.10.17', '2018.09.30', '2018.08.14', '2018.06.28', '2018.06.25', '2018.05.05', '2018.04.27']\n"
     ]
    }
   ],
   "source": [
    "print('len :', len(dateList))\n",
    "print(dateList)"
   ]
  },
  {
   "cell_type": "code",
   "execution_count": 44,
   "metadata": {},
   "outputs": [
    {
     "ename": "ValueError",
     "evalue": "arrays must all be same length",
     "output_type": "error",
     "traceback": [
      "\u001b[1;31m---------------------------------------------------------------------------\u001b[0m",
      "\u001b[1;31mValueError\u001b[0m                                Traceback (most recent call last)",
      "\u001b[1;32m<ipython-input-44-9af0ba2ce894>\u001b[0m in \u001b[0;36m<module>\u001b[1;34m\u001b[0m\n\u001b[0;32m      3\u001b[0m     \u001b[1;34m'date'\u001b[0m  \u001b[1;33m:\u001b[0m \u001b[0mdateList\u001b[0m\u001b[1;33m,\u001b[0m\u001b[1;33m\u001b[0m\u001b[1;33m\u001b[0m\u001b[0m\n\u001b[0;32m      4\u001b[0m     \u001b[1;34m'link'\u001b[0m  \u001b[1;33m:\u001b[0m \u001b[0mlinkList\u001b[0m\u001b[1;33m,\u001b[0m\u001b[1;33m\u001b[0m\u001b[1;33m\u001b[0m\u001b[0m\n\u001b[1;32m----> 5\u001b[1;33m     \u001b[1;34m'category'\u001b[0m \u001b[1;33m:\u001b[0m \u001b[0mcategoryList\u001b[0m\u001b[1;33m\u001b[0m\u001b[1;33m\u001b[0m\u001b[0m\n\u001b[0m\u001b[0;32m      6\u001b[0m })\n",
      "\u001b[1;32mC:\\ProgramData\\Anaconda3\\lib\\site-packages\\pandas\\core\\frame.py\u001b[0m in \u001b[0;36m__init__\u001b[1;34m(self, data, index, columns, dtype, copy)\u001b[0m\n\u001b[0;32m    433\u001b[0m             )\n\u001b[0;32m    434\u001b[0m         \u001b[1;32melif\u001b[0m \u001b[0misinstance\u001b[0m\u001b[1;33m(\u001b[0m\u001b[0mdata\u001b[0m\u001b[1;33m,\u001b[0m \u001b[0mdict\u001b[0m\u001b[1;33m)\u001b[0m\u001b[1;33m:\u001b[0m\u001b[1;33m\u001b[0m\u001b[1;33m\u001b[0m\u001b[0m\n\u001b[1;32m--> 435\u001b[1;33m             \u001b[0mmgr\u001b[0m \u001b[1;33m=\u001b[0m \u001b[0minit_dict\u001b[0m\u001b[1;33m(\u001b[0m\u001b[0mdata\u001b[0m\u001b[1;33m,\u001b[0m \u001b[0mindex\u001b[0m\u001b[1;33m,\u001b[0m \u001b[0mcolumns\u001b[0m\u001b[1;33m,\u001b[0m \u001b[0mdtype\u001b[0m\u001b[1;33m=\u001b[0m\u001b[0mdtype\u001b[0m\u001b[1;33m)\u001b[0m\u001b[1;33m\u001b[0m\u001b[1;33m\u001b[0m\u001b[0m\n\u001b[0m\u001b[0;32m    436\u001b[0m         \u001b[1;32melif\u001b[0m \u001b[0misinstance\u001b[0m\u001b[1;33m(\u001b[0m\u001b[0mdata\u001b[0m\u001b[1;33m,\u001b[0m \u001b[0mma\u001b[0m\u001b[1;33m.\u001b[0m\u001b[0mMaskedArray\u001b[0m\u001b[1;33m)\u001b[0m\u001b[1;33m:\u001b[0m\u001b[1;33m\u001b[0m\u001b[1;33m\u001b[0m\u001b[0m\n\u001b[0;32m    437\u001b[0m             \u001b[1;32mimport\u001b[0m \u001b[0mnumpy\u001b[0m\u001b[1;33m.\u001b[0m\u001b[0mma\u001b[0m\u001b[1;33m.\u001b[0m\u001b[0mmrecords\u001b[0m \u001b[1;32mas\u001b[0m \u001b[0mmrecords\u001b[0m\u001b[1;33m\u001b[0m\u001b[1;33m\u001b[0m\u001b[0m\n",
      "\u001b[1;32mC:\\ProgramData\\Anaconda3\\lib\\site-packages\\pandas\\core\\internals\\construction.py\u001b[0m in \u001b[0;36minit_dict\u001b[1;34m(data, index, columns, dtype)\u001b[0m\n\u001b[0;32m    252\u001b[0m             \u001b[0marr\u001b[0m \u001b[1;32mif\u001b[0m \u001b[1;32mnot\u001b[0m \u001b[0mis_datetime64tz_dtype\u001b[0m\u001b[1;33m(\u001b[0m\u001b[0marr\u001b[0m\u001b[1;33m)\u001b[0m \u001b[1;32melse\u001b[0m \u001b[0marr\u001b[0m\u001b[1;33m.\u001b[0m\u001b[0mcopy\u001b[0m\u001b[1;33m(\u001b[0m\u001b[1;33m)\u001b[0m \u001b[1;32mfor\u001b[0m \u001b[0marr\u001b[0m \u001b[1;32min\u001b[0m \u001b[0marrays\u001b[0m\u001b[1;33m\u001b[0m\u001b[1;33m\u001b[0m\u001b[0m\n\u001b[0;32m    253\u001b[0m         ]\n\u001b[1;32m--> 254\u001b[1;33m     \u001b[1;32mreturn\u001b[0m \u001b[0marrays_to_mgr\u001b[0m\u001b[1;33m(\u001b[0m\u001b[0marrays\u001b[0m\u001b[1;33m,\u001b[0m \u001b[0mdata_names\u001b[0m\u001b[1;33m,\u001b[0m \u001b[0mindex\u001b[0m\u001b[1;33m,\u001b[0m \u001b[0mcolumns\u001b[0m\u001b[1;33m,\u001b[0m \u001b[0mdtype\u001b[0m\u001b[1;33m=\u001b[0m\u001b[0mdtype\u001b[0m\u001b[1;33m)\u001b[0m\u001b[1;33m\u001b[0m\u001b[1;33m\u001b[0m\u001b[0m\n\u001b[0m\u001b[0;32m    255\u001b[0m \u001b[1;33m\u001b[0m\u001b[0m\n\u001b[0;32m    256\u001b[0m \u001b[1;33m\u001b[0m\u001b[0m\n",
      "\u001b[1;32mC:\\ProgramData\\Anaconda3\\lib\\site-packages\\pandas\\core\\internals\\construction.py\u001b[0m in \u001b[0;36marrays_to_mgr\u001b[1;34m(arrays, arr_names, index, columns, dtype)\u001b[0m\n\u001b[0;32m     62\u001b[0m     \u001b[1;31m# figure out the index, if necessary\u001b[0m\u001b[1;33m\u001b[0m\u001b[1;33m\u001b[0m\u001b[1;33m\u001b[0m\u001b[0m\n\u001b[0;32m     63\u001b[0m     \u001b[1;32mif\u001b[0m \u001b[0mindex\u001b[0m \u001b[1;32mis\u001b[0m \u001b[1;32mNone\u001b[0m\u001b[1;33m:\u001b[0m\u001b[1;33m\u001b[0m\u001b[1;33m\u001b[0m\u001b[0m\n\u001b[1;32m---> 64\u001b[1;33m         \u001b[0mindex\u001b[0m \u001b[1;33m=\u001b[0m \u001b[0mextract_index\u001b[0m\u001b[1;33m(\u001b[0m\u001b[0marrays\u001b[0m\u001b[1;33m)\u001b[0m\u001b[1;33m\u001b[0m\u001b[1;33m\u001b[0m\u001b[0m\n\u001b[0m\u001b[0;32m     65\u001b[0m     \u001b[1;32melse\u001b[0m\u001b[1;33m:\u001b[0m\u001b[1;33m\u001b[0m\u001b[1;33m\u001b[0m\u001b[0m\n\u001b[0;32m     66\u001b[0m         \u001b[0mindex\u001b[0m \u001b[1;33m=\u001b[0m \u001b[0mensure_index\u001b[0m\u001b[1;33m(\u001b[0m\u001b[0mindex\u001b[0m\u001b[1;33m)\u001b[0m\u001b[1;33m\u001b[0m\u001b[1;33m\u001b[0m\u001b[0m\n",
      "\u001b[1;32mC:\\ProgramData\\Anaconda3\\lib\\site-packages\\pandas\\core\\internals\\construction.py\u001b[0m in \u001b[0;36mextract_index\u001b[1;34m(data)\u001b[0m\n\u001b[0;32m    363\u001b[0m             \u001b[0mlengths\u001b[0m \u001b[1;33m=\u001b[0m \u001b[0mlist\u001b[0m\u001b[1;33m(\u001b[0m\u001b[0mset\u001b[0m\u001b[1;33m(\u001b[0m\u001b[0mraw_lengths\u001b[0m\u001b[1;33m)\u001b[0m\u001b[1;33m)\u001b[0m\u001b[1;33m\u001b[0m\u001b[1;33m\u001b[0m\u001b[0m\n\u001b[0;32m    364\u001b[0m             \u001b[1;32mif\u001b[0m \u001b[0mlen\u001b[0m\u001b[1;33m(\u001b[0m\u001b[0mlengths\u001b[0m\u001b[1;33m)\u001b[0m \u001b[1;33m>\u001b[0m \u001b[1;36m1\u001b[0m\u001b[1;33m:\u001b[0m\u001b[1;33m\u001b[0m\u001b[1;33m\u001b[0m\u001b[0m\n\u001b[1;32m--> 365\u001b[1;33m                 \u001b[1;32mraise\u001b[0m \u001b[0mValueError\u001b[0m\u001b[1;33m(\u001b[0m\u001b[1;34m\"arrays must all be same length\"\u001b[0m\u001b[1;33m)\u001b[0m\u001b[1;33m\u001b[0m\u001b[1;33m\u001b[0m\u001b[0m\n\u001b[0m\u001b[0;32m    366\u001b[0m \u001b[1;33m\u001b[0m\u001b[0m\n\u001b[0;32m    367\u001b[0m             \u001b[1;32mif\u001b[0m \u001b[0mhave_dicts\u001b[0m\u001b[1;33m:\u001b[0m\u001b[1;33m\u001b[0m\u001b[1;33m\u001b[0m\u001b[0m\n",
      "\u001b[1;31mValueError\u001b[0m: arrays must all be same length"
     ]
    }
   ],
   "source": [
    "df = pd.DataFrame({\n",
    "    'title' : titleList,\n",
    "    'date'  : dateList, \n",
    "    'link'  : linkList,\n",
    "    'category' : categoryList\n",
    "})"
   ]
  },
  {
   "cell_type": "markdown",
   "metadata": {},
   "source": [
    "## 크롤링데이터 전처리 "
   ]
  },
  {
   "cell_type": "code",
   "execution_count": null,
   "metadata": {},
   "outputs": [],
   "source": [
    "df['category'] = categoryList\n",
    "df['title_member'] = 0\n",
    "df['check'] = 0\n",
    "df['why'] = '-'\n",
    "df['member'] = member_code\n",
    "\n",
    "df"
   ]
  },
  {
   "cell_type": "markdown",
   "metadata": {},
   "source": [
    "### title_member 처리 : 제목에 브랜드 이름이 있는가? "
   ]
  },
  {
   "cell_type": "code",
   "execution_count": null,
   "metadata": {},
   "outputs": [],
   "source": [
    "title_member = []\n",
    "\n",
    "for i in range(len(df['title'])) :\n",
    "    if SearchWord[0] in df['title'][i] :\n",
    "        title_member.append(1)\n",
    "    else :\n",
    "        title_member.append(0)"
   ]
  },
  {
   "cell_type": "code",
   "execution_count": null,
   "metadata": {},
   "outputs": [],
   "source": [
    "df['title_member'].value_counts()"
   ]
  },
  {
   "cell_type": "markdown",
   "metadata": {},
   "source": [
    "### BEAUTY 카테고리 : check = 2 부여 "
   ]
  },
  {
   "cell_type": "code",
   "execution_count": null,
   "metadata": {},
   "outputs": [],
   "source": [
    "df['category'].value_counts()"
   ]
  },
  {
   "cell_type": "code",
   "execution_count": null,
   "metadata": {},
   "outputs": [],
   "source": [
    "for i in range(len(df)) :\n",
    "    if df['category'][i] == 'BEAUTY' :\n",
    "        df['check'][i] = 2\n",
    "    else :\n",
    "        continue"
   ]
  },
  {
   "cell_type": "code",
   "execution_count": null,
   "metadata": {},
   "outputs": [],
   "source": [
    "df['check'].value_counts()"
   ]
  },
  {
   "cell_type": "markdown",
   "metadata": {},
   "source": [
    "### CSV로 저장 "
   ]
  },
  {
   "cell_type": "code",
   "execution_count": null,
   "metadata": {},
   "outputs": [],
   "source": [
    "df.to_csv('./data/{}_{}_links.csv'.format(magazine, member_code) , mode='w' , sep ='|', encoding='utf-8' , index=False)\n",
    "print('success')"
   ]
  }
 ],
 "metadata": {
  "kernelspec": {
   "display_name": "Python 3",
   "language": "python",
   "name": "python3"
  },
  "language_info": {
   "codemirror_mode": {
    "name": "ipython",
    "version": 3
   },
   "file_extension": ".py",
   "mimetype": "text/x-python",
   "name": "python",
   "nbconvert_exporter": "python",
   "pygments_lexer": "ipython3",
   "version": "3.7.6"
  }
 },
 "nbformat": 4,
 "nbformat_minor": 4
}
