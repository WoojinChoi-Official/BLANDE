{
 "cells": [
  {
   "cell_type": "code",
   "execution_count": 1,
   "metadata": {},
   "outputs": [],
   "source": [
    "import pandas as pd \n",
    "import os \n",
    "import numpy as np"
   ]
  },
  {
   "cell_type": "code",
   "execution_count": 8,
   "metadata": {},
   "outputs": [],
   "source": [
    "Bazaar_R = pd.DataFrame(columns = ['magazine', 'brand', 'category', 'title', 'link', 'date', 'contents', 'title_brand'])\n",
    "Bazaar_L = pd.DataFrame(columns = ['magazine', 'brand', 'category', 'title', 'link', 'date', 'contents', 'title_brand'])\n",
    "Bazaar_Je = pd.DataFrame(columns = ['magazine', 'brand', 'category', 'title', 'link', 'date', 'contents', 'title_brand'])\n",
    "Bazaar_Ji = pd.DataFrame(columns = ['magazine', 'brand', 'category', 'title', 'link', 'date', 'contents', 'title_brand'])"
   ]
  },
  {
   "cell_type": "markdown",
   "metadata": {},
   "source": [
    "# 로제 "
   ]
  },
  {
   "cell_type": "code",
   "execution_count": 115,
   "metadata": {},
   "outputs": [],
   "source": [
    "R_title_list = ['잘 고른 여름 원피스 한 벌', '난리 난 블랙핑크의 네일아트, 왜?','방탄소년단 뷔도 착용한 가을 액세서리는 무엇?',\n",
    "               '무더위엔 원피스 한 벌이면 충분해!' ,'휴양지에서 셀럽들이 인생샷 남기는 비법']"
   ]
  },
  {
   "cell_type": "code",
   "execution_count": 116,
   "metadata": {},
   "outputs": [],
   "source": [
    "R_title_brand_list = [0,0,0,0,0]"
   ]
  },
  {
   "cell_type": "code",
   "execution_count": 117,
   "metadata": {},
   "outputs": [],
   "source": [
    "R_category_list = ['FASHION','CELEBRITY','FASHION','FASHION','FASHION']"
   ]
  },
  {
   "cell_type": "code",
   "execution_count": 118,
   "metadata": {},
   "outputs": [],
   "source": [
    "R_link_list = ['https://www.harpersbazaar.co.kr/article/47843','https://www.harpersbazaar.co.kr/article/47719','https://www.harpersbazaar.co.kr/article/41976',\n",
    "              'https://www.harpersbazaar.co.kr/article/40532','https://www.harpersbazaar.co.kr/article/40355'\n",
    "              ]"
   ]
  },
  {
   "cell_type": "code",
   "execution_count": 119,
   "metadata": {},
   "outputs": [],
   "source": [
    "R_date_list = ['2020.07.24', '2020.07.17','2019.09.04','2019.08.09','2019.07.30']"
   ]
  },
  {
   "cell_type": "code",
   "execution_count": 121,
   "metadata": {},
   "outputs": [],
   "source": [
    "R_contents_list = list([['블랙핑크 로제','시폰 드레스를 블랙핑크 로제처럼 쿨하게 연출하고 싶다면? 플라워 패턴의 미니 드레스를 선택한 로제. 셔링 디테일이 더해진 슬립 드레스로 여성스러움을 더했다.', '여기에 조개 디테일의 스트랩 샌들로 바캉스 룩에 포인트를 주었는데 볼 캡을 착용해 페미닌한 룩을 중화시켜준 것이 로제 스타일!'],\n",
    "                  ['번짐 기법을 활용한 변형된 레오파드 패턴을 선보인 로제. 화이트 베이스 위에 브라운 컬러로 포인트를 준 뒤, 무광 톱코트로 마무리했다. 색다른 패턴을 즐기고 싶다면 로제의 네일을 기억하자.','100점 만점에 100점! 쉬폰 드레스, 암 워머와 조화를 이루며 고급스러운 분위기를 자아낸 로제의 네일은 라운드 쉐입으로 손톱 모양을 잡은 뒤, 블랙 컬러로 매니시한 무드를 완성한 스타일. 손톱 끝부터 거친 느낌으로 표현한 게 특징! 손톱이 길어지거나, 긁혀도 티가 나지 않을 로제의 네일은 집에서도 쉽게 따라 해볼 수 있을 듯!'],\n",
    "                   ['폭이 좁고 길어 치렁치렁한 느낌 없이 색다른 변화를 손쉽게 줄 수 있으니까.','가방의 탑 핸들에 쁘띠 스카프를 돌돌 말면 전혀 다른 가방처럼 사용할 수 있다.', ' 이보다 더 간편한 방법은 가방에 쁘띠 스카프를 묶어 연출하기! 베이지 컬러의 가방에 강렬한 레드나 블루 컬러의 쁘띠 스카프를 묶어 연출한 려원과 블랙핑크 로제의 스타일링 방법을 참고해볼 것'],\n",
    "                   ['오버사이즈 티셔츠를 원피스처럼 연출한 블랙핑크 로제.',' 타이다이 패턴 하나로 박시하면서도 캐주얼한 데일리 룩을 완성했다.',' 여기에 스포티한 무드의 스니커즈를 매치하거나 투박한 워커, 부츠로 시크하게 연출해 보는건 어떨까? '],\n",
    "                   ['통기타를 연주하거나 레저 스포츠를 즐기는 모습을 담은 스타들.',' 휴양지인 만큼 시원한 해변에서 제트스키, 서핑, 돌고래와 인증샷을 남긴 블랙핑크.',' 통기타를 연주하며 감성샷을 연출하고 싶다면 카이아 거버와 블랙핑크 로제의사진을 참고할 것. '],\n",
    "                  ])"
   ]
  },
  {
   "cell_type": "code",
   "execution_count": 140,
   "metadata": {},
   "outputs": [
    {
     "data": {
      "text/plain": [
       "'여기에 조개 디테일의 스트랩 샌들로 바캉스 룩에 포인트를 주었는데 볼 캡을 착용해 페미닌한 룩을 중화시켜준 것이 로제 스타일!'"
      ]
     },
     "execution_count": 140,
     "metadata": {},
     "output_type": "execute_result"
    }
   ],
   "source": [
    "R_contents_list[0][2]"
   ]
  },
  {
   "cell_type": "markdown",
   "metadata": {},
   "source": [
    "## 데이터 넣기 "
   ]
  },
  {
   "cell_type": "code",
   "execution_count": 122,
   "metadata": {},
   "outputs": [],
   "source": [
    "Bazaar_R['title']    = R_title_list\n",
    "Bazaar_R['title_brand'] = R_title_brand_list\n",
    "Bazaar_R['category'] = R_category_list\n",
    "Bazaar_R['link'] = R_link_list\n",
    "Bazaar_R['date'] = R_date_list\n",
    "Bazaar_R['contents'] = R_contents_list\n",
    "\n",
    "Bazaar_R['magazine'] = 'Daum_Bazaar'\n",
    "Bazaar_R['brand'] = 'R'"
   ]
  },
  {
   "cell_type": "code",
   "execution_count": 25,
   "metadata": {},
   "outputs": [
    {
     "data": {
      "text/plain": [
       "'시폰 드레스를 블랙핑크 로제처럼 쿨하게 연출하고 싶다면? 플라워 패턴의 미니 드레스를 선택한 로제. 셔링 디테일이 더해진 슬립 드레스로 여성스러움을 더했다.'"
      ]
     },
     "execution_count": 25,
     "metadata": {},
     "output_type": "execute_result"
    }
   ],
   "source": []
  },
  {
   "cell_type": "code",
   "execution_count": null,
   "metadata": {},
   "outputs": [],
   "source": []
  },
  {
   "cell_type": "markdown",
   "metadata": {},
   "source": [
    "# 리사"
   ]
  },
  {
   "cell_type": "code",
   "execution_count": 34,
   "metadata": {},
   "outputs": [],
   "source": [
    "L_title_list = ['뒷광고 말고, 셀럽들의 앞광고','난리 난 블랙핑크의 네일아트, 왜?','블랙핑크 리사의 특별한 만남']"
   ]
  },
  {
   "cell_type": "code",
   "execution_count": 35,
   "metadata": {},
   "outputs": [],
   "source": [
    "L_title_brand_list = [0,0,1]"
   ]
  },
  {
   "cell_type": "code",
   "execution_count": 36,
   "metadata": {},
   "outputs": [],
   "source": [
    "L_category_list = ['CELEBRITY','CELEBRITY','ART&CULTURE']"
   ]
  },
  {
   "cell_type": "code",
   "execution_count": 37,
   "metadata": {},
   "outputs": [],
   "source": [
    "L_link_list = ['https://www.harpersbazaar.co.kr/article/48627','https://www.harpersbazaar.co.kr/article/47719','https://www.harpersbazaar.co.kr/article/40152'\n",
    "              ]"
   ]
  },
  {
   "cell_type": "code",
   "execution_count": 38,
   "metadata": {},
   "outputs": [],
   "source": [
    "L_date_list = ['2020.09.03','2020.07.17','2019.05.29']"
   ]
  },
  {
   "cell_type": "code",
   "execution_count": 108,
   "metadata": {},
   "outputs": [],
   "source": [
    "L_contents_list = [['협찬 태그는 이렇게, 리사!',' 셀린의 뮤즈인 리사.', '그녀는 노란 니트 톱에 연청 스커트를 입고 다양한 포즈를 취한 사진을 SNS에 업로드했다.','미니 백을 들고 있는 그녀의 모습만큼이나 눈길을 끈 건 바로 \"협찬\" 두 글자만 적힌 해시태그.',' 정직하게 표기한 모습이 귀여움을 자아내기까지 한다.'],\n",
    "                  ['강렬한 레드 헤어와 시크한 네일을 선보인 리사.',' 긴 손톱의 끝을 일자로 다듬은 \"발레리나 쉐입\"을 선보였다.','보랏빛이 감도는 그레이 컬러로 베이스를 칠한 뒤, 손톱 끝부분은 화이트 컬러를 사용해 \"ㄷ\"모양으로 각을 살려 그려내면 완성!', '반면 뮤직비디오 속 리사의 네일은? 여름 하면 빼놓을 수 없는 비비드 한 컬러를 택했다.','손가락마다 컬러와 디자인을 달리해 세련된 형태를 완성한 것. 옐로와 핑크, 퍼플 등 다채로운 컬러를 중심으로 다양한 패턴과 조합해 사용했다. ','올여름 \"네온 네일\"을 염두에 두고 있다면, 리사처럼 한 손에 두 컬러 정도는 무채색 계열을 사용해 컬러 밸런스를 맞춰줄 것!'],\n",
    "                  ['동시대적이고 과감한 스타일을 지닌 두 아이콘이 만났다.',' 20주년을 맞이한 불가리 ‘비제로원’ 컬렉션과 블랙핑크 리사의 조우.']\n",
    "                  ]"
   ]
  },
  {
   "cell_type": "code",
   "execution_count": null,
   "metadata": {},
   "outputs": [],
   "source": []
  },
  {
   "cell_type": "markdown",
   "metadata": {},
   "source": [
    "## 데이터 넣기 "
   ]
  },
  {
   "cell_type": "code",
   "execution_count": 40,
   "metadata": {},
   "outputs": [],
   "source": [
    "Bazaar_L['title']    = L_title_list\n",
    "Bazaar_L['title_brand'] = L_title_brand_list\n",
    "Bazaar_L['category'] = L_category_list\n",
    "Bazaar_L['link'] = L_link_list\n",
    "Bazaar_L['date'] = L_date_list\n",
    "Bazaar_L['contents'] = L_contents_list\n",
    "\n",
    "Bazaar_L['magazine'] = 'Daum_Bazaar'\n",
    "Bazaar_L['brand'] = 'L'"
   ]
  },
  {
   "cell_type": "code",
   "execution_count": 41,
   "metadata": {},
   "outputs": [
    {
     "data": {
      "text/html": [
       "<div>\n",
       "<style scoped>\n",
       "    .dataframe tbody tr th:only-of-type {\n",
       "        vertical-align: middle;\n",
       "    }\n",
       "\n",
       "    .dataframe tbody tr th {\n",
       "        vertical-align: top;\n",
       "    }\n",
       "\n",
       "    .dataframe thead th {\n",
       "        text-align: right;\n",
       "    }\n",
       "</style>\n",
       "<table border=\"1\" class=\"dataframe\">\n",
       "  <thead>\n",
       "    <tr style=\"text-align: right;\">\n",
       "      <th></th>\n",
       "      <th>magazine</th>\n",
       "      <th>brand</th>\n",
       "      <th>category</th>\n",
       "      <th>title</th>\n",
       "      <th>link</th>\n",
       "      <th>date</th>\n",
       "      <th>contents</th>\n",
       "      <th>title_brand</th>\n",
       "    </tr>\n",
       "  </thead>\n",
       "  <tbody>\n",
       "    <tr>\n",
       "      <th>0</th>\n",
       "      <td>Daum_Bazaar</td>\n",
       "      <td>L</td>\n",
       "      <td>CELEBRITY</td>\n",
       "      <td>뒷광고 말고, 셀럽들의 앞광고</td>\n",
       "      <td>https://www.harpersbazaar.co.kr/article/48627</td>\n",
       "      <td>2020.09.03</td>\n",
       "      <td>[협찬 태그는 이렇게, 리사!,  셀린의 뮤즈인 리사., 그녀는 노란 니트 톱에 연...</td>\n",
       "      <td>0</td>\n",
       "    </tr>\n",
       "    <tr>\n",
       "      <th>1</th>\n",
       "      <td>Daum_Bazaar</td>\n",
       "      <td>L</td>\n",
       "      <td>CELEBRITY</td>\n",
       "      <td>난리 난 블랙핑크의 네일아트, 왜?</td>\n",
       "      <td>https://www.harpersbazaar.co.kr/article/47719</td>\n",
       "      <td>2020.07.17</td>\n",
       "      <td>[강렬한 레드 헤어와 시크한 네일을 선보인 리사.,  긴 손톱의 끝을 일자로 다듬은...</td>\n",
       "      <td>0</td>\n",
       "    </tr>\n",
       "    <tr>\n",
       "      <th>2</th>\n",
       "      <td>Daum_Bazaar</td>\n",
       "      <td>L</td>\n",
       "      <td>ART&amp;CULTURE</td>\n",
       "      <td>블랙핑크 리사의 특별한 만남</td>\n",
       "      <td>https://www.harpersbazaar.co.kr/article/40152</td>\n",
       "      <td>2019.05.29</td>\n",
       "      <td>[동시대적이고 과감한 스타일을 지닌 두 아이콘이 만났다.,  20주년을 맞이한 불가...</td>\n",
       "      <td>1</td>\n",
       "    </tr>\n",
       "  </tbody>\n",
       "</table>\n",
       "</div>"
      ],
      "text/plain": [
       "      magazine brand     category                title  \\\n",
       "0  Daum_Bazaar     L    CELEBRITY     뒷광고 말고, 셀럽들의 앞광고   \n",
       "1  Daum_Bazaar     L    CELEBRITY  난리 난 블랙핑크의 네일아트, 왜?   \n",
       "2  Daum_Bazaar     L  ART&CULTURE      블랙핑크 리사의 특별한 만남   \n",
       "\n",
       "                                            link        date  \\\n",
       "0  https://www.harpersbazaar.co.kr/article/48627  2020.09.03   \n",
       "1  https://www.harpersbazaar.co.kr/article/47719  2020.07.17   \n",
       "2  https://www.harpersbazaar.co.kr/article/40152  2019.05.29   \n",
       "\n",
       "                                            contents  title_brand  \n",
       "0  [협찬 태그는 이렇게, 리사!,  셀린의 뮤즈인 리사., 그녀는 노란 니트 톱에 연...            0  \n",
       "1  [강렬한 레드 헤어와 시크한 네일을 선보인 리사.,  긴 손톱의 끝을 일자로 다듬은...            0  \n",
       "2  [동시대적이고 과감한 스타일을 지닌 두 아이콘이 만났다.,  20주년을 맞이한 불가...            1  "
      ]
     },
     "execution_count": 41,
     "metadata": {},
     "output_type": "execute_result"
    }
   ],
   "source": [
    "Bazaar_L"
   ]
  },
  {
   "cell_type": "code",
   "execution_count": null,
   "metadata": {},
   "outputs": [],
   "source": []
  },
  {
   "cell_type": "markdown",
   "metadata": {},
   "source": [
    "# 지수"
   ]
  },
  {
   "cell_type": "code",
   "execution_count": 68,
   "metadata": {},
   "outputs": [],
   "source": [
    "Ji_title_list = ['하퍼스 바자 2020년 첫 커버 주인공 지수',\n",
    "                 '오직 <바자>에서만 볼 수 있는 지수의 인터뷰와 비하인드 컷',\n",
    "                 '블랙핑크 지수의 봄날',\n",
    "                 '난리 난 블랙핑크의 네일아트, 왜?',\n",
    "                 '블랙핑크 지수의 색다른 날',\n",
    "                 '돌고 도는 #탑골공원 패션',\n",
    "                 '하반기 뷰티 트렌드가 궁금해',\n",
    "                 '이젠 #말린살구 컬러가 대세'\n",
    "                ]"
   ]
  },
  {
   "cell_type": "code",
   "execution_count": 69,
   "metadata": {},
   "outputs": [],
   "source": [
    "Ji_title_brand_list = [1,1,1 ,0,1,0,0,0]"
   ]
  },
  {
   "cell_type": "code",
   "execution_count": 70,
   "metadata": {},
   "outputs": [],
   "source": [
    "Ji_category_list = ['CELEBRITY','CELEBRITY','ART&CULTURE','CELEBRITY','CELEBRITY','FASHION','BEAUTY','BEAUTY']"
   ]
  },
  {
   "cell_type": "code",
   "execution_count": 71,
   "metadata": {},
   "outputs": [],
   "source": [
    "Ji_link_list = ['https://www.harpersbazaar.co.kr/article/43747',\n",
    "                'https://www.harpersbazaar.co.kr/article/43987',\n",
    "                'https://www.harpersbazaar.co.kr/article/40188',\n",
    "                'https://www.harpersbazaar.co.kr/article/47719',\n",
    "                'https://www.harpersbazaar.co.kr/article/40148',\n",
    "                'https://www.harpersbazaar.co.kr/article/42884',\n",
    "                'https://www.harpersbazaar.co.kr/article/40444',\n",
    "                'https://www.harpersbazaar.co.kr/article/39831'\n",
    "              ]"
   ]
  },
  {
   "cell_type": "code",
   "execution_count": 72,
   "metadata": {},
   "outputs": [],
   "source": [
    "Ji_date_list = ['2019.12.18','2020.01.03','2019.06.10','2020.07.17','2019.05.27','2019.10.28','2019.08.04','2019.01.11']"
   ]
  },
  {
   "cell_type": "code",
   "execution_count": 74,
   "metadata": {},
   "outputs": [],
   "source": [
    "Ji_contents_list = [['<하퍼스 바자> 2020년 1월호 커버의 주인공은?','블랙핑크 지수가 디올 뷰티 로컬 앰버서로더서 바자와 함께 첫 번째 화보를 선보였다.','이번 화보에서 지수는 새벽 3시가 넘도록 진행된 촬영에도 특유의 사랑스러운 미소를 잃지 않으며 촬영장 분위기를 화기애애하게 만들었다.','지수와 바자의 만남은 처음이 아니다. 6개월 전 시크하고 분위기 있는 모습으로 바자의 커버를 장식한 바 있다.','6개월 간의 안부를 묻자 지수는 \"투어가 끝난 후 혼자만의 시간을 가진 덕분에 좀 더 평온해졌어요. 혼자 있는 시간에는 잠을 많이 자는데, 잘 때마다 꿈을 꿔서 지루하지 않고 즐거워요.\"','라며 집순이의 면모를 보였다.', \n",
    "                     '또 변화와 도전을 즐기냐는 질문에 “나서서 무언가를 하려고 하진 않지만 새로운 제안이 오면 거부감 없이 도전해요. 해봐야 아는 거니까 일단 하는 편이죠. 이번 촬영 역시 이전과는 다른 분위기의 메이크업이 걱정되기보다 색달라서 더 즐겁게 느껴졌어요.”라고 전했다.','최근 그림을 배우고 있다는 근황도 전했다.','뭔가 배워보고 싶던 참에 그림을 시작했어요. ','어릴 때는 화가가 꿈이었던 것 같은데 갑자기 \"왜 이렇게 못 그리지?\" 라는 생각이 들었거든요.','색을 칠하는 것에 푹 빠졌어요.',' 물 한 방울 섞고 안 섞는 것에 따라 그림의 분위기가 달라지는 점이 매력적이에요.”라며 그림의 장점에 대해 소개했다.',\n",
    "                    '인터뷰 중엔 팬들에 대한 고마운 마음을 전하기도.','“무대에서 우리 모습을 한 장면, 한 장면 담는 관객들을 보면 책임감이 생겨요.',' 어떤 분들에게는 일생에 단 한 번뿐인 순간일 수도 있으니까요. ','그런 고마운 마음을 받는 사람으로서 보답해야 한다고 생각해요.','이런 경험이 결국 블랙핑크와 지수로 살아갈 수 있는 원동력이에요.”',' 사랑하는 사람들에게 “올해도 함께 해주셔서 고맙습니다.”라는 인사도 잊지 않았다.'],\n",
    "                    ['<바자> 6월호에서 만나고, 딱 6개월이 흘렀어요. ',\n",
    "'6개월 전이 제일 바빴어요.(웃음) 투어가 끝날 즈음이어서 너무 정신없이 지냈거든요. 그동안 여유가 생기면서 혼자만의 시간을 가진 덕분에 좀 더 평온해졌어요.',\n",
    "'혼자 있는 시간을 즐겁게 보내는 지수만의 방법이 있을까요? ',\n",
    "'잠을 많이 자요. 잘 때마다 꿈을 꾸거든요. 그 시간이 전혀 지루하지 않고 즐겁더라고요.',\n",
    "'블랙핑크로서도 지수 개인으로서도 올해 큰 도전과 변화가 끊이지 않았어요. 지수에게 이 두 단어는 어떤 의미를 가지나요?',\n",
    "'아무래도 ‘도전’을 떠올리면 ‘또 하나의 성장을 하겠구나’라는 생각이 들어요. 도전을 하다 보면 결과가 좋든 안 좋든 무언가 쌓이잖아요. 쌓인 것들이 결국 ‘변화’를 만든다고 생각해요. 변화나 성장, 자기 자신에게서 새로운 걸 찾고 싶으면 도전을 해야 얻어지는 거라고.',\n",
    "'변화와 도전을 즐기기도 하나요?',\n",
    "'나서서 무언가를 하려고 하진 않지만 새로운 제안이 오면 거부감 없이 해버려요. 해봐야 아는 거니까 일단은 도전하는 편이에요. 오늘도 이전과는 다른 분위기의 메이크업을 받았는데 “어울리나?” 이런 걱정보다는 색달라서 더 즐겁게 느껴졌어요.',\n",
    "'지수의 상큼한 미소를 돋보이게 하는 립 제품은 ‘디올 어딕트 립 글로우 오일’ #012 로즈우드. 전 세계적으로 사랑받는 디올 립 글로우의 리퀴드 버전으로 유리알처럼 매끄럽고 도톰한 입술을 만든다. ‘디올 포에버 스킨-케어링 파운데이션’ 글로우 피니쉬를 사용해 벨벳 피부를 연출하고, 아이 메이크업은 생략해 반짝이는 입술을 강조했다.',\n",
    "'오늘 촬영하면서 마음에 둔 제품이 있나요?',\n",
    "'새로 나올 제품이라고 하는데, 제가 평소에도 ‘디올 어딕트 립 글로우’를 애용해서 팬분들도 알고 계실 정도거든요. 기존 립밤이 오일 타입으로 나온 거라서 마음에 들어요. 환절기라 입술이 건조해서 립밤을 달고 사는데 이 제품은 한 번만 발라도 촉촉함이 유지되더라고요. ',\n",
    "'그룹 이름의 이미지 때문일까요? 핑크색이 특히 잘 어울렸던 것 같아요.',\n",
    "'(웃음) 데뷔 초반에 핑크색 립스틱을 많이 발랐는데 점점 버건디도 바르고 빨간색도 바르고, 이것저것 다양하게 바르다가 요즘엔 다시 돌아왔어요. 예전 사진을 보니 핑크색 립을 발랐을 때가 제일 괜찮더라고요. 요즘 다시 핑크 컬러에 빠진 상태여서 오늘 바른 핑크 컬러 립이 굉장히 마음에 듭니다.(웃음) ',\n",
    "'최근 색 조합을 공부하고 있다고 했어요. 지수의 퍼스널 컬러는 어떤 색인 것 같나요?',\n",
    "'뭔가 배워보고 싶던 참에 그림을 시작했어요. 어릴 때는 화가가 꿈이었던 것 같은데 갑자기 “왜 이렇게 못 그리지?”라는 생각이 들었거든요.(웃음) 배우고 싶은 걸 배우니까 너무 재미있고 특히 그림을 그리는 것보다 색을 칠하는 것에 푹 빠졌어요. 물 한 방울 섞고 안 섞는 것에 따라 그림의 분위기가 달라지는 점이 매력적이에요. 보라색을 좋아해서 끼고 살았어요. 그래서 그런지 스스로 제 모습을 봤을 때 보라색 계열로 입었을 때가 제일 만족스러워요.',\n",
    "'지수가 들고 있는 제품은 ‘디올 어딕트 립 글로우’ #017 울트라 코랄. 지수는 이 제품과 함께 립 글로우 오일 #004 코랄, ‘디올 백스테이지 로지 글로우 블러쉬’ #004 코랄을 사용해 팝 코랄 룩을 연출했다.1월에 출시하는 립 글로우 울트라 코랄은 한국 여성을 위해 탄생한 컬러.',\n",
    "'지수에게 올 한 해는 어느 때보다 특별한 해였을 거라고 생각해요. 돌이켜보면 어떤가요? ',\n",
    "'저는 안 좋은 일은 금방 잊어버려요. 예전에는 안 좋은 일을 또렷하게 기억하고 좋은 일은 기억을 잘 못했어요. 이래서는 안 되겠다는 생각이 들어서 어느 순간부터 좋았던 일들만 기억하고 안 좋은 일들은 잊어버리기로 했어요. 이번 투어 하면서 처음으로 크게 아팠어요. 그런데 지금 돌이켜보면 그런 기억은 나지 않고 멤버들과 행복한 시간을 보낸 것만 떠오르네요.',\n",
    "'혼자 씩씩하게 걷기 시작한 시기이기도 해요. ',\n",
    "'올해는 길을 찾는 시기였던 것 같아요. 초반에는 멤버들과 거의 모든 활동을 같이 했지만 지금은 개인으로 하는 일이 늘어났어요. 그렇다 보니 “어떤 걸 원하고 어떤 걸 좋아하지? 내가 뭘 하면 더 집중하고 잘 할까?” 길을 찾으려고 노력했어요.',\n",
    "'코첼라 페스티벌을 통해 다양한 아티스트들과 만나고 어울리는 시간을 보냈어요. ',\n",
    "'가수로서 욕심이 조금 더 커지는 순간이었어요. 어떤 아티스트는 퍼포먼스로 무대를 휘어잡고 어떤 아티스트는 가창력으로 이목을 끌어요. 잘하는 것도 중요하지만 관객의 뇌리에 남는 무언가를 가지고 있는 것이 중요하다는 걸 느꼈어요.'],\n",
    "['#블랙핑크 #지수 의 두 가지 얼굴.','#까르띠에(@cartier)에서 새롭게 선보이는 #클래쉬드까르띠에 컬렉션을 우아하게 소화한 지수의 봄날'],\n",
    "['티저포스터 속 지수의 네일은? 일명 피어싱 네일.',' 연장한 손톱을 스틸레토 쉐입으로 다듬은 뒤, 네일 바디와 손톱 사이(프리엣지)에 구멍을 뚫어 스터드로 장식했다.',' 뮤직비디오 속 센캐 이미지를 보여줄 땐, 블랙 컬러를 선택했다. ','같은 디자인에 손톱 안쪽을 자개 장식으로 완성해 화려함을 더한 것이 특징.','올여름 이젠 귀 말고, 손톱을 뚫어보길!',' 뮤직비디오에서 입은 한복은 물론 훈민정음을 새겨 넣은 네일 디자인 역시 화제가 됐다.',' 한 글자 한 글자 적어 내린 한글과 마치 수묵화 한편을 그려놓은 듯한 디자인으로 전 세계의 이목을 끄는 중!'],\n",
    "['소녀의 양면적인 얼굴. 상반된 두 가지 스타일의 결합으로 탄생한 까르띠에의 새로운 주얼리 컬렉션, ‘클래쉬 드 까르띠에’와 만난 블랙핑크 지수의 어느 날.'],\n",
    "['2019년 블랙핑크 지수도 심플한 화이트 톱에 오버 사이즈 데님을 매치해 과거 신디 크로포드의 룩이 연상되는 스타일을 선보였다.'],\n",
    "['블랙핑크 지수가 아리아나 그란데에게 받은 특별한 선물을 이제 한국에서도 만날 수 있다! 아리아나 그란데가 직접 제작한 향수를 시향하고 구매할 수 있게 된 것.','부드러운 향조의 클라우드를 비롯, 여성스러운 아리와 사랑스러운 스위트 라이크 캔디를 함께 선보일 예정이다.'],\n",
    "['품절대란을 일으킨 아이섀도 중 하나인 \"유스\" 컬러. ','재출시 요청이 많아 다시 1월에 출시했죠. ','은은한 이 컬러와 잘 어울리는 립 제품으로 자연스러운 핑크 빛의 MLBB 컬러인 \"플롯\"을 추천합니다. ','여리여리한 살구빛 섀도와 바르면 귀티 나는 소녀 메이크업을 연출할 수 있죠. ','이 립스틱은 최근 골든 디스크 시상식에서 블랙핑크 지수가 바른 제품으로 유명세를 떨치고 있답니다.',' _에스쁘아 홍보 담당 유지예']\n",
    "                   ]"
   ]
  },
  {
   "cell_type": "markdown",
   "metadata": {},
   "source": [
    "## 데이터 넣기 "
   ]
  },
  {
   "cell_type": "code",
   "execution_count": 75,
   "metadata": {},
   "outputs": [],
   "source": [
    "Bazaar_Ji['title']    = Ji_title_list\n",
    "Bazaar_Ji['title_brand'] = Ji_title_brand_list\n",
    "Bazaar_Ji['category'] = Ji_category_list\n",
    "Bazaar_Ji['link'] = Ji_link_list\n",
    "Bazaar_Ji['date'] = Ji_date_list\n",
    "Bazaar_Ji['contents'] = Ji_contents_list\n",
    "\n",
    "Bazaar_Ji['magazine'] = 'Daum_Bazaar'\n",
    "Bazaar_Ji['brand'] = 'Ji'"
   ]
  },
  {
   "cell_type": "code",
   "execution_count": 76,
   "metadata": {},
   "outputs": [
    {
     "data": {
      "text/html": [
       "<div>\n",
       "<style scoped>\n",
       "    .dataframe tbody tr th:only-of-type {\n",
       "        vertical-align: middle;\n",
       "    }\n",
       "\n",
       "    .dataframe tbody tr th {\n",
       "        vertical-align: top;\n",
       "    }\n",
       "\n",
       "    .dataframe thead th {\n",
       "        text-align: right;\n",
       "    }\n",
       "</style>\n",
       "<table border=\"1\" class=\"dataframe\">\n",
       "  <thead>\n",
       "    <tr style=\"text-align: right;\">\n",
       "      <th></th>\n",
       "      <th>magazine</th>\n",
       "      <th>brand</th>\n",
       "      <th>category</th>\n",
       "      <th>title</th>\n",
       "      <th>link</th>\n",
       "      <th>date</th>\n",
       "      <th>contents</th>\n",
       "      <th>title_brand</th>\n",
       "    </tr>\n",
       "  </thead>\n",
       "  <tbody>\n",
       "    <tr>\n",
       "      <th>0</th>\n",
       "      <td>Daum_Bazaar</td>\n",
       "      <td>Ji</td>\n",
       "      <td>CELEBRITY</td>\n",
       "      <td>하퍼스 바자 2020년 첫 커버 주인공 지수</td>\n",
       "      <td>https://www.harpersbazaar.co.kr/article/43747</td>\n",
       "      <td>2019.12.18</td>\n",
       "      <td>[&lt;하퍼스 바자&gt; 2020년 1월호 커버의 주인공은?, 블랙핑크 지수가 디올 뷰티 ...</td>\n",
       "      <td>1</td>\n",
       "    </tr>\n",
       "    <tr>\n",
       "      <th>1</th>\n",
       "      <td>Daum_Bazaar</td>\n",
       "      <td>Ji</td>\n",
       "      <td>CELEBRITY</td>\n",
       "      <td>오직 &lt;바자&gt;에서만 볼 수 있는 지수의 인터뷰와 비하인드 컷</td>\n",
       "      <td>https://www.harpersbazaar.co.kr/article/43987</td>\n",
       "      <td>2020.01.03</td>\n",
       "      <td>[&lt;바자&gt; 6월호에서 만나고, 딱 6개월이 흘렀어요. , 6개월 전이 제일 바빴어요...</td>\n",
       "      <td>1</td>\n",
       "    </tr>\n",
       "    <tr>\n",
       "      <th>2</th>\n",
       "      <td>Daum_Bazaar</td>\n",
       "      <td>Ji</td>\n",
       "      <td>ART&amp;CULTURE</td>\n",
       "      <td>블랙핑크 지수의 봄날</td>\n",
       "      <td>https://www.harpersbazaar.co.kr/article/40188</td>\n",
       "      <td>2019.06.10</td>\n",
       "      <td>[#블랙핑크 #지수 의 두 가지 얼굴., #까르띠에(@cartier)에서 새롭게 선...</td>\n",
       "      <td>1</td>\n",
       "    </tr>\n",
       "    <tr>\n",
       "      <th>3</th>\n",
       "      <td>Daum_Bazaar</td>\n",
       "      <td>Ji</td>\n",
       "      <td>CELEBRITY</td>\n",
       "      <td>난리 난 블랙핑크의 네일아트, 왜?</td>\n",
       "      <td>https://www.harpersbazaar.co.kr/article/47719</td>\n",
       "      <td>2020.07.17</td>\n",
       "      <td>[티저포스터 속 지수의 네일은? 일명 피어싱 네일.,  연장한 손톱을 스틸레토 쉐입...</td>\n",
       "      <td>0</td>\n",
       "    </tr>\n",
       "    <tr>\n",
       "      <th>4</th>\n",
       "      <td>Daum_Bazaar</td>\n",
       "      <td>Ji</td>\n",
       "      <td>CELEBRITY</td>\n",
       "      <td>블랙핑크 지수의 색다른 날</td>\n",
       "      <td>https://www.harpersbazaar.co.kr/article/40148</td>\n",
       "      <td>2019.05.27</td>\n",
       "      <td>[소녀의 양면적인 얼굴. 상반된 두 가지 스타일의 결합으로 탄생한 까르띠에의 새로운...</td>\n",
       "      <td>1</td>\n",
       "    </tr>\n",
       "    <tr>\n",
       "      <th>5</th>\n",
       "      <td>Daum_Bazaar</td>\n",
       "      <td>Ji</td>\n",
       "      <td>FASHION</td>\n",
       "      <td>돌고 도는 #탑골공원 패션</td>\n",
       "      <td>https://www.harpersbazaar.co.kr/article/42884</td>\n",
       "      <td>2019.10.28</td>\n",
       "      <td>[2019년 블랙핑크 지수도 심플한 화이트 톱에 오버 사이즈 데님을 매치해 과거 신...</td>\n",
       "      <td>0</td>\n",
       "    </tr>\n",
       "    <tr>\n",
       "      <th>6</th>\n",
       "      <td>Daum_Bazaar</td>\n",
       "      <td>Ji</td>\n",
       "      <td>BEAUTY</td>\n",
       "      <td>하반기 뷰티 트렌드가 궁금해</td>\n",
       "      <td>https://www.harpersbazaar.co.kr/article/40444</td>\n",
       "      <td>2019.08.04</td>\n",
       "      <td>[블랙핑크 지수가 아리아나 그란데에게 받은 특별한 선물을 이제 한국에서도 만날 수 ...</td>\n",
       "      <td>0</td>\n",
       "    </tr>\n",
       "    <tr>\n",
       "      <th>7</th>\n",
       "      <td>Daum_Bazaar</td>\n",
       "      <td>Ji</td>\n",
       "      <td>BEAUTY</td>\n",
       "      <td>이젠 #말린살구 컬러가 대세</td>\n",
       "      <td>https://www.harpersbazaar.co.kr/article/39831</td>\n",
       "      <td>2019.01.11</td>\n",
       "      <td>[품절대란을 일으킨 아이섀도 중 하나인 \"유스\" 컬러. , 재출시 요청이 많아 다시...</td>\n",
       "      <td>0</td>\n",
       "    </tr>\n",
       "  </tbody>\n",
       "</table>\n",
       "</div>"
      ],
      "text/plain": [
       "      magazine brand     category                              title  \\\n",
       "0  Daum_Bazaar    Ji    CELEBRITY           하퍼스 바자 2020년 첫 커버 주인공 지수   \n",
       "1  Daum_Bazaar    Ji    CELEBRITY  오직 <바자>에서만 볼 수 있는 지수의 인터뷰와 비하인드 컷   \n",
       "2  Daum_Bazaar    Ji  ART&CULTURE                        블랙핑크 지수의 봄날   \n",
       "3  Daum_Bazaar    Ji    CELEBRITY                난리 난 블랙핑크의 네일아트, 왜?   \n",
       "4  Daum_Bazaar    Ji    CELEBRITY                     블랙핑크 지수의 색다른 날   \n",
       "5  Daum_Bazaar    Ji      FASHION                     돌고 도는 #탑골공원 패션   \n",
       "6  Daum_Bazaar    Ji       BEAUTY                    하반기 뷰티 트렌드가 궁금해   \n",
       "7  Daum_Bazaar    Ji       BEAUTY                    이젠 #말린살구 컬러가 대세   \n",
       "\n",
       "                                            link        date  \\\n",
       "0  https://www.harpersbazaar.co.kr/article/43747  2019.12.18   \n",
       "1  https://www.harpersbazaar.co.kr/article/43987  2020.01.03   \n",
       "2  https://www.harpersbazaar.co.kr/article/40188  2019.06.10   \n",
       "3  https://www.harpersbazaar.co.kr/article/47719  2020.07.17   \n",
       "4  https://www.harpersbazaar.co.kr/article/40148  2019.05.27   \n",
       "5  https://www.harpersbazaar.co.kr/article/42884  2019.10.28   \n",
       "6  https://www.harpersbazaar.co.kr/article/40444  2019.08.04   \n",
       "7  https://www.harpersbazaar.co.kr/article/39831  2019.01.11   \n",
       "\n",
       "                                            contents  title_brand  \n",
       "0  [<하퍼스 바자> 2020년 1월호 커버의 주인공은?, 블랙핑크 지수가 디올 뷰티 ...            1  \n",
       "1  [<바자> 6월호에서 만나고, 딱 6개월이 흘렀어요. , 6개월 전이 제일 바빴어요...            1  \n",
       "2  [#블랙핑크 #지수 의 두 가지 얼굴., #까르띠에(@cartier)에서 새롭게 선...            1  \n",
       "3  [티저포스터 속 지수의 네일은? 일명 피어싱 네일.,  연장한 손톱을 스틸레토 쉐입...            0  \n",
       "4  [소녀의 양면적인 얼굴. 상반된 두 가지 스타일의 결합으로 탄생한 까르띠에의 새로운...            1  \n",
       "5  [2019년 블랙핑크 지수도 심플한 화이트 톱에 오버 사이즈 데님을 매치해 과거 신...            0  \n",
       "6  [블랙핑크 지수가 아리아나 그란데에게 받은 특별한 선물을 이제 한국에서도 만날 수 ...            0  \n",
       "7  [품절대란을 일으킨 아이섀도 중 하나인 \"유스\" 컬러. , 재출시 요청이 많아 다시...            0  "
      ]
     },
     "execution_count": 76,
     "metadata": {},
     "output_type": "execute_result"
    }
   ],
   "source": [
    "Bazaar_Ji\n",
    "################################"
   ]
  },
  {
   "cell_type": "markdown",
   "metadata": {},
   "source": [
    "# 제니"
   ]
  },
  {
   "cell_type": "code",
   "execution_count": null,
   "metadata": {},
   "outputs": [],
   "source": []
  },
  {
   "cell_type": "code",
   "execution_count": 58,
   "metadata": {},
   "outputs": [
    {
     "data": {
      "text/plain": [
       "24"
      ]
     },
     "execution_count": 58,
     "metadata": {},
     "output_type": "execute_result"
    }
   ],
   "source": [
    "Je_title_list = ['머플러 하나로 달라지는 스타일! 제니, 수지, 장희령처럼!',\n",
    "                 '화사, 제니가 선택한 네일 디자인은?',\n",
    "                 '벚꽃보다, 제니!',\n",
    "                 '얼굴 소멸각! 셀럽들의 모자 스타일링 대방출!',\n",
    "                '예뻐도 너무 예쁜 제니의 옷장',\n",
    "                '인간명품 블랙핑크 제니의 화려한 SOLO',\n",
    "                 '지금 아니면 입을 수 없는 꿀조합',\n",
    "                 'SNS에서 화제 되는 제니 영상! 실물 후기',\n",
    "                 '가을은 아묻따! 체크의 계절',\n",
    "                 '요즘 나만 빼고 다 한다는 투톤 브릿지 헤어!',\n",
    "                 '난리 난 블랙핑크의 네일아트, 왜?',\n",
    "                 '떠오르는 패션 핫플 둘러보기',\n",
    "                 '크롭트 톱을 셀럽처럼 힙하게 입으려면?',\n",
    "                 '잘 고른 여름 원피스 한 벌',\n",
    "                 '클래식한 진주 주얼리의 상큼한 귀환!',\n",
    "                 '돌고 도는 #탑골공원 패션',\n",
    "                 '가성비 최고! 국내 셀럽들의 SPA 브랜드 사용법',\n",
    "                 '비니 하나 썼을 뿐인데 이렇게 예뻐졌다고?',\n",
    "                 '무조건 구매각인 가을립컬러는? #스타러브즈',\n",
    "                 '코덕이라면 다 알걸? 2019 베스트셀러는?',\n",
    "                 '예쁨주의보',\n",
    "                 '어서와, 인간샤넬은 처음이지?',\n",
    "                 '샤넬의 뮤즈 수주, 블핑 제니를 만나다',\n",
    "                 '내 몸의 균형을 잡아라!'\n",
    "                ]\n",
    "\n",
    "len(Je_title_list)"
   ]
  },
  {
   "cell_type": "code",
   "execution_count": 59,
   "metadata": {},
   "outputs": [],
   "source": [
    "Je_title_brand_list = [1,1,1,0,1,1,0,1,0,0,0,0,0,0,0,0,0,0,0,0,0,0,1,0]"
   ]
  },
  {
   "cell_type": "code",
   "execution_count": 60,
   "metadata": {},
   "outputs": [
    {
     "data": {
      "text/plain": [
       "24"
      ]
     },
     "execution_count": 60,
     "metadata": {},
     "output_type": "execute_result"
    }
   ],
   "source": [
    "Je_category_list = ['FASHION','BEAUTY','CELEBRITY','CELEBRITY','ART&CULTURE','FASHION','FASHION','CELEBRITY','FASHION',\n",
    "                   'BEAUTY','CELEBRITY','FASHION','FASHION','FASHION','FASHION','FASHION','FASHION','FASHION','BEAUTY',\n",
    "                   'BEAUTY', 'CELEBRITY','FASHION','FASHION','BEAUTY'\n",
    "                   \n",
    "                   ]\n",
    "\n",
    "len(Je_category_list)"
   ]
  },
  {
   "cell_type": "code",
   "execution_count": 61,
   "metadata": {},
   "outputs": [
    {
     "data": {
      "text/plain": [
       "24"
      ]
     },
     "execution_count": 61,
     "metadata": {},
     "output_type": "execute_result"
    }
   ],
   "source": [
    "Je_link_list = ['https://www.harpersbazaar.co.kr/article/50385',\n",
    "                'https://www.harpersbazaar.co.kr/article/47899',\n",
    "                'https://www.harpersbazaar.co.kr/article/45547',\n",
    "                'https://www.harpersbazaar.co.kr/article/49651',\n",
    "                'https://www.harpersbazaar.co.kr/article/39305',\n",
    "                'https://www.harpersbazaar.co.kr/article/39710',  \n",
    "                'https://www.harpersbazaar.co.kr/article/48941',  \n",
    "                'https://www.harpersbazaar.co.kr/article/40053',  \n",
    "                'https://www.harpersbazaar.co.kr/article/48902',  \n",
    "                'https://www.harpersbazaar.co.kr/article/48057', \n",
    "                'https://www.harpersbazaar.co.kr/article/47719',  \n",
    "                'https://www.harpersbazaar.co.kr/article/46807',\n",
    "                'https://www.harpersbazaar.co.kr/article/47901',\n",
    "                'https://www.harpersbazaar.co.kr/article/47843',\n",
    "                'https://www.harpersbazaar.co.kr/article/47272',\n",
    "                'https://www.harpersbazaar.co.kr/article/42884',\n",
    "                'https://www.harpersbazaar.co.kr/article/40072',\n",
    "                'https://www.harpersbazaar.co.kr/article/43169',\n",
    "                'https://www.harpersbazaar.co.kr/article/42909',\n",
    "                'https://www.harpersbazaar.co.kr/article/43866',\n",
    "                'https://www.harpersbazaar.co.kr/article/39740',\n",
    "                'https://www.harpersbazaar.co.kr/article/39315',\n",
    "                'https://www.harpersbazaar.co.kr/article/39658',\n",
    "                'https://www.harpersbazaar.co.kr/article/40062'\n",
    "                ]\n",
    "\n",
    "len(Je_link_list)"
   ]
  },
  {
   "cell_type": "code",
   "execution_count": 62,
   "metadata": {},
   "outputs": [
    {
     "data": {
      "text/plain": [
       "24"
      ]
     },
     "execution_count": 62,
     "metadata": {},
     "output_type": "execute_result"
    }
   ],
   "source": [
    "Je_date_list = ['2020.11.27','2020.07.28','2020.03.24','2020.10.23','2018.06.25','2018.11.14','2020.09.21','2019.04.05',\n",
    "               '2020.09.18','2020.08.05','2020.07.17','2020.05.29','2020.07.28','2020.07.24','2020.06.24','2019.10.28', \n",
    "               '2019.04.18','2019.11.14','2019.10.29','2019.12.26','2018.12.07','2018.06.28','2018.11.13','2019.04.17'\n",
    "               ]\n",
    "\n",
    "len(Je_date_list)"
   ]
  },
  {
   "cell_type": "code",
   "execution_count": 63,
   "metadata": {},
   "outputs": [],
   "source": [
    "Je_contents_list = [\n",
    "['블랙핑크 제니' ,'겨울철 자칫 칙칙할 수 있는 스타일에 활기를 더해주는 머플러!',' 제니처럼 니트 카디건에 클래식한 체크 패턴의 머플러를 무심하게 툭 매치해보자.',' 매해 F/W 시즌 빠질 수 없는 체크는 클래식한 무드를 자아내는 일등 공신이기도. 보온성은 물론 겨울철 한층 더 분위기 있는 무드를 연출할 수 있다.'],\n",
    "['올여름엔 네일 디자인을 고르기 전 모양을 먼저 선택해야 할 듯.','오벌, 라운드, 스퀘어 정도로 정의되던 기존과 달리 다양한 손톱 모양이 인기를 끌고 있다.','발레리나 토슈즈를 담은 코핀 네일, 스틸레토 하이힐처럼 아찔한 스틸레토 네일, 립스틱과 닮은 사선 모양의 립스틱 네일까지.',' 공통점은 모두 원래 손톱보다 길게 보디를 연장해 연출하는 것.',' 화사, 제니 등 핫한 셀럽은 물론 런웨이에서도 눈에 띄는 아찔한 형태의 네일로 색다른 분위기를 연출해볼 것.'],\n",
    "['봄의 시작인 3월에 만난 제니는 벚꽃보다 더 아름답고 풍부한 매력을 발산했다.',' 촬영 당일 화장기 하나 없는 맑은 얼굴로 수줍게 인사를 건네며 스튜디오에 들어선 제니.',' 두 가지 상반되는 컨셉으로 연출한 후 카메라 앞에 선 제니는 소녀와 숙녀를 넘나드는 다채로운 모습을 보여주었다.',' 수줍게 미소 지었다가 때론 카리스마 넘치는 당당한 애티듀드로 지면을 장악했다.',' 이번 화보는 샤넬의 앰버서더로서 함께 했다.',' 누벨바그 시대에서 영감을 받은 2020 S/S 컬렉션을 완벽하게 소화하며 스텝들의 찬사를 받았다.'],\n",
    "['이마는 꼭 1/3 이상 감춰주세요!','Lovesick Girls 무대에서 블랙 베레모를 완벽하게 소화하며 힙걸로 변신한 제니,',' 이들의 공통점은? 소위 정석이라 불리는 방법으로 베레모 스타일을 연출한 것.','쿨한 인상을 주고 싶다면 이들처럼 한쪽 모발은 귀 뒤로 완전히 넘긴 채 베레모를 이마 앞쪽으로 바짝 당겨 사선으로 써보자.',' 이때, 이마나 구레나룻 쪽 잔머리가 지저분하게 나오지 않도록 실핀으로 고정하거나 헤어스프레이를 가볍게 뿌려 정돈해 주어야 전체적으로 깔끔해 보이는 스타일을 완성할 수 있다.'],\n",
    "['샤넬, 구찌, 생 로랑, 발렌시아가 등 수많은 패션 하우스들의 사랑을 받고 있는 블랙핑크 제니가 개인 인스타그램 계정을 오픈하고 데일리 룩을 업로드 중이다.',' 화려한 그녀의 사복 패션은 어떨까?','JENNIE dress 몸매가 드러나는 미니 드레스를 착용한 제니. 단조로운 디자인 보다는 군더더기 없는 실루엣에 트위드 소재나 패턴이 있는 미니 드레스로 사랑스럽게 연출했다.','LOVELY girl 포카리 걸이 생각나는 시폰 소재의 여성스러운 드레스나 오프 숄더로 청순한 매력까지 더한 제니.',\n",
    "' 긴 생머리와 레이스, 러플 디테일이 더해진 아이템과 크리스털 장식 주얼리까지 더하면 여성스러운 제니 변신 완료!','CHECK lover 제니가 클래식한 체크 패턴 룩을 입는 방법?','캐주얼한 톱과 디스트로이드 진에 체크 패턴 재킷을 착용해 드레스 업 하거나 튜브 톱 드레스로 클래식하면서도 여성스럽게 착용하는 것.','여기에 제니처럼 길이가 다른 네크리스를 레이어드 하는 센스를 발휘해 볼 것!',\n",
    "'ACT cool! 스포티한 룩도 본인만의 스타일로 연출하는 제니!','슬릿 디테일의 트레이닝 팬츠로 섹시함을 더하거나 짧은 쇼트에 삭스와 스니커즈로 귀엽게 연출해도 좋겠다.'],\n",
    "['11월 12일 오후 6시, 독보적인 매력과 뛰어난 실력으로 전 세계 브랜드들의 사랑을 한 몸에 받고 있는 블랙핑크 제니가 솔로 데뷔 곡 ‘SOLO’로 복귀했다.',\n",
    "'#인간구찌, #인간샤넬 등 걸어 다니는 명품으로 불리우며 노래면 노래, 랩이면 랩 못하는게 없는 완벽한 제니의 솔로 데뷔 곡 \"SOLO\".','발매와 동시에 국내는 물론 전 세계적으로 뜨거운 관심을 받고 있다.','곡만큼이나 핫 이슈로 떠오르고 있는 \"SOLO\" 뮤직비디오! ','화려한 영상미와 제니만의 독보적인 아름다움을 담아내 팬들은 물론 팬이 아닌 사람들까지 그녀에게 매료되었다고.','많은 관심 속 새롭게 이슈가 되고 있는 제니의 뮤비 속 스타일링!','제니를 더욱 돋보이게 했던 뮤비 속 스타일링을 지금바로 파헤쳐보자.'],\n",
    "['로고가 돋보이는 오버사이즈 티셔츠에 하의실종 룩을 선보인 블랙핑크 제니.','짧은 쇼츠를 가리는 낙낙한 실루엣의 톱으로 원피스처럼 연출한 것.',' 여기에 무릎 위까지 오는 니삭스로 90년대 감성을 더한 것도 제니만의 포인트.'],\n",
    "['CHANEL IN SEOUL. 샤넬 퍼렐 캡슐 컬렉션 오프닝을 기념해 샤넬 서울 플래그십 스토어를 방문한 블랙핑크 제니.','걸어 다니는 인형! 남다른 미모로 시선을  한몸에 받았다.','또한 이를 기념해, 한국을 방문한 퍼렐 윌리엄스와 함께 파티 공연까지!','<바자>가 생생하게 담은 뜨거운 현장을 감상해보자.'],\n",
    "['한편 국내 셀러브리티들의 공통점은? 바로 블루 체크다. 사랑스러운 분위기를 연출하고 싶다면 제니의 스타일링을 참고하자.','러플 디테일의 체크 재킷을 선택하고 헤어 밴드와 같은 액세서리까지 더하면 금상첨화!'],\n",
    "['제니가 제니 했다! ','블랙핑크 선공개 타이틀 곡〈How You Like That〉을 공개와 동시에 큰 이슈를 모은 것은? ','바로 제니의 투톤 브릿지 헤어 스타일.',' 앞머리 부분을 금발로 염색한 후, 반 묶음 헤어스타일을 연출한 제니.','올블랙에 반 묶음 헤어스타일을 연출했다면 어땠을까.','아마 단정한 무드로 그쳤을 것.','하지만 금발 컬러 포인트에 블랙 리본 헤어 액세서리를 더 해 오묘하면서 힙한 분위기를 배가시켰다.'],\n",
    "['화려한 디자인의 절정을 보여주는 제니의 네일.','비교적 짧은 손톱을 깔끔하게 다듬어, 투명하게 칠하거나 화이트 컬러를 얹었다.','그리고 그 위에 끼고 벗을 수 있는 UNISTELLA의 네일 링과 골드 컬러의 네일 주얼리를 더해 열 손가락 모두 포인트를 주었다.','타이틀 포스터에서 보인 제니의 네일은 더욱 강렬하다.','핑크 컬러의 독특한 아이 메이크업을 긴 손톱 위에도 표현했다.',' 반투명한 베이스 위에 불꽃을 형상화한 듯한 모양을 그린 것.',' 제니는 포스터의 강렬한 포즈와 대조되는 재치 있는 손짓을 더한 영상으로 팬들에게 재미를 선사했다.'],\n",
    "['Jentle Monster  가로수길의 성지로 떠오르고 있는 젠틀몬스터와 블랙핑크 제니가 만든 젠틀 홈.','인형의 집을 연상케 하는 귀엽고 아기자기한 아이템들이 가득한 젠틀 홈은 아이웨어 컬렉션부터 슈퍼마켓, 키친룸, 클로젯 등 제니가 꿈꿔온 판타지 세계를 구현했다.','특히 젠틀 마켓에서 제니가 픽한 보석 반지, 핸드폰 사탕 같은 위트 넘치는 굿즈는 팝업 스토어에서만 만날 수 있으니 잊지 말 것.',' 제니와 젠틀 몬스터가 함께한 젠틀 홈은 9월 12일까'],\n",
    "['다양한 크롭트 톱을 찰떡같이 소화하는 제니.','한쪽 어깨가 드러나는 원 오프숄더 디자인부터 프릴 장식이 더해진 페미닌한 무드의 크롭트 톱까지 완벽하게 소화했다.','각각 긴 네크리스를 더해 스트릿한 분위기를 내거나, 낮게 묶은 양 갈래 헤어와 이어링으로 룩에 포인트를 주었다.'],\n",
    "['특히 스퀘어 넥은 요즘 블랙핑크 제니, 레드벨벳 슬기등 셀럽들의 사랑을 듬뿍 받는 디자인 중 하나다.','바캉스 룩에서 빠질 수 없는 스트로 햇부터 로프 디테일 스트랩 샌들까지 한데 모여 각자의 존재감을 발휘한다.'],\n",
    "['화려한 제품들도 좋지만, 현실에서 즐기기에는 클래식한 진주 목걸이가 제격이다.','블랙핑크 제니처럼 매니시한 재킷과 셔츠에 함께하면 사랑스러운 분위기를 더할 수 있다.'],\n",
    "['갈매기 눈썹, 빨간 입술, 여기에 배꼽이 살짝 보일듯한 길이의 니트 카디건과 데님 팬츠로 데일리 룩에 어울리는 스타일로 눈길을 끌었다.','이 룩은 지금 블랙핑크 제니가 즐겨 입는 데일리 룩과도 비슷하다.','크롭트 톱이나 카디건에 오버 사이즈 데님 팬츠를 자주 착용하는 블랙핑크 제니.','여기에 90년대 유행한 집게핀 까지 더했으니, 금상첨화!'],\n",
    "['인간 구찌, 인간 샤넬 등 걸어 다니는 ‘인간명품’으로 불리는 제니.','이런 이미지 때문에 고가의 명품만 착용할 것 같다는 생각을 했다면 그것은 큰 오산이다.','저렴한 SPA 브랜드와 고가의 럭셔리 브랜드 제품을 믹스 매치하는 쿨함을 보여주었기 때문! ','배가 넘는 가격 차이의 제품임에도 불구하고 모두 고가의 제품처럼 보이게 만든 제니.','현재 우리가 스타일리시한 그녀의 데일리 룩을 주목해야 하는 이유다.'],\n",
    "['비니 하나로 시크하게! 블랙핑크 제니처럼 브랜드 로고가 새겨진 집업 재킷에 모노톤의 블랙 컬러 비니와 데님 팬츠를 매치해보자.','스포티하면서도 시크한 룩이 완성된다.'],\n",
    "['어떠한 메이크업도 완벽히 소화하는 만찢녀 제니.','코랄 컬러가 살짝 첨가된 오렌지 브라운 컬러로 청순한 음영 메이크업을 완성.'],\n",
    "['헤라의 블랙 라인은 헤라만의 시크한 세미 매트룩을 선사하며 전년 대비 40% 이상의 성장률을 기록하면서 헤라 메이크업 No. 1 라인으로 자리 잡았습니다.',' 특히 \"제니 효과\"를 톡톡히 본 블랙 파운데이션은 올해 매출 100억원이 달성이 기대되는 파운데이션이죠.'],\n",
    "['#인간샤넬, #인간구찌 다수 별명을 갖고 있는 제니의 애칭은? 바로 #젠득이.','새침하고 고양이 같은 외모와 상반되는 귀엽고 애교있는 성격으로 팬들의 사랑을 듬뿍 받고 있는 제니.','예쁜 얼굴과 스타일리시한 패션 감각까지 겸비해 남팬 뿐만 아니라 여자들의 워너비로 등극! 대세 오브 대세로 승승장구 중이다.'],\n",
    "['인간샤넬 이라는 별명을 보유한 블랙 핑크 제니.',' 칼 라거펠트의 터치로 샤넬 고유의 모더니즘이 더해진 마린 룩의 결정체를 보여줬다.','선원복에서 영감 받은 세일러 재킷과 미니 스커트, 화이트와 레드의 조화, 세일러 캡까지! 진주 네크리스, 이어링, 커프스 등 화려한 액세서리까지 더한 모델보다 룩 하나로 존재감을 더한 제니에게 한 표를 더한다.'],\n",
    "['청명한 하늘, 새하얀 모래사장, 넘실거리는 파도쇼장에 들어서자마자 눈앞엔 인공 해변이 펼쳐졌고, 곳곳에선 “역시!”라는 탄성이 터져나왔다.','그사이 퍼렐 윌리엄스, 페넬로페 크루즈, 블랙 핑크 제니 등 전 세계에서 모인 셀러브리티가 속속 도착했다.'],\n",
    "['블랙핑크 제니를 보고 깜짝 놀랐어요.','이렇게 균형이 잘 잡힌 몸이라니! 한국에서 정규 교육을 받았다면 절대 나올 수 없는 체형이죠.”']\n",
    "                    \n",
    "                   ]"
   ]
  },
  {
   "cell_type": "markdown",
   "metadata": {},
   "source": [
    "## 데이터 넣기 "
   ]
  },
  {
   "cell_type": "code",
   "execution_count": 64,
   "metadata": {},
   "outputs": [],
   "source": [
    "Bazaar_Je['title']    = Je_title_list\n",
    "Bazaar_Je['title_brand'] = Je_title_brand_list\n",
    "Bazaar_Je['category'] = Je_category_list\n",
    "Bazaar_Je['link'] = Je_link_list\n",
    "Bazaar_Je['date'] = Je_date_list\n",
    "Bazaar_Je['contents'] = Je_contents_list\n",
    "\n",
    "Bazaar_Je['magazine'] = 'Daum_Bazaar'\n",
    "Bazaar_Je['brand'] = 'Je'"
   ]
  },
  {
   "cell_type": "code",
   "execution_count": 67,
   "metadata": {},
   "outputs": [
    {
     "data": {
      "text/html": [
       "<div>\n",
       "<style scoped>\n",
       "    .dataframe tbody tr th:only-of-type {\n",
       "        vertical-align: middle;\n",
       "    }\n",
       "\n",
       "    .dataframe tbody tr th {\n",
       "        vertical-align: top;\n",
       "    }\n",
       "\n",
       "    .dataframe thead th {\n",
       "        text-align: right;\n",
       "    }\n",
       "</style>\n",
       "<table border=\"1\" class=\"dataframe\">\n",
       "  <thead>\n",
       "    <tr style=\"text-align: right;\">\n",
       "      <th></th>\n",
       "      <th>magazine</th>\n",
       "      <th>brand</th>\n",
       "      <th>category</th>\n",
       "      <th>title</th>\n",
       "      <th>link</th>\n",
       "      <th>date</th>\n",
       "      <th>contents</th>\n",
       "      <th>title_brand</th>\n",
       "    </tr>\n",
       "  </thead>\n",
       "  <tbody>\n",
       "    <tr>\n",
       "      <th>0</th>\n",
       "      <td>Daum_Bazaar</td>\n",
       "      <td>Je</td>\n",
       "      <td>FASHION</td>\n",
       "      <td>머플러 하나로 달라지는 스타일! 제니, 수지, 장희령처럼!</td>\n",
       "      <td>https://www.harpersbazaar.co.kr/article/50385</td>\n",
       "      <td>2020.11.27</td>\n",
       "      <td>[블랙핑크 제니, 겨울철 자칫 칙칙할 수 있는 스타일에 활기를 더해주는 머플러!, ...</td>\n",
       "      <td>1</td>\n",
       "    </tr>\n",
       "    <tr>\n",
       "      <th>1</th>\n",
       "      <td>Daum_Bazaar</td>\n",
       "      <td>Je</td>\n",
       "      <td>BEAUTY</td>\n",
       "      <td>화사, 제니가 선택한 네일 디자인은?</td>\n",
       "      <td>https://www.harpersbazaar.co.kr/article/47899</td>\n",
       "      <td>2020.07.28</td>\n",
       "      <td>[올여름엔 네일 디자인을 고르기 전 모양을 먼저 선택해야 할 듯., 오벌, 라운드,...</td>\n",
       "      <td>1</td>\n",
       "    </tr>\n",
       "    <tr>\n",
       "      <th>2</th>\n",
       "      <td>Daum_Bazaar</td>\n",
       "      <td>Je</td>\n",
       "      <td>CELEBRITY</td>\n",
       "      <td>벚꽃보다, 제니!</td>\n",
       "      <td>https://www.harpersbazaar.co.kr/article/45547</td>\n",
       "      <td>2020.03.24</td>\n",
       "      <td>[봄의 시작인 3월에 만난 제니는 벚꽃보다 더 아름답고 풍부한 매력을 발산했다., ...</td>\n",
       "      <td>1</td>\n",
       "    </tr>\n",
       "    <tr>\n",
       "      <th>3</th>\n",
       "      <td>Daum_Bazaar</td>\n",
       "      <td>Je</td>\n",
       "      <td>CELEBRITY</td>\n",
       "      <td>얼굴 소멸각! 셀럽들의 모자 스타일링 대방출!</td>\n",
       "      <td>https://www.harpersbazaar.co.kr/article/49651</td>\n",
       "      <td>2020.10.23</td>\n",
       "      <td>[이마는 꼭 1/3 이상 감춰주세요!, Lovesick Girls 무대에서 블랙 베...</td>\n",
       "      <td>0</td>\n",
       "    </tr>\n",
       "    <tr>\n",
       "      <th>4</th>\n",
       "      <td>Daum_Bazaar</td>\n",
       "      <td>Je</td>\n",
       "      <td>ART&amp;CULTURE</td>\n",
       "      <td>예뻐도 너무 예쁜 제니의 옷장</td>\n",
       "      <td>https://www.harpersbazaar.co.kr/article/39305</td>\n",
       "      <td>2018.06.25</td>\n",
       "      <td>[샤넬, 구찌, 생 로랑, 발렌시아가 등 수많은 패션 하우스들의 사랑을 받고 있는 ...</td>\n",
       "      <td>1</td>\n",
       "    </tr>\n",
       "    <tr>\n",
       "      <th>5</th>\n",
       "      <td>Daum_Bazaar</td>\n",
       "      <td>Je</td>\n",
       "      <td>FASHION</td>\n",
       "      <td>인간명품 블랙핑크 제니의 화려한 SOLO</td>\n",
       "      <td>https://www.harpersbazaar.co.kr/article/39710</td>\n",
       "      <td>2018.11.14</td>\n",
       "      <td>[11월 12일 오후 6시, 독보적인 매력과 뛰어난 실력으로 전 세계 브랜드들의 사...</td>\n",
       "      <td>1</td>\n",
       "    </tr>\n",
       "    <tr>\n",
       "      <th>6</th>\n",
       "      <td>Daum_Bazaar</td>\n",
       "      <td>Je</td>\n",
       "      <td>FASHION</td>\n",
       "      <td>지금 아니면 입을 수 없는 꿀조합</td>\n",
       "      <td>https://www.harpersbazaar.co.kr/article/48941</td>\n",
       "      <td>2020.09.21</td>\n",
       "      <td>[로고가 돋보이는 오버사이즈 티셔츠에 하의실종 룩을 선보인 블랙핑크 제니., 짧은 ...</td>\n",
       "      <td>0</td>\n",
       "    </tr>\n",
       "    <tr>\n",
       "      <th>7</th>\n",
       "      <td>Daum_Bazaar</td>\n",
       "      <td>Je</td>\n",
       "      <td>CELEBRITY</td>\n",
       "      <td>SNS에서 화제 되는 제니 영상! 실물 후기</td>\n",
       "      <td>https://www.harpersbazaar.co.kr/article/40053</td>\n",
       "      <td>2019.04.05</td>\n",
       "      <td>[CHANEL IN SEOUL. 샤넬 퍼렐 캡슐 컬렉션 오프닝을 기념해 샤넬 서울 ...</td>\n",
       "      <td>1</td>\n",
       "    </tr>\n",
       "    <tr>\n",
       "      <th>8</th>\n",
       "      <td>Daum_Bazaar</td>\n",
       "      <td>Je</td>\n",
       "      <td>FASHION</td>\n",
       "      <td>가을은 아묻따! 체크의 계절</td>\n",
       "      <td>https://www.harpersbazaar.co.kr/article/48902</td>\n",
       "      <td>2020.09.18</td>\n",
       "      <td>[한편 국내 셀러브리티들의 공통점은? 바로 블루 체크다. 사랑스러운 분위기를 연출하...</td>\n",
       "      <td>0</td>\n",
       "    </tr>\n",
       "    <tr>\n",
       "      <th>9</th>\n",
       "      <td>Daum_Bazaar</td>\n",
       "      <td>Je</td>\n",
       "      <td>BEAUTY</td>\n",
       "      <td>요즘 나만 빼고 다 한다는 투톤 브릿지 헤어!</td>\n",
       "      <td>https://www.harpersbazaar.co.kr/article/48057</td>\n",
       "      <td>2020.08.05</td>\n",
       "      <td>[제니가 제니 했다! , 블랙핑크 선공개 타이틀 곡〈How You Like That...</td>\n",
       "      <td>0</td>\n",
       "    </tr>\n",
       "    <tr>\n",
       "      <th>10</th>\n",
       "      <td>Daum_Bazaar</td>\n",
       "      <td>Je</td>\n",
       "      <td>CELEBRITY</td>\n",
       "      <td>난리 난 블랙핑크의 네일아트, 왜?</td>\n",
       "      <td>https://www.harpersbazaar.co.kr/article/47719</td>\n",
       "      <td>2020.07.17</td>\n",
       "      <td>[화려한 디자인의 절정을 보여주는 제니의 네일., 비교적 짧은 손톱을 깔끔하게 다듬...</td>\n",
       "      <td>0</td>\n",
       "    </tr>\n",
       "    <tr>\n",
       "      <th>11</th>\n",
       "      <td>Daum_Bazaar</td>\n",
       "      <td>Je</td>\n",
       "      <td>FASHION</td>\n",
       "      <td>떠오르는 패션 핫플 둘러보기</td>\n",
       "      <td>https://www.harpersbazaar.co.kr/article/46807</td>\n",
       "      <td>2020.05.29</td>\n",
       "      <td>[Jentle Monster  가로수길의 성지로 떠오르고 있는 젠틀몬스터와 블랙핑크...</td>\n",
       "      <td>0</td>\n",
       "    </tr>\n",
       "    <tr>\n",
       "      <th>12</th>\n",
       "      <td>Daum_Bazaar</td>\n",
       "      <td>Je</td>\n",
       "      <td>FASHION</td>\n",
       "      <td>크롭트 톱을 셀럽처럼 힙하게 입으려면?</td>\n",
       "      <td>https://www.harpersbazaar.co.kr/article/47901</td>\n",
       "      <td>2020.07.28</td>\n",
       "      <td>[다양한 크롭트 톱을 찰떡같이 소화하는 제니., 한쪽 어깨가 드러나는 원 오프숄더 ...</td>\n",
       "      <td>0</td>\n",
       "    </tr>\n",
       "    <tr>\n",
       "      <th>13</th>\n",
       "      <td>Daum_Bazaar</td>\n",
       "      <td>Je</td>\n",
       "      <td>FASHION</td>\n",
       "      <td>잘 고른 여름 원피스 한 벌</td>\n",
       "      <td>https://www.harpersbazaar.co.kr/article/47843</td>\n",
       "      <td>2020.07.24</td>\n",
       "      <td>[특히 스퀘어 넥은 요즘 블랙핑크 제니, 레드벨벳 슬기등 셀럽들의 사랑을 듬뿍 받는...</td>\n",
       "      <td>0</td>\n",
       "    </tr>\n",
       "    <tr>\n",
       "      <th>14</th>\n",
       "      <td>Daum_Bazaar</td>\n",
       "      <td>Je</td>\n",
       "      <td>FASHION</td>\n",
       "      <td>클래식한 진주 주얼리의 상큼한 귀환!</td>\n",
       "      <td>https://www.harpersbazaar.co.kr/article/47272</td>\n",
       "      <td>2020.06.24</td>\n",
       "      <td>[화려한 제품들도 좋지만, 현실에서 즐기기에는 클래식한 진주 목걸이가 제격이다., ...</td>\n",
       "      <td>0</td>\n",
       "    </tr>\n",
       "    <tr>\n",
       "      <th>15</th>\n",
       "      <td>Daum_Bazaar</td>\n",
       "      <td>Je</td>\n",
       "      <td>FASHION</td>\n",
       "      <td>돌고 도는 #탑골공원 패션</td>\n",
       "      <td>https://www.harpersbazaar.co.kr/article/42884</td>\n",
       "      <td>2019.10.28</td>\n",
       "      <td>[갈매기 눈썹, 빨간 입술, 여기에 배꼽이 살짝 보일듯한 길이의 니트 카디건과 데님...</td>\n",
       "      <td>0</td>\n",
       "    </tr>\n",
       "    <tr>\n",
       "      <th>16</th>\n",
       "      <td>Daum_Bazaar</td>\n",
       "      <td>Je</td>\n",
       "      <td>FASHION</td>\n",
       "      <td>가성비 최고! 국내 셀럽들의 SPA 브랜드 사용법</td>\n",
       "      <td>https://www.harpersbazaar.co.kr/article/40072</td>\n",
       "      <td>2019.04.18</td>\n",
       "      <td>[인간 구찌, 인간 샤넬 등 걸어 다니는 ‘인간명품’으로 불리는 제니., 이런 이미...</td>\n",
       "      <td>0</td>\n",
       "    </tr>\n",
       "    <tr>\n",
       "      <th>17</th>\n",
       "      <td>Daum_Bazaar</td>\n",
       "      <td>Je</td>\n",
       "      <td>FASHION</td>\n",
       "      <td>비니 하나 썼을 뿐인데 이렇게 예뻐졌다고?</td>\n",
       "      <td>https://www.harpersbazaar.co.kr/article/43169</td>\n",
       "      <td>2019.11.14</td>\n",
       "      <td>[비니 하나로 시크하게! 블랙핑크 제니처럼 브랜드 로고가 새겨진 집업 재킷에 모노톤...</td>\n",
       "      <td>0</td>\n",
       "    </tr>\n",
       "    <tr>\n",
       "      <th>18</th>\n",
       "      <td>Daum_Bazaar</td>\n",
       "      <td>Je</td>\n",
       "      <td>BEAUTY</td>\n",
       "      <td>무조건 구매각인 가을립컬러는? #스타러브즈</td>\n",
       "      <td>https://www.harpersbazaar.co.kr/article/42909</td>\n",
       "      <td>2019.10.29</td>\n",
       "      <td>[어떠한 메이크업도 완벽히 소화하는 만찢녀 제니., 코랄 컬러가 살짝 첨가된 오렌지...</td>\n",
       "      <td>0</td>\n",
       "    </tr>\n",
       "    <tr>\n",
       "      <th>19</th>\n",
       "      <td>Daum_Bazaar</td>\n",
       "      <td>Je</td>\n",
       "      <td>BEAUTY</td>\n",
       "      <td>코덕이라면 다 알걸? 2019 베스트셀러는?</td>\n",
       "      <td>https://www.harpersbazaar.co.kr/article/43866</td>\n",
       "      <td>2019.12.26</td>\n",
       "      <td>[헤라의 블랙 라인은 헤라만의 시크한 세미 매트룩을 선사하며 전년 대비 40% 이상...</td>\n",
       "      <td>0</td>\n",
       "    </tr>\n",
       "    <tr>\n",
       "      <th>20</th>\n",
       "      <td>Daum_Bazaar</td>\n",
       "      <td>Je</td>\n",
       "      <td>CELEBRITY</td>\n",
       "      <td>예쁨주의보</td>\n",
       "      <td>https://www.harpersbazaar.co.kr/article/39740</td>\n",
       "      <td>2018.12.07</td>\n",
       "      <td>[#인간샤넬, #인간구찌 다수 별명을 갖고 있는 제니의 애칭은? 바로 #젠득이., ...</td>\n",
       "      <td>0</td>\n",
       "    </tr>\n",
       "    <tr>\n",
       "      <th>21</th>\n",
       "      <td>Daum_Bazaar</td>\n",
       "      <td>Je</td>\n",
       "      <td>FASHION</td>\n",
       "      <td>어서와, 인간샤넬은 처음이지?</td>\n",
       "      <td>https://www.harpersbazaar.co.kr/article/39315</td>\n",
       "      <td>2018.06.28</td>\n",
       "      <td>[인간샤넬 이라는 별명을 보유한 블랙 핑크 제니.,  칼 라거펠트의 터치로 샤넬 고...</td>\n",
       "      <td>0</td>\n",
       "    </tr>\n",
       "    <tr>\n",
       "      <th>22</th>\n",
       "      <td>Daum_Bazaar</td>\n",
       "      <td>Je</td>\n",
       "      <td>FASHION</td>\n",
       "      <td>샤넬의 뮤즈 수주, 블핑 제니를 만나다</td>\n",
       "      <td>https://www.harpersbazaar.co.kr/article/39658</td>\n",
       "      <td>2018.11.13</td>\n",
       "      <td>[청명한 하늘, 새하얀 모래사장, 넘실거리는 파도쇼장에 들어서자마자 눈앞엔 인공 해...</td>\n",
       "      <td>1</td>\n",
       "    </tr>\n",
       "    <tr>\n",
       "      <th>23</th>\n",
       "      <td>Daum_Bazaar</td>\n",
       "      <td>Je</td>\n",
       "      <td>BEAUTY</td>\n",
       "      <td>내 몸의 균형을 잡아라!</td>\n",
       "      <td>https://www.harpersbazaar.co.kr/article/40062</td>\n",
       "      <td>2019.04.17</td>\n",
       "      <td>[블랙핑크 제니를 보고 깜짝 놀랐어요., 이렇게 균형이 잘 잡힌 몸이라니! 한국에서...</td>\n",
       "      <td>0</td>\n",
       "    </tr>\n",
       "  </tbody>\n",
       "</table>\n",
       "</div>"
      ],
      "text/plain": [
       "       magazine brand     category                             title  \\\n",
       "0   Daum_Bazaar    Je      FASHION  머플러 하나로 달라지는 스타일! 제니, 수지, 장희령처럼!   \n",
       "1   Daum_Bazaar    Je       BEAUTY              화사, 제니가 선택한 네일 디자인은?   \n",
       "2   Daum_Bazaar    Je    CELEBRITY                         벚꽃보다, 제니!   \n",
       "3   Daum_Bazaar    Je    CELEBRITY         얼굴 소멸각! 셀럽들의 모자 스타일링 대방출!   \n",
       "4   Daum_Bazaar    Je  ART&CULTURE                  예뻐도 너무 예쁜 제니의 옷장   \n",
       "5   Daum_Bazaar    Je      FASHION            인간명품 블랙핑크 제니의 화려한 SOLO   \n",
       "6   Daum_Bazaar    Je      FASHION                지금 아니면 입을 수 없는 꿀조합   \n",
       "7   Daum_Bazaar    Je    CELEBRITY          SNS에서 화제 되는 제니 영상! 실물 후기   \n",
       "8   Daum_Bazaar    Je      FASHION                   가을은 아묻따! 체크의 계절   \n",
       "9   Daum_Bazaar    Je       BEAUTY         요즘 나만 빼고 다 한다는 투톤 브릿지 헤어!   \n",
       "10  Daum_Bazaar    Je    CELEBRITY               난리 난 블랙핑크의 네일아트, 왜?   \n",
       "11  Daum_Bazaar    Je      FASHION                   떠오르는 패션 핫플 둘러보기   \n",
       "12  Daum_Bazaar    Je      FASHION             크롭트 톱을 셀럽처럼 힙하게 입으려면?   \n",
       "13  Daum_Bazaar    Je      FASHION                   잘 고른 여름 원피스 한 벌   \n",
       "14  Daum_Bazaar    Je      FASHION              클래식한 진주 주얼리의 상큼한 귀환!   \n",
       "15  Daum_Bazaar    Je      FASHION                    돌고 도는 #탑골공원 패션   \n",
       "16  Daum_Bazaar    Je      FASHION       가성비 최고! 국내 셀럽들의 SPA 브랜드 사용법   \n",
       "17  Daum_Bazaar    Je      FASHION           비니 하나 썼을 뿐인데 이렇게 예뻐졌다고?   \n",
       "18  Daum_Bazaar    Je       BEAUTY           무조건 구매각인 가을립컬러는? #스타러브즈   \n",
       "19  Daum_Bazaar    Je       BEAUTY          코덕이라면 다 알걸? 2019 베스트셀러는?   \n",
       "20  Daum_Bazaar    Je    CELEBRITY                             예쁨주의보   \n",
       "21  Daum_Bazaar    Je      FASHION                  어서와, 인간샤넬은 처음이지?   \n",
       "22  Daum_Bazaar    Je      FASHION             샤넬의 뮤즈 수주, 블핑 제니를 만나다   \n",
       "23  Daum_Bazaar    Je       BEAUTY                     내 몸의 균형을 잡아라!   \n",
       "\n",
       "                                             link        date  \\\n",
       "0   https://www.harpersbazaar.co.kr/article/50385  2020.11.27   \n",
       "1   https://www.harpersbazaar.co.kr/article/47899  2020.07.28   \n",
       "2   https://www.harpersbazaar.co.kr/article/45547  2020.03.24   \n",
       "3   https://www.harpersbazaar.co.kr/article/49651  2020.10.23   \n",
       "4   https://www.harpersbazaar.co.kr/article/39305  2018.06.25   \n",
       "5   https://www.harpersbazaar.co.kr/article/39710  2018.11.14   \n",
       "6   https://www.harpersbazaar.co.kr/article/48941  2020.09.21   \n",
       "7   https://www.harpersbazaar.co.kr/article/40053  2019.04.05   \n",
       "8   https://www.harpersbazaar.co.kr/article/48902  2020.09.18   \n",
       "9   https://www.harpersbazaar.co.kr/article/48057  2020.08.05   \n",
       "10  https://www.harpersbazaar.co.kr/article/47719  2020.07.17   \n",
       "11  https://www.harpersbazaar.co.kr/article/46807  2020.05.29   \n",
       "12  https://www.harpersbazaar.co.kr/article/47901  2020.07.28   \n",
       "13  https://www.harpersbazaar.co.kr/article/47843  2020.07.24   \n",
       "14  https://www.harpersbazaar.co.kr/article/47272  2020.06.24   \n",
       "15  https://www.harpersbazaar.co.kr/article/42884  2019.10.28   \n",
       "16  https://www.harpersbazaar.co.kr/article/40072  2019.04.18   \n",
       "17  https://www.harpersbazaar.co.kr/article/43169  2019.11.14   \n",
       "18  https://www.harpersbazaar.co.kr/article/42909  2019.10.29   \n",
       "19  https://www.harpersbazaar.co.kr/article/43866  2019.12.26   \n",
       "20  https://www.harpersbazaar.co.kr/article/39740  2018.12.07   \n",
       "21  https://www.harpersbazaar.co.kr/article/39315  2018.06.28   \n",
       "22  https://www.harpersbazaar.co.kr/article/39658  2018.11.13   \n",
       "23  https://www.harpersbazaar.co.kr/article/40062  2019.04.17   \n",
       "\n",
       "                                             contents  title_brand  \n",
       "0   [블랙핑크 제니, 겨울철 자칫 칙칙할 수 있는 스타일에 활기를 더해주는 머플러!, ...            1  \n",
       "1   [올여름엔 네일 디자인을 고르기 전 모양을 먼저 선택해야 할 듯., 오벌, 라운드,...            1  \n",
       "2   [봄의 시작인 3월에 만난 제니는 벚꽃보다 더 아름답고 풍부한 매력을 발산했다., ...            1  \n",
       "3   [이마는 꼭 1/3 이상 감춰주세요!, Lovesick Girls 무대에서 블랙 베...            0  \n",
       "4   [샤넬, 구찌, 생 로랑, 발렌시아가 등 수많은 패션 하우스들의 사랑을 받고 있는 ...            1  \n",
       "5   [11월 12일 오후 6시, 독보적인 매력과 뛰어난 실력으로 전 세계 브랜드들의 사...            1  \n",
       "6   [로고가 돋보이는 오버사이즈 티셔츠에 하의실종 룩을 선보인 블랙핑크 제니., 짧은 ...            0  \n",
       "7   [CHANEL IN SEOUL. 샤넬 퍼렐 캡슐 컬렉션 오프닝을 기념해 샤넬 서울 ...            1  \n",
       "8   [한편 국내 셀러브리티들의 공통점은? 바로 블루 체크다. 사랑스러운 분위기를 연출하...            0  \n",
       "9   [제니가 제니 했다! , 블랙핑크 선공개 타이틀 곡〈How You Like That...            0  \n",
       "10  [화려한 디자인의 절정을 보여주는 제니의 네일., 비교적 짧은 손톱을 깔끔하게 다듬...            0  \n",
       "11  [Jentle Monster  가로수길의 성지로 떠오르고 있는 젠틀몬스터와 블랙핑크...            0  \n",
       "12  [다양한 크롭트 톱을 찰떡같이 소화하는 제니., 한쪽 어깨가 드러나는 원 오프숄더 ...            0  \n",
       "13  [특히 스퀘어 넥은 요즘 블랙핑크 제니, 레드벨벳 슬기등 셀럽들의 사랑을 듬뿍 받는...            0  \n",
       "14  [화려한 제품들도 좋지만, 현실에서 즐기기에는 클래식한 진주 목걸이가 제격이다., ...            0  \n",
       "15  [갈매기 눈썹, 빨간 입술, 여기에 배꼽이 살짝 보일듯한 길이의 니트 카디건과 데님...            0  \n",
       "16  [인간 구찌, 인간 샤넬 등 걸어 다니는 ‘인간명품’으로 불리는 제니., 이런 이미...            0  \n",
       "17  [비니 하나로 시크하게! 블랙핑크 제니처럼 브랜드 로고가 새겨진 집업 재킷에 모노톤...            0  \n",
       "18  [어떠한 메이크업도 완벽히 소화하는 만찢녀 제니., 코랄 컬러가 살짝 첨가된 오렌지...            0  \n",
       "19  [헤라의 블랙 라인은 헤라만의 시크한 세미 매트룩을 선사하며 전년 대비 40% 이상...            0  \n",
       "20  [#인간샤넬, #인간구찌 다수 별명을 갖고 있는 제니의 애칭은? 바로 #젠득이., ...            0  \n",
       "21  [인간샤넬 이라는 별명을 보유한 블랙 핑크 제니.,  칼 라거펠트의 터치로 샤넬 고...            0  \n",
       "22  [청명한 하늘, 새하얀 모래사장, 넘실거리는 파도쇼장에 들어서자마자 눈앞엔 인공 해...            1  \n",
       "23  [블랙핑크 제니를 보고 깜짝 놀랐어요., 이렇게 균형이 잘 잡힌 몸이라니! 한국에서...            0  "
      ]
     },
     "execution_count": 67,
     "metadata": {},
     "output_type": "execute_result"
    }
   ],
   "source": [
    "Bazaar_Je"
   ]
  },
  {
   "cell_type": "markdown",
   "metadata": {},
   "source": [
    "## contents 다시 넣기 "
   ]
  },
  {
   "cell_type": "code",
   "execution_count": 142,
   "metadata": {},
   "outputs": [
    {
     "data": {
      "text/plain": [
       "['블랙핑크 로제',\n",
       " '시폰 드레스를 블랙핑크 로제처럼 쿨하게 연출하고 싶다면? 플라워 패턴의 미니 드레스를 선택한 로제. 셔링 디테일이 더해진 슬립 드레스로 여성스러움을 더했다.',\n",
       " '여기에 조개 디테일의 스트랩 샌들로 바캉스 룩에 포인트를 주었는데 볼 캡을 착용해 페미닌한 룩을 중화시켜준 것이 로제 스타일!']"
      ]
     },
     "execution_count": 142,
     "metadata": {},
     "output_type": "execute_result"
    }
   ],
   "source": [
    "R_contents_list[0]"
   ]
  },
  {
   "cell_type": "code",
   "execution_count": 151,
   "metadata": {},
   "outputs": [
    {
     "name": "stderr",
     "output_type": "stream",
     "text": [
      "C:\\ProgramData\\Anaconda3\\lib\\site-packages\\ipykernel_launcher.py:2: SettingWithCopyWarning: \n",
      "A value is trying to be set on a copy of a slice from a DataFrame\n",
      "\n",
      "See the caveats in the documentation: https://pandas.pydata.org/pandas-docs/stable/user_guide/indexing.html#returning-a-view-versus-a-copy\n",
      "  \n"
     ]
    }
   ],
   "source": [
    "for i in range(len(Bazaar_R)):\n",
    "    Bazaar_R['contents'][i] = R_contents_list[i]\n",
    "    "
   ]
  },
  {
   "cell_type": "code",
   "execution_count": 153,
   "metadata": {},
   "outputs": [
    {
     "name": "stderr",
     "output_type": "stream",
     "text": [
      "C:\\ProgramData\\Anaconda3\\lib\\site-packages\\ipykernel_launcher.py:2: SettingWithCopyWarning: \n",
      "A value is trying to be set on a copy of a slice from a DataFrame\n",
      "\n",
      "See the caveats in the documentation: https://pandas.pydata.org/pandas-docs/stable/user_guide/indexing.html#returning-a-view-versus-a-copy\n",
      "  \n"
     ]
    }
   ],
   "source": [
    "for i in range(len(Bazaar_L)):\n",
    "    Bazaar_L['contents'][i] = L_contents_list[i]"
   ]
  },
  {
   "cell_type": "code",
   "execution_count": 154,
   "metadata": {},
   "outputs": [
    {
     "name": "stderr",
     "output_type": "stream",
     "text": [
      "C:\\ProgramData\\Anaconda3\\lib\\site-packages\\ipykernel_launcher.py:2: SettingWithCopyWarning: \n",
      "A value is trying to be set on a copy of a slice from a DataFrame\n",
      "\n",
      "See the caveats in the documentation: https://pandas.pydata.org/pandas-docs/stable/user_guide/indexing.html#returning-a-view-versus-a-copy\n",
      "  \n"
     ]
    }
   ],
   "source": [
    "for i in range(len(Bazaar_Je)):\n",
    "    Bazaar_Je['contents'][i] = Je_contents_list[i]"
   ]
  },
  {
   "cell_type": "code",
   "execution_count": 155,
   "metadata": {},
   "outputs": [
    {
     "name": "stderr",
     "output_type": "stream",
     "text": [
      "C:\\ProgramData\\Anaconda3\\lib\\site-packages\\ipykernel_launcher.py:2: SettingWithCopyWarning: \n",
      "A value is trying to be set on a copy of a slice from a DataFrame\n",
      "\n",
      "See the caveats in the documentation: https://pandas.pydata.org/pandas-docs/stable/user_guide/indexing.html#returning-a-view-versus-a-copy\n",
      "  \n"
     ]
    }
   ],
   "source": [
    "for i in range(len(Bazaar_Ji)):\n",
    "    Bazaar_Ji['contents'][i] = Ji_contents_list[i]"
   ]
  },
  {
   "cell_type": "code",
   "execution_count": null,
   "metadata": {},
   "outputs": [],
   "source": []
  },
  {
   "cell_type": "code",
   "execution_count": null,
   "metadata": {},
   "outputs": [],
   "source": []
  },
  {
   "cell_type": "code",
   "execution_count": 168,
   "metadata": {},
   "outputs": [
    {
     "data": {
      "text/plain": [
       "' 셀린의 뮤즈인 리사.'"
      ]
     },
     "execution_count": 168,
     "metadata": {},
     "output_type": "execute_result"
    }
   ],
   "source": []
  },
  {
   "cell_type": "markdown",
   "metadata": {},
   "source": [
    "# 데이터 저장 "
   ]
  },
  {
   "cell_type": "code",
   "execution_count": 156,
   "metadata": {},
   "outputs": [],
   "source": [
    "Bazaar_R.to_csv(\"./contents/Bazaar_R.csv\", sep = \"|\", encoding = 'utf-8', index = False)\n",
    "Bazaar_L.to_csv(\"./contents/Bazaar_L.csv\", sep = \"|\", encoding = 'utf-8', index = False)\n",
    "Bazaar_Je.to_csv(\"./contents/Bazaar_Je.csv\", sep = \"|\", encoding = 'utf-8', index = False)\n",
    "Bazaar_Ji.to_csv(\"./contents/Bazaar_Ji.csv\", sep = \"|\", encoding = 'utf-8', index = False)"
   ]
  },
  {
   "cell_type": "markdown",
   "metadata": {},
   "source": [
    "# 확인 "
   ]
  },
  {
   "cell_type": "code",
   "execution_count": 157,
   "metadata": {},
   "outputs": [],
   "source": [
    "result_R = pd.read_csv(\"./contents/Bazaar_R.csv\", sep = \"|\")\n",
    "result_L= pd.read_csv(\"./contents/Bazaar_L.csv\", sep = \"|\")\n",
    "result_Je= pd.read_csv(\"./contents/Bazaar_Je.csv\", sep = \"|\")\n",
    "result_Ji= pd.read_csv(\"./contents/Bazaar_Ji.csv\", sep = \"|\")"
   ]
  },
  {
   "cell_type": "code",
   "execution_count": 162,
   "metadata": {},
   "outputs": [
    {
     "ename": "KeyError",
     "evalue": "0",
     "output_type": "error",
     "traceback": [
      "\u001b[1;31m---------------------------------------------------------------------------\u001b[0m",
      "\u001b[1;31mKeyError\u001b[0m                                  Traceback (most recent call last)",
      "\u001b[1;32mC:\\ProgramData\\Anaconda3\\lib\\site-packages\\pandas\\core\\indexes\\base.py\u001b[0m in \u001b[0;36mget_loc\u001b[1;34m(self, key, method, tolerance)\u001b[0m\n\u001b[0;32m   2645\u001b[0m             \u001b[1;32mtry\u001b[0m\u001b[1;33m:\u001b[0m\u001b[1;33m\u001b[0m\u001b[1;33m\u001b[0m\u001b[0m\n\u001b[1;32m-> 2646\u001b[1;33m                 \u001b[1;32mreturn\u001b[0m \u001b[0mself\u001b[0m\u001b[1;33m.\u001b[0m\u001b[0m_engine\u001b[0m\u001b[1;33m.\u001b[0m\u001b[0mget_loc\u001b[0m\u001b[1;33m(\u001b[0m\u001b[0mkey\u001b[0m\u001b[1;33m)\u001b[0m\u001b[1;33m\u001b[0m\u001b[1;33m\u001b[0m\u001b[0m\n\u001b[0m\u001b[0;32m   2647\u001b[0m             \u001b[1;32mexcept\u001b[0m \u001b[0mKeyError\u001b[0m\u001b[1;33m:\u001b[0m\u001b[1;33m\u001b[0m\u001b[1;33m\u001b[0m\u001b[0m\n",
      "\u001b[1;32mpandas\\_libs\\index.pyx\u001b[0m in \u001b[0;36mpandas._libs.index.IndexEngine.get_loc\u001b[1;34m()\u001b[0m\n",
      "\u001b[1;32mpandas\\_libs\\index.pyx\u001b[0m in \u001b[0;36mpandas._libs.index.IndexEngine.get_loc\u001b[1;34m()\u001b[0m\n",
      "\u001b[1;32mpandas\\_libs\\hashtable_class_helper.pxi\u001b[0m in \u001b[0;36mpandas._libs.hashtable.PyObjectHashTable.get_item\u001b[1;34m()\u001b[0m\n",
      "\u001b[1;32mpandas\\_libs\\hashtable_class_helper.pxi\u001b[0m in \u001b[0;36mpandas._libs.hashtable.PyObjectHashTable.get_item\u001b[1;34m()\u001b[0m\n",
      "\u001b[1;31mKeyError\u001b[0m: 0",
      "\nDuring handling of the above exception, another exception occurred:\n",
      "\u001b[1;31mKeyError\u001b[0m                                  Traceback (most recent call last)",
      "\u001b[1;32m<ipython-input-162-c7b8807d05d9>\u001b[0m in \u001b[0;36m<module>\u001b[1;34m\u001b[0m\n\u001b[1;32m----> 1\u001b[1;33m \u001b[0mresult_R\u001b[0m\u001b[1;33m[\u001b[0m\u001b[1;36m0\u001b[0m\u001b[1;33m]\u001b[0m\u001b[1;33m\u001b[0m\u001b[1;33m\u001b[0m\u001b[0m\n\u001b[0m",
      "\u001b[1;32mC:\\ProgramData\\Anaconda3\\lib\\site-packages\\pandas\\core\\frame.py\u001b[0m in \u001b[0;36m__getitem__\u001b[1;34m(self, key)\u001b[0m\n\u001b[0;32m   2798\u001b[0m             \u001b[1;32mif\u001b[0m \u001b[0mself\u001b[0m\u001b[1;33m.\u001b[0m\u001b[0mcolumns\u001b[0m\u001b[1;33m.\u001b[0m\u001b[0mnlevels\u001b[0m \u001b[1;33m>\u001b[0m \u001b[1;36m1\u001b[0m\u001b[1;33m:\u001b[0m\u001b[1;33m\u001b[0m\u001b[1;33m\u001b[0m\u001b[0m\n\u001b[0;32m   2799\u001b[0m                 \u001b[1;32mreturn\u001b[0m \u001b[0mself\u001b[0m\u001b[1;33m.\u001b[0m\u001b[0m_getitem_multilevel\u001b[0m\u001b[1;33m(\u001b[0m\u001b[0mkey\u001b[0m\u001b[1;33m)\u001b[0m\u001b[1;33m\u001b[0m\u001b[1;33m\u001b[0m\u001b[0m\n\u001b[1;32m-> 2800\u001b[1;33m             \u001b[0mindexer\u001b[0m \u001b[1;33m=\u001b[0m \u001b[0mself\u001b[0m\u001b[1;33m.\u001b[0m\u001b[0mcolumns\u001b[0m\u001b[1;33m.\u001b[0m\u001b[0mget_loc\u001b[0m\u001b[1;33m(\u001b[0m\u001b[0mkey\u001b[0m\u001b[1;33m)\u001b[0m\u001b[1;33m\u001b[0m\u001b[1;33m\u001b[0m\u001b[0m\n\u001b[0m\u001b[0;32m   2801\u001b[0m             \u001b[1;32mif\u001b[0m \u001b[0mis_integer\u001b[0m\u001b[1;33m(\u001b[0m\u001b[0mindexer\u001b[0m\u001b[1;33m)\u001b[0m\u001b[1;33m:\u001b[0m\u001b[1;33m\u001b[0m\u001b[1;33m\u001b[0m\u001b[0m\n\u001b[0;32m   2802\u001b[0m                 \u001b[0mindexer\u001b[0m \u001b[1;33m=\u001b[0m \u001b[1;33m[\u001b[0m\u001b[0mindexer\u001b[0m\u001b[1;33m]\u001b[0m\u001b[1;33m\u001b[0m\u001b[1;33m\u001b[0m\u001b[0m\n",
      "\u001b[1;32mC:\\ProgramData\\Anaconda3\\lib\\site-packages\\pandas\\core\\indexes\\base.py\u001b[0m in \u001b[0;36mget_loc\u001b[1;34m(self, key, method, tolerance)\u001b[0m\n\u001b[0;32m   2646\u001b[0m                 \u001b[1;32mreturn\u001b[0m \u001b[0mself\u001b[0m\u001b[1;33m.\u001b[0m\u001b[0m_engine\u001b[0m\u001b[1;33m.\u001b[0m\u001b[0mget_loc\u001b[0m\u001b[1;33m(\u001b[0m\u001b[0mkey\u001b[0m\u001b[1;33m)\u001b[0m\u001b[1;33m\u001b[0m\u001b[1;33m\u001b[0m\u001b[0m\n\u001b[0;32m   2647\u001b[0m             \u001b[1;32mexcept\u001b[0m \u001b[0mKeyError\u001b[0m\u001b[1;33m:\u001b[0m\u001b[1;33m\u001b[0m\u001b[1;33m\u001b[0m\u001b[0m\n\u001b[1;32m-> 2648\u001b[1;33m                 \u001b[1;32mreturn\u001b[0m \u001b[0mself\u001b[0m\u001b[1;33m.\u001b[0m\u001b[0m_engine\u001b[0m\u001b[1;33m.\u001b[0m\u001b[0mget_loc\u001b[0m\u001b[1;33m(\u001b[0m\u001b[0mself\u001b[0m\u001b[1;33m.\u001b[0m\u001b[0m_maybe_cast_indexer\u001b[0m\u001b[1;33m(\u001b[0m\u001b[0mkey\u001b[0m\u001b[1;33m)\u001b[0m\u001b[1;33m)\u001b[0m\u001b[1;33m\u001b[0m\u001b[1;33m\u001b[0m\u001b[0m\n\u001b[0m\u001b[0;32m   2649\u001b[0m         \u001b[0mindexer\u001b[0m \u001b[1;33m=\u001b[0m \u001b[0mself\u001b[0m\u001b[1;33m.\u001b[0m\u001b[0mget_indexer\u001b[0m\u001b[1;33m(\u001b[0m\u001b[1;33m[\u001b[0m\u001b[0mkey\u001b[0m\u001b[1;33m]\u001b[0m\u001b[1;33m,\u001b[0m \u001b[0mmethod\u001b[0m\u001b[1;33m=\u001b[0m\u001b[0mmethod\u001b[0m\u001b[1;33m,\u001b[0m \u001b[0mtolerance\u001b[0m\u001b[1;33m=\u001b[0m\u001b[0mtolerance\u001b[0m\u001b[1;33m)\u001b[0m\u001b[1;33m\u001b[0m\u001b[1;33m\u001b[0m\u001b[0m\n\u001b[0;32m   2650\u001b[0m         \u001b[1;32mif\u001b[0m \u001b[0mindexer\u001b[0m\u001b[1;33m.\u001b[0m\u001b[0mndim\u001b[0m \u001b[1;33m>\u001b[0m \u001b[1;36m1\u001b[0m \u001b[1;32mor\u001b[0m \u001b[0mindexer\u001b[0m\u001b[1;33m.\u001b[0m\u001b[0msize\u001b[0m \u001b[1;33m>\u001b[0m \u001b[1;36m1\u001b[0m\u001b[1;33m:\u001b[0m\u001b[1;33m\u001b[0m\u001b[1;33m\u001b[0m\u001b[0m\n",
      "\u001b[1;32mpandas\\_libs\\index.pyx\u001b[0m in \u001b[0;36mpandas._libs.index.IndexEngine.get_loc\u001b[1;34m()\u001b[0m\n",
      "\u001b[1;32mpandas\\_libs\\index.pyx\u001b[0m in \u001b[0;36mpandas._libs.index.IndexEngine.get_loc\u001b[1;34m()\u001b[0m\n",
      "\u001b[1;32mpandas\\_libs\\hashtable_class_helper.pxi\u001b[0m in \u001b[0;36mpandas._libs.hashtable.PyObjectHashTable.get_item\u001b[1;34m()\u001b[0m\n",
      "\u001b[1;32mpandas\\_libs\\hashtable_class_helper.pxi\u001b[0m in \u001b[0;36mpandas._libs.hashtable.PyObjectHashTable.get_item\u001b[1;34m()\u001b[0m\n",
      "\u001b[1;31mKeyError\u001b[0m: 0"
     ]
    }
   ],
   "source": [
    "result_R[0]"
   ]
  },
  {
   "cell_type": "code",
   "execution_count": 164,
   "metadata": {
    "scrolled": true
   },
   "outputs": [
    {
     "data": {
      "text/plain": [
       "\"'\""
      ]
     },
     "execution_count": 164,
     "metadata": {},
     "output_type": "execute_result"
    }
   ],
   "source": [
    "result_R['contents'][0][1]"
   ]
  },
  {
   "cell_type": "code",
   "execution_count": 82,
   "metadata": {},
   "outputs": [
    {
     "data": {
      "text/html": [
       "<div>\n",
       "<style scoped>\n",
       "    .dataframe tbody tr th:only-of-type {\n",
       "        vertical-align: middle;\n",
       "    }\n",
       "\n",
       "    .dataframe tbody tr th {\n",
       "        vertical-align: top;\n",
       "    }\n",
       "\n",
       "    .dataframe thead th {\n",
       "        text-align: right;\n",
       "    }\n",
       "</style>\n",
       "<table border=\"1\" class=\"dataframe\">\n",
       "  <thead>\n",
       "    <tr style=\"text-align: right;\">\n",
       "      <th></th>\n",
       "      <th>magazine</th>\n",
       "      <th>brand</th>\n",
       "      <th>category</th>\n",
       "      <th>title</th>\n",
       "      <th>link</th>\n",
       "      <th>date</th>\n",
       "      <th>contents</th>\n",
       "      <th>title_brand</th>\n",
       "    </tr>\n",
       "  </thead>\n",
       "  <tbody>\n",
       "    <tr>\n",
       "      <th>0</th>\n",
       "      <td>Daum_Bazaar</td>\n",
       "      <td>Je</td>\n",
       "      <td>FASHION</td>\n",
       "      <td>머플러 하나로 달라지는 스타일! 제니, 수지, 장희령처럼!</td>\n",
       "      <td>https://www.harpersbazaar.co.kr/article/50385</td>\n",
       "      <td>2020.11.27</td>\n",
       "      <td>['블랙핑크 제니', '겨울철 자칫 칙칙할 수 있는 스타일에 활기를 더해주는 머플러...</td>\n",
       "      <td>1</td>\n",
       "    </tr>\n",
       "    <tr>\n",
       "      <th>1</th>\n",
       "      <td>Daum_Bazaar</td>\n",
       "      <td>Je</td>\n",
       "      <td>BEAUTY</td>\n",
       "      <td>화사, 제니가 선택한 네일 디자인은?</td>\n",
       "      <td>https://www.harpersbazaar.co.kr/article/47899</td>\n",
       "      <td>2020.07.28</td>\n",
       "      <td>['올여름엔 네일 디자인을 고르기 전 모양을 먼저 선택해야 할 듯.', '오벌, 라...</td>\n",
       "      <td>1</td>\n",
       "    </tr>\n",
       "    <tr>\n",
       "      <th>2</th>\n",
       "      <td>Daum_Bazaar</td>\n",
       "      <td>Je</td>\n",
       "      <td>CELEBRITY</td>\n",
       "      <td>벚꽃보다, 제니!</td>\n",
       "      <td>https://www.harpersbazaar.co.kr/article/45547</td>\n",
       "      <td>2020.03.24</td>\n",
       "      <td>['봄의 시작인 3월에 만난 제니는 벚꽃보다 더 아름답고 풍부한 매력을 발산했다.'...</td>\n",
       "      <td>1</td>\n",
       "    </tr>\n",
       "    <tr>\n",
       "      <th>3</th>\n",
       "      <td>Daum_Bazaar</td>\n",
       "      <td>Je</td>\n",
       "      <td>CELEBRITY</td>\n",
       "      <td>얼굴 소멸각! 셀럽들의 모자 스타일링 대방출!</td>\n",
       "      <td>https://www.harpersbazaar.co.kr/article/49651</td>\n",
       "      <td>2020.10.23</td>\n",
       "      <td>['이마는 꼭 1/3 이상 감춰주세요!', 'Lovesick Girls 무대에서 블...</td>\n",
       "      <td>0</td>\n",
       "    </tr>\n",
       "    <tr>\n",
       "      <th>4</th>\n",
       "      <td>Daum_Bazaar</td>\n",
       "      <td>Je</td>\n",
       "      <td>ART&amp;CULTURE</td>\n",
       "      <td>예뻐도 너무 예쁜 제니의 옷장</td>\n",
       "      <td>https://www.harpersbazaar.co.kr/article/39305</td>\n",
       "      <td>2018.06.25</td>\n",
       "      <td>['샤넬, 구찌, 생 로랑, 발렌시아가 등 수많은 패션 하우스들의 사랑을 받고 있는...</td>\n",
       "      <td>1</td>\n",
       "    </tr>\n",
       "    <tr>\n",
       "      <th>5</th>\n",
       "      <td>Daum_Bazaar</td>\n",
       "      <td>Je</td>\n",
       "      <td>FASHION</td>\n",
       "      <td>인간명품 블랙핑크 제니의 화려한 SOLO</td>\n",
       "      <td>https://www.harpersbazaar.co.kr/article/39710</td>\n",
       "      <td>2018.11.14</td>\n",
       "      <td>['11월 12일 오후 6시, 독보적인 매력과 뛰어난 실력으로 전 세계 브랜드들의 ...</td>\n",
       "      <td>1</td>\n",
       "    </tr>\n",
       "    <tr>\n",
       "      <th>6</th>\n",
       "      <td>Daum_Bazaar</td>\n",
       "      <td>Je</td>\n",
       "      <td>FASHION</td>\n",
       "      <td>지금 아니면 입을 수 없는 꿀조합</td>\n",
       "      <td>https://www.harpersbazaar.co.kr/article/48941</td>\n",
       "      <td>2020.09.21</td>\n",
       "      <td>['로고가 돋보이는 오버사이즈 티셔츠에 하의실종 룩을 선보인 블랙핑크 제니.', '...</td>\n",
       "      <td>0</td>\n",
       "    </tr>\n",
       "    <tr>\n",
       "      <th>7</th>\n",
       "      <td>Daum_Bazaar</td>\n",
       "      <td>Je</td>\n",
       "      <td>CELEBRITY</td>\n",
       "      <td>SNS에서 화제 되는 제니 영상! 실물 후기</td>\n",
       "      <td>https://www.harpersbazaar.co.kr/article/40053</td>\n",
       "      <td>2019.04.05</td>\n",
       "      <td>['CHANEL IN SEOUL. 샤넬 퍼렐 캡슐 컬렉션 오프닝을 기념해 샤넬 서울...</td>\n",
       "      <td>1</td>\n",
       "    </tr>\n",
       "    <tr>\n",
       "      <th>8</th>\n",
       "      <td>Daum_Bazaar</td>\n",
       "      <td>Je</td>\n",
       "      <td>FASHION</td>\n",
       "      <td>가을은 아묻따! 체크의 계절</td>\n",
       "      <td>https://www.harpersbazaar.co.kr/article/48902</td>\n",
       "      <td>2020.09.18</td>\n",
       "      <td>['한편 국내 셀러브리티들의 공통점은? 바로 블루 체크다. 사랑스러운 분위기를 연출...</td>\n",
       "      <td>0</td>\n",
       "    </tr>\n",
       "    <tr>\n",
       "      <th>9</th>\n",
       "      <td>Daum_Bazaar</td>\n",
       "      <td>Je</td>\n",
       "      <td>BEAUTY</td>\n",
       "      <td>요즘 나만 빼고 다 한다는 투톤 브릿지 헤어!</td>\n",
       "      <td>https://www.harpersbazaar.co.kr/article/48057</td>\n",
       "      <td>2020.08.05</td>\n",
       "      <td>['제니가 제니 했다! ', '블랙핑크 선공개 타이틀 곡〈How You Like T...</td>\n",
       "      <td>0</td>\n",
       "    </tr>\n",
       "    <tr>\n",
       "      <th>10</th>\n",
       "      <td>Daum_Bazaar</td>\n",
       "      <td>Je</td>\n",
       "      <td>CELEBRITY</td>\n",
       "      <td>난리 난 블랙핑크의 네일아트, 왜?</td>\n",
       "      <td>https://www.harpersbazaar.co.kr/article/47719</td>\n",
       "      <td>2020.07.17</td>\n",
       "      <td>['화려한 디자인의 절정을 보여주는 제니의 네일.', '비교적 짧은 손톱을 깔끔하게...</td>\n",
       "      <td>0</td>\n",
       "    </tr>\n",
       "    <tr>\n",
       "      <th>11</th>\n",
       "      <td>Daum_Bazaar</td>\n",
       "      <td>Je</td>\n",
       "      <td>FASHION</td>\n",
       "      <td>떠오르는 패션 핫플 둘러보기</td>\n",
       "      <td>https://www.harpersbazaar.co.kr/article/46807</td>\n",
       "      <td>2020.05.29</td>\n",
       "      <td>['Jentle Monster  가로수길의 성지로 떠오르고 있는 젠틀몬스터와 블랙핑...</td>\n",
       "      <td>0</td>\n",
       "    </tr>\n",
       "    <tr>\n",
       "      <th>12</th>\n",
       "      <td>Daum_Bazaar</td>\n",
       "      <td>Je</td>\n",
       "      <td>FASHION</td>\n",
       "      <td>크롭트 톱을 셀럽처럼 힙하게 입으려면?</td>\n",
       "      <td>https://www.harpersbazaar.co.kr/article/47901</td>\n",
       "      <td>2020.07.28</td>\n",
       "      <td>['다양한 크롭트 톱을 찰떡같이 소화하는 제니.', '한쪽 어깨가 드러나는 원 오프...</td>\n",
       "      <td>0</td>\n",
       "    </tr>\n",
       "    <tr>\n",
       "      <th>13</th>\n",
       "      <td>Daum_Bazaar</td>\n",
       "      <td>Je</td>\n",
       "      <td>FASHION</td>\n",
       "      <td>잘 고른 여름 원피스 한 벌</td>\n",
       "      <td>https://www.harpersbazaar.co.kr/article/47843</td>\n",
       "      <td>2020.07.24</td>\n",
       "      <td>['특히 스퀘어 넥은 요즘 블랙핑크 제니, 레드벨벳 슬기등 셀럽들의 사랑을 듬뿍 받...</td>\n",
       "      <td>0</td>\n",
       "    </tr>\n",
       "    <tr>\n",
       "      <th>14</th>\n",
       "      <td>Daum_Bazaar</td>\n",
       "      <td>Je</td>\n",
       "      <td>FASHION</td>\n",
       "      <td>클래식한 진주 주얼리의 상큼한 귀환!</td>\n",
       "      <td>https://www.harpersbazaar.co.kr/article/47272</td>\n",
       "      <td>2020.06.24</td>\n",
       "      <td>['화려한 제품들도 좋지만, 현실에서 즐기기에는 클래식한 진주 목걸이가 제격이다.'...</td>\n",
       "      <td>0</td>\n",
       "    </tr>\n",
       "    <tr>\n",
       "      <th>15</th>\n",
       "      <td>Daum_Bazaar</td>\n",
       "      <td>Je</td>\n",
       "      <td>FASHION</td>\n",
       "      <td>돌고 도는 #탑골공원 패션</td>\n",
       "      <td>https://www.harpersbazaar.co.kr/article/42884</td>\n",
       "      <td>2019.10.28</td>\n",
       "      <td>['갈매기 눈썹, 빨간 입술, 여기에 배꼽이 살짝 보일듯한 길이의 니트 카디건과 데...</td>\n",
       "      <td>0</td>\n",
       "    </tr>\n",
       "    <tr>\n",
       "      <th>16</th>\n",
       "      <td>Daum_Bazaar</td>\n",
       "      <td>Je</td>\n",
       "      <td>FASHION</td>\n",
       "      <td>가성비 최고! 국내 셀럽들의 SPA 브랜드 사용법</td>\n",
       "      <td>https://www.harpersbazaar.co.kr/article/40072</td>\n",
       "      <td>2019.04.18</td>\n",
       "      <td>['인간 구찌, 인간 샤넬 등 걸어 다니는 ‘인간명품’으로 불리는 제니.', '이런...</td>\n",
       "      <td>0</td>\n",
       "    </tr>\n",
       "    <tr>\n",
       "      <th>17</th>\n",
       "      <td>Daum_Bazaar</td>\n",
       "      <td>Je</td>\n",
       "      <td>FASHION</td>\n",
       "      <td>비니 하나 썼을 뿐인데 이렇게 예뻐졌다고?</td>\n",
       "      <td>https://www.harpersbazaar.co.kr/article/43169</td>\n",
       "      <td>2019.11.14</td>\n",
       "      <td>['비니 하나로 시크하게! 블랙핑크 제니처럼 브랜드 로고가 새겨진 집업 재킷에 모노...</td>\n",
       "      <td>0</td>\n",
       "    </tr>\n",
       "    <tr>\n",
       "      <th>18</th>\n",
       "      <td>Daum_Bazaar</td>\n",
       "      <td>Je</td>\n",
       "      <td>BEAUTY</td>\n",
       "      <td>무조건 구매각인 가을립컬러는? #스타러브즈</td>\n",
       "      <td>https://www.harpersbazaar.co.kr/article/42909</td>\n",
       "      <td>2019.10.29</td>\n",
       "      <td>['어떠한 메이크업도 완벽히 소화하는 만찢녀 제니.', '코랄 컬러가 살짝 첨가된 ...</td>\n",
       "      <td>0</td>\n",
       "    </tr>\n",
       "    <tr>\n",
       "      <th>19</th>\n",
       "      <td>Daum_Bazaar</td>\n",
       "      <td>Je</td>\n",
       "      <td>BEAUTY</td>\n",
       "      <td>코덕이라면 다 알걸? 2019 베스트셀러는?</td>\n",
       "      <td>https://www.harpersbazaar.co.kr/article/43866</td>\n",
       "      <td>2019.12.26</td>\n",
       "      <td>['헤라의 블랙 라인은 헤라만의 시크한 세미 매트룩을 선사하며 전년 대비 40% 이...</td>\n",
       "      <td>0</td>\n",
       "    </tr>\n",
       "    <tr>\n",
       "      <th>20</th>\n",
       "      <td>Daum_Bazaar</td>\n",
       "      <td>Je</td>\n",
       "      <td>CELEBRITY</td>\n",
       "      <td>예쁨주의보</td>\n",
       "      <td>https://www.harpersbazaar.co.kr/article/39740</td>\n",
       "      <td>2018.12.07</td>\n",
       "      <td>['#인간샤넬, #인간구찌 다수 별명을 갖고 있는 제니의 애칭은? 바로 #젠득이.'...</td>\n",
       "      <td>0</td>\n",
       "    </tr>\n",
       "    <tr>\n",
       "      <th>21</th>\n",
       "      <td>Daum_Bazaar</td>\n",
       "      <td>Je</td>\n",
       "      <td>FASHION</td>\n",
       "      <td>어서와, 인간샤넬은 처음이지?</td>\n",
       "      <td>https://www.harpersbazaar.co.kr/article/39315</td>\n",
       "      <td>2018.06.28</td>\n",
       "      <td>['인간샤넬 이라는 별명을 보유한 블랙 핑크 제니.', ' 칼 라거펠트의 터치로 샤...</td>\n",
       "      <td>0</td>\n",
       "    </tr>\n",
       "    <tr>\n",
       "      <th>22</th>\n",
       "      <td>Daum_Bazaar</td>\n",
       "      <td>Je</td>\n",
       "      <td>FASHION</td>\n",
       "      <td>샤넬의 뮤즈 수주, 블핑 제니를 만나다</td>\n",
       "      <td>https://www.harpersbazaar.co.kr/article/39658</td>\n",
       "      <td>2018.11.13</td>\n",
       "      <td>['청명한 하늘, 새하얀 모래사장, 넘실거리는 파도쇼장에 들어서자마자 눈앞엔 인공 ...</td>\n",
       "      <td>1</td>\n",
       "    </tr>\n",
       "    <tr>\n",
       "      <th>23</th>\n",
       "      <td>Daum_Bazaar</td>\n",
       "      <td>Je</td>\n",
       "      <td>BEAUTY</td>\n",
       "      <td>내 몸의 균형을 잡아라!</td>\n",
       "      <td>https://www.harpersbazaar.co.kr/article/40062</td>\n",
       "      <td>2019.04.17</td>\n",
       "      <td>['블랙핑크 제니를 보고 깜짝 놀랐어요.', '이렇게 균형이 잘 잡힌 몸이라니! 한...</td>\n",
       "      <td>0</td>\n",
       "    </tr>\n",
       "  </tbody>\n",
       "</table>\n",
       "</div>"
      ],
      "text/plain": [
       "       magazine brand     category                             title  \\\n",
       "0   Daum_Bazaar    Je      FASHION  머플러 하나로 달라지는 스타일! 제니, 수지, 장희령처럼!   \n",
       "1   Daum_Bazaar    Je       BEAUTY              화사, 제니가 선택한 네일 디자인은?   \n",
       "2   Daum_Bazaar    Je    CELEBRITY                         벚꽃보다, 제니!   \n",
       "3   Daum_Bazaar    Je    CELEBRITY         얼굴 소멸각! 셀럽들의 모자 스타일링 대방출!   \n",
       "4   Daum_Bazaar    Je  ART&CULTURE                  예뻐도 너무 예쁜 제니의 옷장   \n",
       "5   Daum_Bazaar    Je      FASHION            인간명품 블랙핑크 제니의 화려한 SOLO   \n",
       "6   Daum_Bazaar    Je      FASHION                지금 아니면 입을 수 없는 꿀조합   \n",
       "7   Daum_Bazaar    Je    CELEBRITY          SNS에서 화제 되는 제니 영상! 실물 후기   \n",
       "8   Daum_Bazaar    Je      FASHION                   가을은 아묻따! 체크의 계절   \n",
       "9   Daum_Bazaar    Je       BEAUTY         요즘 나만 빼고 다 한다는 투톤 브릿지 헤어!   \n",
       "10  Daum_Bazaar    Je    CELEBRITY               난리 난 블랙핑크의 네일아트, 왜?   \n",
       "11  Daum_Bazaar    Je      FASHION                   떠오르는 패션 핫플 둘러보기   \n",
       "12  Daum_Bazaar    Je      FASHION             크롭트 톱을 셀럽처럼 힙하게 입으려면?   \n",
       "13  Daum_Bazaar    Je      FASHION                   잘 고른 여름 원피스 한 벌   \n",
       "14  Daum_Bazaar    Je      FASHION              클래식한 진주 주얼리의 상큼한 귀환!   \n",
       "15  Daum_Bazaar    Je      FASHION                    돌고 도는 #탑골공원 패션   \n",
       "16  Daum_Bazaar    Je      FASHION       가성비 최고! 국내 셀럽들의 SPA 브랜드 사용법   \n",
       "17  Daum_Bazaar    Je      FASHION           비니 하나 썼을 뿐인데 이렇게 예뻐졌다고?   \n",
       "18  Daum_Bazaar    Je       BEAUTY           무조건 구매각인 가을립컬러는? #스타러브즈   \n",
       "19  Daum_Bazaar    Je       BEAUTY          코덕이라면 다 알걸? 2019 베스트셀러는?   \n",
       "20  Daum_Bazaar    Je    CELEBRITY                             예쁨주의보   \n",
       "21  Daum_Bazaar    Je      FASHION                  어서와, 인간샤넬은 처음이지?   \n",
       "22  Daum_Bazaar    Je      FASHION             샤넬의 뮤즈 수주, 블핑 제니를 만나다   \n",
       "23  Daum_Bazaar    Je       BEAUTY                     내 몸의 균형을 잡아라!   \n",
       "\n",
       "                                             link        date  \\\n",
       "0   https://www.harpersbazaar.co.kr/article/50385  2020.11.27   \n",
       "1   https://www.harpersbazaar.co.kr/article/47899  2020.07.28   \n",
       "2   https://www.harpersbazaar.co.kr/article/45547  2020.03.24   \n",
       "3   https://www.harpersbazaar.co.kr/article/49651  2020.10.23   \n",
       "4   https://www.harpersbazaar.co.kr/article/39305  2018.06.25   \n",
       "5   https://www.harpersbazaar.co.kr/article/39710  2018.11.14   \n",
       "6   https://www.harpersbazaar.co.kr/article/48941  2020.09.21   \n",
       "7   https://www.harpersbazaar.co.kr/article/40053  2019.04.05   \n",
       "8   https://www.harpersbazaar.co.kr/article/48902  2020.09.18   \n",
       "9   https://www.harpersbazaar.co.kr/article/48057  2020.08.05   \n",
       "10  https://www.harpersbazaar.co.kr/article/47719  2020.07.17   \n",
       "11  https://www.harpersbazaar.co.kr/article/46807  2020.05.29   \n",
       "12  https://www.harpersbazaar.co.kr/article/47901  2020.07.28   \n",
       "13  https://www.harpersbazaar.co.kr/article/47843  2020.07.24   \n",
       "14  https://www.harpersbazaar.co.kr/article/47272  2020.06.24   \n",
       "15  https://www.harpersbazaar.co.kr/article/42884  2019.10.28   \n",
       "16  https://www.harpersbazaar.co.kr/article/40072  2019.04.18   \n",
       "17  https://www.harpersbazaar.co.kr/article/43169  2019.11.14   \n",
       "18  https://www.harpersbazaar.co.kr/article/42909  2019.10.29   \n",
       "19  https://www.harpersbazaar.co.kr/article/43866  2019.12.26   \n",
       "20  https://www.harpersbazaar.co.kr/article/39740  2018.12.07   \n",
       "21  https://www.harpersbazaar.co.kr/article/39315  2018.06.28   \n",
       "22  https://www.harpersbazaar.co.kr/article/39658  2018.11.13   \n",
       "23  https://www.harpersbazaar.co.kr/article/40062  2019.04.17   \n",
       "\n",
       "                                             contents  title_brand  \n",
       "0   ['블랙핑크 제니', '겨울철 자칫 칙칙할 수 있는 스타일에 활기를 더해주는 머플러...            1  \n",
       "1   ['올여름엔 네일 디자인을 고르기 전 모양을 먼저 선택해야 할 듯.', '오벌, 라...            1  \n",
       "2   ['봄의 시작인 3월에 만난 제니는 벚꽃보다 더 아름답고 풍부한 매력을 발산했다.'...            1  \n",
       "3   ['이마는 꼭 1/3 이상 감춰주세요!', 'Lovesick Girls 무대에서 블...            0  \n",
       "4   ['샤넬, 구찌, 생 로랑, 발렌시아가 등 수많은 패션 하우스들의 사랑을 받고 있는...            1  \n",
       "5   ['11월 12일 오후 6시, 독보적인 매력과 뛰어난 실력으로 전 세계 브랜드들의 ...            1  \n",
       "6   ['로고가 돋보이는 오버사이즈 티셔츠에 하의실종 룩을 선보인 블랙핑크 제니.', '...            0  \n",
       "7   ['CHANEL IN SEOUL. 샤넬 퍼렐 캡슐 컬렉션 오프닝을 기념해 샤넬 서울...            1  \n",
       "8   ['한편 국내 셀러브리티들의 공통점은? 바로 블루 체크다. 사랑스러운 분위기를 연출...            0  \n",
       "9   ['제니가 제니 했다! ', '블랙핑크 선공개 타이틀 곡〈How You Like T...            0  \n",
       "10  ['화려한 디자인의 절정을 보여주는 제니의 네일.', '비교적 짧은 손톱을 깔끔하게...            0  \n",
       "11  ['Jentle Monster  가로수길의 성지로 떠오르고 있는 젠틀몬스터와 블랙핑...            0  \n",
       "12  ['다양한 크롭트 톱을 찰떡같이 소화하는 제니.', '한쪽 어깨가 드러나는 원 오프...            0  \n",
       "13  ['특히 스퀘어 넥은 요즘 블랙핑크 제니, 레드벨벳 슬기등 셀럽들의 사랑을 듬뿍 받...            0  \n",
       "14  ['화려한 제품들도 좋지만, 현실에서 즐기기에는 클래식한 진주 목걸이가 제격이다.'...            0  \n",
       "15  ['갈매기 눈썹, 빨간 입술, 여기에 배꼽이 살짝 보일듯한 길이의 니트 카디건과 데...            0  \n",
       "16  ['인간 구찌, 인간 샤넬 등 걸어 다니는 ‘인간명품’으로 불리는 제니.', '이런...            0  \n",
       "17  ['비니 하나로 시크하게! 블랙핑크 제니처럼 브랜드 로고가 새겨진 집업 재킷에 모노...            0  \n",
       "18  ['어떠한 메이크업도 완벽히 소화하는 만찢녀 제니.', '코랄 컬러가 살짝 첨가된 ...            0  \n",
       "19  ['헤라의 블랙 라인은 헤라만의 시크한 세미 매트룩을 선사하며 전년 대비 40% 이...            0  \n",
       "20  ['#인간샤넬, #인간구찌 다수 별명을 갖고 있는 제니의 애칭은? 바로 #젠득이.'...            0  \n",
       "21  ['인간샤넬 이라는 별명을 보유한 블랙 핑크 제니.', ' 칼 라거펠트의 터치로 샤...            0  \n",
       "22  ['청명한 하늘, 새하얀 모래사장, 넘실거리는 파도쇼장에 들어서자마자 눈앞엔 인공 ...            1  \n",
       "23  ['블랙핑크 제니를 보고 깜짝 놀랐어요.', '이렇게 균형이 잘 잡힌 몸이라니! 한...            0  "
      ]
     },
     "execution_count": 82,
     "metadata": {},
     "output_type": "execute_result"
    }
   ],
   "source": [
    "result_Je"
   ]
  },
  {
   "cell_type": "code",
   "execution_count": null,
   "metadata": {},
   "outputs": [],
   "source": []
  },
  {
   "cell_type": "code",
   "execution_count": null,
   "metadata": {},
   "outputs": [],
   "source": []
  },
  {
   "cell_type": "code",
   "execution_count": null,
   "metadata": {},
   "outputs": [],
   "source": []
  },
  {
   "cell_type": "code",
   "execution_count": null,
   "metadata": {},
   "outputs": [],
   "source": []
  },
  {
   "cell_type": "code",
   "execution_count": null,
   "metadata": {},
   "outputs": [],
   "source": []
  },
  {
   "cell_type": "code",
   "execution_count": null,
   "metadata": {},
   "outputs": [],
   "source": []
  },
  {
   "cell_type": "code",
   "execution_count": null,
   "metadata": {},
   "outputs": [],
   "source": []
  },
  {
   "cell_type": "code",
   "execution_count": null,
   "metadata": {},
   "outputs": [],
   "source": []
  },
  {
   "cell_type": "code",
   "execution_count": null,
   "metadata": {},
   "outputs": [],
   "source": []
  },
  {
   "cell_type": "code",
   "execution_count": null,
   "metadata": {},
   "outputs": [],
   "source": []
  },
  {
   "cell_type": "code",
   "execution_count": null,
   "metadata": {},
   "outputs": [],
   "source": []
  },
  {
   "cell_type": "code",
   "execution_count": null,
   "metadata": {},
   "outputs": [],
   "source": []
  },
  {
   "cell_type": "code",
   "execution_count": null,
   "metadata": {},
   "outputs": [],
   "source": []
  },
  {
   "cell_type": "code",
   "execution_count": null,
   "metadata": {},
   "outputs": [],
   "source": []
  },
  {
   "cell_type": "code",
   "execution_count": null,
   "metadata": {},
   "outputs": [],
   "source": []
  },
  {
   "cell_type": "code",
   "execution_count": null,
   "metadata": {},
   "outputs": [],
   "source": []
  },
  {
   "cell_type": "code",
   "execution_count": null,
   "metadata": {},
   "outputs": [],
   "source": []
  },
  {
   "cell_type": "code",
   "execution_count": null,
   "metadata": {},
   "outputs": [],
   "source": []
  },
  {
   "cell_type": "code",
   "execution_count": null,
   "metadata": {},
   "outputs": [],
   "source": []
  },
  {
   "cell_type": "code",
   "execution_count": null,
   "metadata": {},
   "outputs": [],
   "source": []
  },
  {
   "cell_type": "code",
   "execution_count": null,
   "metadata": {},
   "outputs": [],
   "source": []
  },
  {
   "cell_type": "code",
   "execution_count": null,
   "metadata": {},
   "outputs": [],
   "source": []
  },
  {
   "cell_type": "code",
   "execution_count": null,
   "metadata": {},
   "outputs": [],
   "source": []
  },
  {
   "cell_type": "code",
   "execution_count": null,
   "metadata": {},
   "outputs": [],
   "source": []
  },
  {
   "cell_type": "code",
   "execution_count": null,
   "metadata": {},
   "outputs": [],
   "source": []
  },
  {
   "cell_type": "code",
   "execution_count": null,
   "metadata": {},
   "outputs": [],
   "source": []
  },
  {
   "cell_type": "code",
   "execution_count": null,
   "metadata": {},
   "outputs": [],
   "source": []
  }
 ],
 "metadata": {
  "kernelspec": {
   "display_name": "Python 3",
   "language": "python",
   "name": "python3"
  },
  "language_info": {
   "codemirror_mode": {
    "name": "ipython",
    "version": 3
   },
   "file_extension": ".py",
   "mimetype": "text/x-python",
   "name": "python",
   "nbconvert_exporter": "python",
   "pygments_lexer": "ipython3",
   "version": "3.7.6"
  }
 },
 "nbformat": 4,
 "nbformat_minor": 4
}
