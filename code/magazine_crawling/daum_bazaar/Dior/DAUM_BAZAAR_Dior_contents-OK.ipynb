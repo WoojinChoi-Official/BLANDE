{
 "cells": [
  {
   "cell_type": "code",
   "execution_count": 6,
   "metadata": {},
   "outputs": [],
   "source": [
    "import pandas as pd\n",
    "import numpy as np\n",
    "from selenium import webdriver"
   ]
  },
  {
   "cell_type": "markdown",
   "metadata": {},
   "source": [
    "### 크롤링할 데이터의 기본 정보"
   ]
  },
  {
   "cell_type": "code",
   "execution_count": 19,
   "metadata": {},
   "outputs": [],
   "source": [
    "searhWord = {'셀린느' : 'Ce',\n",
    "             '디올'   : 'D',\n",
    "             '샤넬'   : 'Ch',\n",
    "             '로랑' : 'YSL'}"
   ]
  },
  {
   "cell_type": "code",
   "execution_count": 20,
   "metadata": {},
   "outputs": [],
   "source": [
    "searchWordIndex = 1"
   ]
  },
  {
   "cell_type": "code",
   "execution_count": 21,
   "metadata": {},
   "outputs": [
    {
     "data": {
      "text/plain": [
       "'디올'"
      ]
     },
     "execution_count": 21,
     "metadata": {},
     "output_type": "execute_result"
    }
   ],
   "source": [
    "brand = list(searhWord.keys())[searchWordIndex]\n",
    "brand"
   ]
  },
  {
   "cell_type": "code",
   "execution_count": 22,
   "metadata": {},
   "outputs": [
    {
     "data": {
      "text/plain": [
       "'D'"
      ]
     },
     "execution_count": 22,
     "metadata": {},
     "output_type": "execute_result"
    }
   ],
   "source": [
    "engBrand = list(searhWord.values())[searchWordIndex]\n",
    "engBrand"
   ]
  },
  {
   "cell_type": "code",
   "execution_count": 23,
   "metadata": {},
   "outputs": [],
   "source": [
    "magazine = 'Daum_BAZAAR'"
   ]
  },
  {
   "cell_type": "markdown",
   "metadata": {},
   "source": [
    "### csv 로드"
   ]
  },
  {
   "cell_type": "code",
   "execution_count": 99,
   "metadata": {},
   "outputs": [],
   "source": [
    "df = pd.read_csv('./data/'+ magazine +'_' + engBrand +'_df_preprocessed' +'.csv', sep = '|')"
   ]
  },
  {
   "cell_type": "code",
   "execution_count": 100,
   "metadata": {},
   "outputs": [
    {
     "data": {
      "text/html": [
       "<div>\n",
       "<style scoped>\n",
       "    .dataframe tbody tr th:only-of-type {\n",
       "        vertical-align: middle;\n",
       "    }\n",
       "\n",
       "    .dataframe tbody tr th {\n",
       "        vertical-align: top;\n",
       "    }\n",
       "\n",
       "    .dataframe thead th {\n",
       "        text-align: right;\n",
       "    }\n",
       "</style>\n",
       "<table border=\"1\" class=\"dataframe\">\n",
       "  <thead>\n",
       "    <tr style=\"text-align: right;\">\n",
       "      <th></th>\n",
       "      <th>title</th>\n",
       "      <th>date</th>\n",
       "      <th>link</th>\n",
       "      <th>category</th>\n",
       "      <th>title_brand</th>\n",
       "      <th>check</th>\n",
       "      <th>why</th>\n",
       "      <th>Brand</th>\n",
       "    </tr>\n",
       "  </thead>\n",
       "  <tbody>\n",
       "    <tr>\n",
       "      <th>0</th>\n",
       "      <td>이하늬가 바른 립스틱 컬러는 몇 번?</td>\n",
       "      <td>2020.10.14</td>\n",
       "      <td>https://www.harpersbazaar.co.kr/article/49136</td>\n",
       "      <td>BEAUTY</td>\n",
       "      <td>0</td>\n",
       "      <td>2</td>\n",
       "      <td>-</td>\n",
       "      <td>D</td>\n",
       "    </tr>\n",
       "    <tr>\n",
       "      <th>1</th>\n",
       "      <td>요즘 여배우 사이에서 핫한 스킨케어</td>\n",
       "      <td>2020.10.08</td>\n",
       "      <td>https://www.harpersbazaar.co.kr/article/49311</td>\n",
       "      <td>BEAUTY</td>\n",
       "      <td>0</td>\n",
       "      <td>2</td>\n",
       "      <td>-</td>\n",
       "      <td>D</td>\n",
       "    </tr>\n",
       "    <tr>\n",
       "      <th>2</th>\n",
       "      <td>코로나19에도 불티나게 팔린 메이크업 제품은?</td>\n",
       "      <td>2020.10.05</td>\n",
       "      <td>https://www.harpersbazaar.co.kr/article/49180</td>\n",
       "      <td>BEAUTY</td>\n",
       "      <td>0</td>\n",
       "      <td>2</td>\n",
       "      <td>-</td>\n",
       "      <td>D</td>\n",
       "    </tr>\n",
       "    <tr>\n",
       "      <th>3</th>\n",
       "      <td>EXCLUSIVE! 톱 모델 지젤번천이 전해 온 환경 운동가로서의 신념...</td>\n",
       "      <td>2020.09.29</td>\n",
       "      <td>https://www.harpersbazaar.co.kr/article/49123</td>\n",
       "      <td>BEAUTY</td>\n",
       "      <td>0</td>\n",
       "      <td>2</td>\n",
       "      <td>-</td>\n",
       "      <td>D</td>\n",
       "    </tr>\n",
       "    <tr>\n",
       "      <th>4</th>\n",
       "      <td>짧은 직모여도 괜찮아! 신상 마스카라 털기</td>\n",
       "      <td>2020.09.01</td>\n",
       "      <td>https://www.harpersbazaar.co.kr/article/48570</td>\n",
       "      <td>BEAUTY</td>\n",
       "      <td>0</td>\n",
       "      <td>2</td>\n",
       "      <td>-</td>\n",
       "      <td>D</td>\n",
       "    </tr>\n",
       "  </tbody>\n",
       "</table>\n",
       "</div>"
      ],
      "text/plain": [
       "                                        title        date  \\\n",
       "0                        이하늬가 바른 립스틱 컬러는 몇 번?  2020.10.14   \n",
       "1                         요즘 여배우 사이에서 핫한 스킨케어  2020.10.08   \n",
       "2                   코로나19에도 불티나게 팔린 메이크업 제품은?  2020.10.05   \n",
       "3  EXCLUSIVE! 톱 모델 지젤번천이 전해 온 환경 운동가로서의 신념...  2020.09.29   \n",
       "4                     짧은 직모여도 괜찮아! 신상 마스카라 털기  2020.09.01   \n",
       "\n",
       "                                            link category  title_brand  check  \\\n",
       "0  https://www.harpersbazaar.co.kr/article/49136   BEAUTY            0      2   \n",
       "1  https://www.harpersbazaar.co.kr/article/49311   BEAUTY            0      2   \n",
       "2  https://www.harpersbazaar.co.kr/article/49180   BEAUTY            0      2   \n",
       "3  https://www.harpersbazaar.co.kr/article/49123   BEAUTY            0      2   \n",
       "4  https://www.harpersbazaar.co.kr/article/48570   BEAUTY            0      2   \n",
       "\n",
       "  why Brand  \n",
       "0   -     D  \n",
       "1   -     D  \n",
       "2   -     D  \n",
       "3   -     D  \n",
       "4   -     D  "
      ]
     },
     "execution_count": 100,
     "metadata": {},
     "output_type": "execute_result"
    }
   ],
   "source": [
    "df.head()"
   ]
  },
  {
   "cell_type": "markdown",
   "metadata": {},
   "source": [
    "### 웹 드라이버 실행"
   ]
  },
  {
   "cell_type": "code",
   "execution_count": 101,
   "metadata": {},
   "outputs": [],
   "source": [
    "path = 'C:/programming/multi_final_project/driver/chromedriver.exe'"
   ]
  },
  {
   "cell_type": "code",
   "execution_count": 102,
   "metadata": {},
   "outputs": [
    {
     "data": {
      "text/plain": [
       "'https://www.harpersbazaar.co.kr/article/49136'"
      ]
     },
     "execution_count": 102,
     "metadata": {},
     "output_type": "execute_result"
    }
   ],
   "source": [
    "url =  df.loc[0, 'link']\n",
    "url"
   ]
  },
  {
   "cell_type": "code",
   "execution_count": 183,
   "metadata": {},
   "outputs": [],
   "source": [
    "driver = webdriver.Chrome(path)     # 크롬 브라우저 제어할 수 있는 객체, 웹브라우저 실행\n",
    "driver\n",
    "driver.get(url)"
   ]
  },
  {
   "cell_type": "markdown",
   "metadata": {},
   "source": [
    "### p태그 읽어와서 list에 담음"
   ]
  },
  {
   "cell_type": "code",
   "execution_count": 104,
   "metadata": {},
   "outputs": [
    {
     "name": "stdout",
     "output_type": "stream",
     "text": [
      "[<selenium.webdriver.remote.webelement.WebElement (session=\"f7106942577848ed95476d32d8c8bb4b\", element=\"69ba89a7-c915-47fe-97c5-88dcd939c3a3\")>]\n"
     ]
    }
   ],
   "source": [
    "# elements = driver.find_elements_by_css_selector('#contents > div > div.contents_wrap > div.contents > div.atc_content > p')\n",
    "# elements = driver.find_elements_by_css_selector('#contents > div > div.article_head > div > div')\n",
    "## idx 1번까지 됨 \n",
    "# elements = driver.find_elements_by_css_selector('#contents > div:nth-child(2) > div.contents_wrap')\n",
    "\n",
    "elements = driver.find_elements_by_css_selector('#contents > div')  # article-wrap 전체\n",
    "\n",
    "\n",
    "len(elements)\n",
    "print(elements)"
   ]
  },
  {
   "cell_type": "code",
   "execution_count": 105,
   "metadata": {},
   "outputs": [],
   "source": [
    "contentList = []"
   ]
  },
  {
   "cell_type": "code",
   "execution_count": 106,
   "metadata": {},
   "outputs": [],
   "source": [
    "for element in elements :\n",
    "    contentList.append(element.text)"
   ]
  },
  {
   "cell_type": "code",
   "execution_count": 107,
   "metadata": {},
   "outputs": [],
   "source": [
    "# print(contentList)"
   ]
  },
  {
   "cell_type": "code",
   "execution_count": 108,
   "metadata": {
    "scrolled": false
   },
   "outputs": [],
   "source": [
    "# colContentList"
   ]
  },
  {
   "cell_type": "code",
   "execution_count": 109,
   "metadata": {},
   "outputs": [],
   "source": [
    "# elements = driver.find_elements_by_css_selector('#contents > div')\n",
    "\n",
    "# elements[0].text\n",
    "\n",
    "# credits_idx  = elements[0].text.find('\\nCredit\\n')\n",
    "# before_credits =  elements[0].text[:credits_idx+8]\n"
   ]
  },
  {
   "cell_type": "markdown",
   "metadata": {},
   "source": [
    "### link 읽어서 contentList 만듬"
   ]
  },
  {
   "cell_type": "code",
   "execution_count": 184,
   "metadata": {},
   "outputs": [],
   "source": [
    "colContentList = []"
   ]
  },
  {
   "cell_type": "code",
   "execution_count": 185,
   "metadata": {},
   "outputs": [],
   "source": [
    "# # for idx in range(0, len(df)) :    \n",
    "# for idx in range(0, 10) :    \n",
    "    \n",
    "#     # 해당 링크로 이동\n",
    "#     url = df.loc[idx, 'link']\n",
    "#     driver.get(url)\n",
    "\n",
    "#     # 페이지가 로딩될때까지 최대 N초 대기 \n",
    "#     driver.implicitly_wait(10) \n",
    "    \n",
    "    \n",
    "#     # 아예 contents 안의 모든 텍스트를 읽어오자 \n",
    "#     contentList = []\n",
    "    \n",
    "#     ## Credit 이 있으면 그 전까지 끊기\n",
    "#     try:\n",
    "        \n",
    "#         elements = driver.find_elements_by_css_selector('#contents > div')[0]\n",
    "#         contentList.append(elements.text)\n",
    "#         for element in elements:\n",
    "#             credits_idx  = element.text.find('\\nCredit\\n')\n",
    "#             before_credits =  element.text[:credits_idx+8]\n",
    "#             contentList.append(before_credits)\n",
    "#             print(\"try\")\n",
    "#             # content 내용에 브랜드 명 없으면 check =2     \n",
    "#             if not brand in contentList[0]:\n",
    "#                 df.loc[idx, 'check'] = 2\n",
    "#             else: \n",
    "#                 continue\n",
    "#             colContentList.append(contentList)\n",
    "#             print('완료 idx : {} / {}'.format(idx, len(df)) )\n",
    "\n",
    "            \n",
    "#     ## Credit 없으면 본문 다 긁어오기 \n",
    "#     except:\n",
    "#         print(\"exception\")\n",
    "#         elements = driver.find_elements_by_css_selector('#contents > div')[0]\n",
    "#         print(\"exception2\")\n",
    "#         contentList.append(elements.text)\n",
    "#         print(\"exception3\")\n",
    "#         # content 내용에 브랜드 명 없으면 check =2     \n",
    "#         if not brand in contentList[0]:\n",
    "#             df.loc[idx, 'check'] = 2\n",
    "#             print(\"exception4\")\n",
    "#         else:\n",
    "#             print(\"exception5\")\n",
    "#             continue\n",
    "#         print(\"exception6\")     \n",
    "#         colContentList.append(contentList)\n",
    "#         print('완료 idx : {} / {}'.format(idx, len(df)) )\n",
    "\n",
    "    "
   ]
  },
  {
   "cell_type": "code",
   "execution_count": 187,
   "metadata": {
    "scrolled": true
   },
   "outputs": [
    {
     "name": "stdout",
     "output_type": "stream",
     "text": [
      "try1\n",
      "try2\n",
      "try3\n",
      "완료 idx : 43 / 107\n",
      "try1\n",
      "try2\n",
      "완료 idx : 44 / 107\n",
      "try1\n",
      "try2\n",
      "try3\n",
      "완료 idx : 45 / 107\n",
      "try1\n",
      "try2\n",
      "try3\n",
      "완료 idx : 46 / 107\n",
      "try1\n",
      "try2\n",
      "try3\n",
      "완료 idx : 47 / 107\n",
      "try1\n",
      "try2\n",
      "완료 idx : 48 / 107\n",
      "try1\n",
      "try2\n",
      "try3\n",
      "완료 idx : 49 / 107\n",
      "try1\n",
      "try2\n",
      "완료 idx : 50 / 107\n",
      "try1\n",
      "try2\n",
      "try3\n",
      "완료 idx : 51 / 107\n",
      "try1\n",
      "try2\n",
      "try3\n",
      "완료 idx : 52 / 107\n",
      "try1\n",
      "try2\n",
      "try3\n",
      "완료 idx : 53 / 107\n",
      "try1\n",
      "try2\n",
      "완료 idx : 54 / 107\n",
      "try1\n",
      "try2\n",
      "try3\n",
      "완료 idx : 55 / 107\n",
      "try1\n",
      "try2\n",
      "완료 idx : 56 / 107\n",
      "try1\n",
      "try2\n",
      "try3\n",
      "완료 idx : 57 / 107\n",
      "try1\n",
      "try2\n",
      "try3\n",
      "완료 idx : 58 / 107\n",
      "try1\n",
      "try2\n",
      "try3\n",
      "완료 idx : 59 / 107\n",
      "try1\n",
      "try2\n",
      "완료 idx : 60 / 107\n",
      "try1\n",
      "try2\n",
      "try3\n",
      "완료 idx : 61 / 107\n",
      "try1\n",
      "try2\n",
      "완료 idx : 62 / 107\n",
      "try1\n",
      "try2\n",
      "try3\n",
      "완료 idx : 63 / 107\n",
      "try1\n",
      "try2\n",
      "완료 idx : 64 / 107\n",
      "try1\n",
      "try2\n",
      "try3\n",
      "완료 idx : 65 / 107\n",
      "try1\n",
      "try2\n",
      "완료 idx : 66 / 107\n",
      "try1\n",
      "try2\n",
      "try3\n",
      "완료 idx : 67 / 107\n",
      "try1\n",
      "try2\n",
      "완료 idx : 68 / 107\n",
      "try1\n",
      "try2\n",
      "try3\n",
      "완료 idx : 69 / 107\n",
      "try1\n",
      "try2\n",
      "완료 idx : 70 / 107\n",
      "try1\n",
      "try2\n",
      "try3\n",
      "완료 idx : 71 / 107\n",
      "try1\n",
      "try2\n",
      "try3\n",
      "완료 idx : 72 / 107\n",
      "try1\n",
      "try2\n",
      "try3\n",
      "완료 idx : 73 / 107\n",
      "try1\n",
      "try2\n",
      "try3\n",
      "완료 idx : 74 / 107\n",
      "try1\n",
      "try2\n",
      "try3\n",
      "완료 idx : 75 / 107\n",
      "try1\n",
      "try2\n",
      "완료 idx : 76 / 107\n",
      "try1\n",
      "try2\n",
      "try3\n",
      "완료 idx : 77 / 107\n",
      "try1\n",
      "try2\n",
      "완료 idx : 78 / 107\n",
      "try1\n",
      "try2\n",
      "try3\n",
      "완료 idx : 79 / 107\n",
      "try1\n",
      "try2\n",
      "완료 idx : 80 / 107\n",
      "try1\n",
      "try2\n",
      "try3\n",
      "완료 idx : 81 / 107\n",
      "try1\n",
      "try2\n",
      "완료 idx : 82 / 107\n",
      "try1\n",
      "try2\n",
      "try3\n",
      "완료 idx : 83 / 107\n",
      "try1\n",
      "try2\n",
      "try3\n",
      "완료 idx : 84 / 107\n",
      "try1\n",
      "try2\n",
      "try3\n",
      "완료 idx : 85 / 107\n",
      "try1\n",
      "try2\n",
      "try3\n",
      "완료 idx : 86 / 107\n",
      "try1\n",
      "try2\n",
      "try3\n",
      "완료 idx : 87 / 107\n",
      "try1\n",
      "try2\n",
      "try3\n",
      "완료 idx : 88 / 107\n",
      "try1\n",
      "try2\n",
      "try3\n",
      "완료 idx : 89 / 107\n",
      "try1\n",
      "try2\n",
      "완료 idx : 90 / 107\n",
      "try1\n",
      "try2\n",
      "try3\n",
      "완료 idx : 91 / 107\n",
      "try1\n",
      "try2\n",
      "try3\n",
      "완료 idx : 92 / 107\n",
      "try1\n",
      "try2\n",
      "try3\n",
      "완료 idx : 93 / 107\n",
      "try1\n",
      "try2\n",
      "완료 idx : 94 / 107\n",
      "try1\n",
      "try2\n",
      "try3\n",
      "완료 idx : 95 / 107\n",
      "try1\n",
      "try2\n",
      "완료 idx : 96 / 107\n",
      "try1\n",
      "try2\n",
      "try3\n",
      "완료 idx : 97 / 107\n",
      "try1\n",
      "try2\n",
      "완료 idx : 98 / 107\n",
      "try1\n",
      "try2\n",
      "try3\n",
      "완료 idx : 99 / 107\n",
      "try1\n",
      "try2\n",
      "try3\n",
      "완료 idx : 100 / 107\n",
      "try1\n",
      "try2\n",
      "try3\n",
      "완료 idx : 101 / 107\n",
      "try1\n",
      "try2\n",
      "완료 idx : 102 / 107\n",
      "try1\n",
      "try2\n",
      "try3\n",
      "완료 idx : 103 / 107\n",
      "try1\n",
      "try2\n",
      "try3\n",
      "완료 idx : 104 / 107\n",
      "try1\n",
      "try2\n",
      "try3\n",
      "완료 idx : 105 / 107\n",
      "try1\n",
      "try2\n",
      "완료 idx : 106 / 107\n"
     ]
    }
   ],
   "source": [
    "for idx in range(43, len(df)) :    \n",
    "    \n",
    "    # 해당 링크로 이동\n",
    "    url = df.loc[idx, 'link']\n",
    "    driver.get(url)\n",
    "\n",
    "    # 페이지가 로딩될때까지 최대 N초 대기 \n",
    "    driver.implicitly_wait(10) \n",
    "    \n",
    "    \n",
    "    # 아예 contents 안의 모든 텍스트를 읽어오자 \n",
    "    contentList = []\n",
    "    \n",
    "    ## Credit 이 있으면 그 전까지 끊기\n",
    "    try:\n",
    "        print('try1')\n",
    "        elements = driver.find_elements_by_css_selector('#contents > div')[0]\n",
    "#         for element in elements:\n",
    "        print('try2')\n",
    "        credits_idx  = elements.text.find('\\nCredit\\n')\n",
    "        before_credits =  elements.text[:credits_idx+8]\n",
    "        contentList.append(before_credits)\n",
    "        print(\"try3\")\n",
    "\n",
    "    ## Credit 없으면 본문 다 긁어오기 \n",
    "    except:\n",
    "        elements = driver.find_elements_by_css_selector('#contents > div')[0]\n",
    "        contentList.append(elements.text)\n",
    "\n",
    "    # content 내용에 브랜드 명 없으면 check =2     \n",
    "    finally:   \n",
    "        if not brand in contentList[0]:\n",
    "            df.loc[idx, 'check'] = 2\n",
    "        colContentList.append(contentList[0])\n",
    "        print('완료 idx : {} / {}'.format(idx, len(df)) )\n",
    "\n",
    "    "
   ]
  },
  {
   "cell_type": "code",
   "execution_count": 188,
   "metadata": {},
   "outputs": [
    {
     "name": "stdout",
     "output_type": "stream",
     "text": [
      "True\n"
     ]
    }
   ],
   "source": [
    "# df의 길이와 colContenList 길이 비교하여 모든 페이지 크롤링 되었는지 확인\n",
    "if len(df) == len(colContentList) :\n",
    "    print(True)\n",
    "else :\n",
    "    print(False)"
   ]
  },
  {
   "cell_type": "code",
   "execution_count": 189,
   "metadata": {},
   "outputs": [],
   "source": [
    "df['content'] = colContentList"
   ]
  },
  {
   "cell_type": "code",
   "execution_count": 190,
   "metadata": {
    "scrolled": true
   },
   "outputs": [
    {
     "data": {
      "text/plain": [
       "107"
      ]
     },
     "execution_count": 190,
     "metadata": {},
     "output_type": "execute_result"
    }
   ],
   "source": [
    "len(colContentList)"
   ]
  },
  {
   "cell_type": "code",
   "execution_count": 191,
   "metadata": {},
   "outputs": [
    {
     "data": {
      "text/plain": [
       "title                                         미세먼지엔 매트 파운데이션\n",
       "link           https://www.harpersbazaar.co.kr/article/38973\n",
       "content    BEAUTY\\n미세먼지엔 매트 파운데이션\\n미세먼지 서바이벌 뷰티\\nBYBAZAAR...\n",
       "Name: 106, dtype: object"
      ]
     },
     "execution_count": 191,
     "metadata": {},
     "output_type": "execute_result"
    }
   ],
   "source": [
    "df.loc[len(df)-1, ['title','link','content']]"
   ]
  },
  {
   "cell_type": "code",
   "execution_count": 2,
   "metadata": {},
   "outputs": [
    {
     "ename": "NameError",
     "evalue": "name 'df' is not defined",
     "output_type": "error",
     "traceback": [
      "\u001b[1;31m---------------------------------------------------------------------------\u001b[0m",
      "\u001b[1;31mNameError\u001b[0m                                 Traceback (most recent call last)",
      "\u001b[1;32m<ipython-input-2-00cf07b74dcd>\u001b[0m in \u001b[0;36m<module>\u001b[1;34m\u001b[0m\n\u001b[1;32m----> 1\u001b[1;33m \u001b[0mdf\u001b[0m\u001b[1;33m\u001b[0m\u001b[1;33m\u001b[0m\u001b[0m\n\u001b[0m",
      "\u001b[1;31mNameError\u001b[0m: name 'df' is not defined"
     ]
    }
   ],
   "source": [
    "df"
   ]
  },
  {
   "cell_type": "markdown",
   "metadata": {},
   "source": [
    "### contents 분리 "
   ]
  },
  {
   "cell_type": "code",
   "execution_count": 10,
   "metadata": {},
   "outputs": [],
   "source": [
    "df_sep = df"
   ]
  },
  {
   "cell_type": "code",
   "execution_count": 11,
   "metadata": {},
   "outputs": [],
   "source": [
    "temp_list = []"
   ]
  },
  {
   "cell_type": "code",
   "execution_count": 12,
   "metadata": {},
   "outputs": [],
   "source": [
    "for i in range(len(df_sep)):\n",
    "        k = df_sep['content'][i].split('\\n')\n",
    "        temp_list.append(k)\n",
    "df_sep['content'] = temp_list"
   ]
  },
  {
   "cell_type": "code",
   "execution_count": 14,
   "metadata": {},
   "outputs": [
    {
     "data": {
      "text/html": [
       "<div>\n",
       "<style scoped>\n",
       "    .dataframe tbody tr th:only-of-type {\n",
       "        vertical-align: middle;\n",
       "    }\n",
       "\n",
       "    .dataframe tbody tr th {\n",
       "        vertical-align: top;\n",
       "    }\n",
       "\n",
       "    .dataframe thead th {\n",
       "        text-align: right;\n",
       "    }\n",
       "</style>\n",
       "<table border=\"1\" class=\"dataframe\">\n",
       "  <thead>\n",
       "    <tr style=\"text-align: right;\">\n",
       "      <th></th>\n",
       "      <th>title</th>\n",
       "      <th>date</th>\n",
       "      <th>link</th>\n",
       "      <th>category</th>\n",
       "      <th>title_brand</th>\n",
       "      <th>check</th>\n",
       "      <th>why</th>\n",
       "      <th>Brand</th>\n",
       "      <th>content</th>\n",
       "    </tr>\n",
       "  </thead>\n",
       "  <tbody>\n",
       "    <tr>\n",
       "      <th>0</th>\n",
       "      <td>이하늬가 바른 립스틱 컬러는 몇 번?</td>\n",
       "      <td>2020.10.14</td>\n",
       "      <td>https://www.harpersbazaar.co.kr/article/49136</td>\n",
       "      <td>BEAUTY</td>\n",
       "      <td>0</td>\n",
       "      <td>2</td>\n",
       "      <td>-</td>\n",
       "      <td>D</td>\n",
       "      <td>[BEAUTY, 이하늬가 바른 립스틱 컬러는 몇 번?, 레드가 가진 열정과 우아함을...</td>\n",
       "    </tr>\n",
       "    <tr>\n",
       "      <th>1</th>\n",
       "      <td>요즘 여배우 사이에서 핫한 스킨케어</td>\n",
       "      <td>2020.10.08</td>\n",
       "      <td>https://www.harpersbazaar.co.kr/article/49311</td>\n",
       "      <td>BEAUTY</td>\n",
       "      <td>0</td>\n",
       "      <td>2</td>\n",
       "      <td>-</td>\n",
       "      <td>D</td>\n",
       "      <td>[BEAUTY, 요즘 여배우 사이에서 핫한 스킨케어, 배우 전혜빈과 장희령이 푹 빠...</td>\n",
       "    </tr>\n",
       "    <tr>\n",
       "      <th>2</th>\n",
       "      <td>코로나19에도 불티나게 팔린 메이크업 제품은?</td>\n",
       "      <td>2020.10.05</td>\n",
       "      <td>https://www.harpersbazaar.co.kr/article/49180</td>\n",
       "      <td>BEAUTY</td>\n",
       "      <td>0</td>\n",
       "      <td>2</td>\n",
       "      <td>-</td>\n",
       "      <td>D</td>\n",
       "      <td>[BEAUTY, 코로나19에도 불티나게 팔린 메이크업 제품은?, 올해로 3회를 맞은...</td>\n",
       "    </tr>\n",
       "    <tr>\n",
       "      <th>3</th>\n",
       "      <td>EXCLUSIVE! 톱 모델 지젤번천이 전해 온 환경 운동가로서의 신념...</td>\n",
       "      <td>2020.09.29</td>\n",
       "      <td>https://www.harpersbazaar.co.kr/article/49123</td>\n",
       "      <td>BEAUTY</td>\n",
       "      <td>0</td>\n",
       "      <td>2</td>\n",
       "      <td>-</td>\n",
       "      <td>D</td>\n",
       "      <td>[BEAUTY, EXCLUSIVE! 톱 모델 지젤번천이 전해 온 환경 운동가로서의 ...</td>\n",
       "    </tr>\n",
       "    <tr>\n",
       "      <th>4</th>\n",
       "      <td>짧은 직모여도 괜찮아! 신상 마스카라 털기</td>\n",
       "      <td>2020.09.01</td>\n",
       "      <td>https://www.harpersbazaar.co.kr/article/48570</td>\n",
       "      <td>BEAUTY</td>\n",
       "      <td>0</td>\n",
       "      <td>2</td>\n",
       "      <td>-</td>\n",
       "      <td>D</td>\n",
       "      <td>[BEAUTY, 짧은 직모여도 괜찮아! 신상 마스카라 털기, “눈은 마음의 집이다....</td>\n",
       "    </tr>\n",
       "    <tr>\n",
       "      <th>...</th>\n",
       "      <td>...</td>\n",
       "      <td>...</td>\n",
       "      <td>...</td>\n",
       "      <td>...</td>\n",
       "      <td>...</td>\n",
       "      <td>...</td>\n",
       "      <td>...</td>\n",
       "      <td>...</td>\n",
       "      <td>...</td>\n",
       "    </tr>\n",
       "    <tr>\n",
       "      <th>102</th>\n",
       "      <td>여름에만 가능한 뷰티 #립티튜드</td>\n",
       "      <td>2018.06.29</td>\n",
       "      <td>https://www.harpersbazaar.co.kr/article/39317</td>\n",
       "      <td>BEAUTY</td>\n",
       "      <td>0</td>\n",
       "      <td>2</td>\n",
       "      <td>-</td>\n",
       "      <td>D</td>\n",
       "      <td>[BEAUTY, 여름에만 가능한 뷰티 #립티튜드, 서머 시즌의 바람직한 뷰티 애티튜...</td>\n",
       "    </tr>\n",
       "    <tr>\n",
       "      <th>103</th>\n",
       "      <td>패션과 뷰티와 아트</td>\n",
       "      <td>2018.05.21</td>\n",
       "      <td>https://www.harpersbazaar.co.kr/article/39183</td>\n",
       "      <td>ART&amp;CULTURE</td>\n",
       "      <td>0</td>\n",
       "      <td>0</td>\n",
       "      <td>-</td>\n",
       "      <td>D</td>\n",
       "      <td>[ART&amp;CULTURE, 패션과 뷰티와 아트, 패션과 뷰티와 아트는 아름다움이라는 ...</td>\n",
       "    </tr>\n",
       "    <tr>\n",
       "      <th>104</th>\n",
       "      <td>결혼을 앞둔 당신의 워치 &amp; 주얼리</td>\n",
       "      <td>2018.05.12</td>\n",
       "      <td>https://www.harpersbazaar.co.kr/article/39152</td>\n",
       "      <td>FASHION</td>\n",
       "      <td>0</td>\n",
       "      <td>0</td>\n",
       "      <td>-</td>\n",
       "      <td>D</td>\n",
       "      <td>[FASHION, 결혼을 앞둔 당신의 워치 &amp; 주얼리, Watch &amp; Jewelle...</td>\n",
       "    </tr>\n",
       "    <tr>\n",
       "      <th>105</th>\n",
       "      <td>드레스 한 벌이면 충분해</td>\n",
       "      <td>2018.04.19</td>\n",
       "      <td>https://www.harpersbazaar.co.kr/article/39056</td>\n",
       "      <td>FASHION</td>\n",
       "      <td>0</td>\n",
       "      <td>0</td>\n",
       "      <td>-</td>\n",
       "      <td>D</td>\n",
       "      <td>[FASHION, 드레스 한 벌이면 충분해, 여자들의 로망! 시폰 드레스를 선택한 ...</td>\n",
       "    </tr>\n",
       "    <tr>\n",
       "      <th>106</th>\n",
       "      <td>미세먼지엔 매트 파운데이션</td>\n",
       "      <td>2018.03.28</td>\n",
       "      <td>https://www.harpersbazaar.co.kr/article/38973</td>\n",
       "      <td>BEAUTY</td>\n",
       "      <td>0</td>\n",
       "      <td>2</td>\n",
       "      <td>-</td>\n",
       "      <td>D</td>\n",
       "      <td>[BEAUTY, 미세먼지엔 매트 파운데이션, 미세먼지 서바이벌 뷰티, BYBAZAA...</td>\n",
       "    </tr>\n",
       "  </tbody>\n",
       "</table>\n",
       "<p>107 rows × 9 columns</p>\n",
       "</div>"
      ],
      "text/plain": [
       "                                          title        date  \\\n",
       "0                          이하늬가 바른 립스틱 컬러는 몇 번?  2020.10.14   \n",
       "1                           요즘 여배우 사이에서 핫한 스킨케어  2020.10.08   \n",
       "2                     코로나19에도 불티나게 팔린 메이크업 제품은?  2020.10.05   \n",
       "3    EXCLUSIVE! 톱 모델 지젤번천이 전해 온 환경 운동가로서의 신념...  2020.09.29   \n",
       "4                       짧은 직모여도 괜찮아! 신상 마스카라 털기  2020.09.01   \n",
       "..                                          ...         ...   \n",
       "102                           여름에만 가능한 뷰티 #립티튜드  2018.06.29   \n",
       "103                                  패션과 뷰티와 아트  2018.05.21   \n",
       "104                         결혼을 앞둔 당신의 워치 & 주얼리  2018.05.12   \n",
       "105                               드레스 한 벌이면 충분해  2018.04.19   \n",
       "106                              미세먼지엔 매트 파운데이션  2018.03.28   \n",
       "\n",
       "                                              link     category  title_brand  \\\n",
       "0    https://www.harpersbazaar.co.kr/article/49136       BEAUTY            0   \n",
       "1    https://www.harpersbazaar.co.kr/article/49311       BEAUTY            0   \n",
       "2    https://www.harpersbazaar.co.kr/article/49180       BEAUTY            0   \n",
       "3    https://www.harpersbazaar.co.kr/article/49123       BEAUTY            0   \n",
       "4    https://www.harpersbazaar.co.kr/article/48570       BEAUTY            0   \n",
       "..                                             ...          ...          ...   \n",
       "102  https://www.harpersbazaar.co.kr/article/39317       BEAUTY            0   \n",
       "103  https://www.harpersbazaar.co.kr/article/39183  ART&CULTURE            0   \n",
       "104  https://www.harpersbazaar.co.kr/article/39152      FASHION            0   \n",
       "105  https://www.harpersbazaar.co.kr/article/39056      FASHION            0   \n",
       "106  https://www.harpersbazaar.co.kr/article/38973       BEAUTY            0   \n",
       "\n",
       "     check why Brand                                            content  \n",
       "0        2   -     D  [BEAUTY, 이하늬가 바른 립스틱 컬러는 몇 번?, 레드가 가진 열정과 우아함을...  \n",
       "1        2   -     D  [BEAUTY, 요즘 여배우 사이에서 핫한 스킨케어, 배우 전혜빈과 장희령이 푹 빠...  \n",
       "2        2   -     D  [BEAUTY, 코로나19에도 불티나게 팔린 메이크업 제품은?, 올해로 3회를 맞은...  \n",
       "3        2   -     D  [BEAUTY, EXCLUSIVE! 톱 모델 지젤번천이 전해 온 환경 운동가로서의 ...  \n",
       "4        2   -     D  [BEAUTY, 짧은 직모여도 괜찮아! 신상 마스카라 털기, “눈은 마음의 집이다....  \n",
       "..     ...  ..   ...                                                ...  \n",
       "102      2   -     D  [BEAUTY, 여름에만 가능한 뷰티 #립티튜드, 서머 시즌의 바람직한 뷰티 애티튜...  \n",
       "103      0   -     D  [ART&CULTURE, 패션과 뷰티와 아트, 패션과 뷰티와 아트는 아름다움이라는 ...  \n",
       "104      0   -     D  [FASHION, 결혼을 앞둔 당신의 워치 & 주얼리, Watch & Jewelle...  \n",
       "105      0   -     D  [FASHION, 드레스 한 벌이면 충분해, 여자들의 로망! 시폰 드레스를 선택한 ...  \n",
       "106      2   -     D  [BEAUTY, 미세먼지엔 매트 파운데이션, 미세먼지 서바이벌 뷰티, BYBAZAA...  \n",
       "\n",
       "[107 rows x 9 columns]"
      ]
     },
     "execution_count": 14,
     "metadata": {},
     "output_type": "execute_result"
    }
   ],
   "source": [
    "df_sep"
   ]
  },
  {
   "cell_type": "markdown",
   "metadata": {},
   "source": [
    "### df -> csv"
   ]
  },
  {
   "cell_type": "code",
   "execution_count": 25,
   "metadata": {},
   "outputs": [],
   "source": [
    "# 크롤링 결과 csv로 만듬\n",
    "csvFileName = './data/'+ magazine +'_' + engBrand +'_unSeperated' +'.csv'\n",
    "df.to_csv(csvFileName, sep = '|', encoding = 'utf-8', index = False)\n",
    "\n",
    "csvFileName2 = './data/'+ magazine +'_' + engBrand +'_contents_processed' +'.csv'\n",
    "df_sep.to_csv(csvFileName2, sep = '|', encoding = 'utf-8', index = False)"
   ]
  },
  {
   "cell_type": "code",
   "execution_count": null,
   "metadata": {},
   "outputs": [],
   "source": []
  },
  {
   "cell_type": "code",
   "execution_count": null,
   "metadata": {},
   "outputs": [],
   "source": []
  },
  {
   "cell_type": "code",
   "execution_count": null,
   "metadata": {},
   "outputs": [],
   "source": []
  },
  {
   "cell_type": "code",
   "execution_count": null,
   "metadata": {},
   "outputs": [],
   "source": []
  }
 ],
 "metadata": {
  "kernelspec": {
   "display_name": "Python 3",
   "language": "python",
   "name": "python3"
  },
  "language_info": {
   "codemirror_mode": {
    "name": "ipython",
    "version": 3
   },
   "file_extension": ".py",
   "mimetype": "text/x-python",
   "name": "python",
   "nbconvert_exporter": "python",
   "pygments_lexer": "ipython3",
   "version": "3.7.6"
  }
 },
 "nbformat": 4,
 "nbformat_minor": 4
}
