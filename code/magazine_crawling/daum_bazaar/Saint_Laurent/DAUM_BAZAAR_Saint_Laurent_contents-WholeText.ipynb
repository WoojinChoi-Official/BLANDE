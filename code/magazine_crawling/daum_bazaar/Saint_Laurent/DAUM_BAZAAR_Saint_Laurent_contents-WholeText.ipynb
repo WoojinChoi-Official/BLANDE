{
 "cells": [
  {
   "cell_type": "code",
   "execution_count": 68,
   "metadata": {},
   "outputs": [],
   "source": [
    "import pandas as pd\n",
    "from selenium import webdriver"
   ]
  },
  {
   "cell_type": "markdown",
   "metadata": {},
   "source": [
    "### 크롤링할 데이터의 기본 정보"
   ]
  },
  {
   "cell_type": "code",
   "execution_count": 69,
   "metadata": {},
   "outputs": [],
   "source": [
    "searhWord = {'셀린느' : 'Ce',\n",
    "             '디올'   : 'D',\n",
    "             '샤넬'   : 'Ch',\n",
    "             '로랑' : 'YSL'}"
   ]
  },
  {
   "cell_type": "code",
   "execution_count": 70,
   "metadata": {},
   "outputs": [],
   "source": [
    "searchWordIndex = 3"
   ]
  },
  {
   "cell_type": "code",
   "execution_count": 71,
   "metadata": {},
   "outputs": [
    {
     "data": {
      "text/plain": [
       "'로랑'"
      ]
     },
     "execution_count": 71,
     "metadata": {},
     "output_type": "execute_result"
    }
   ],
   "source": [
    "brand = list(searhWord.keys())[searchWordIndex]\n",
    "brand"
   ]
  },
  {
   "cell_type": "code",
   "execution_count": 72,
   "metadata": {},
   "outputs": [
    {
     "data": {
      "text/plain": [
       "'YSL'"
      ]
     },
     "execution_count": 72,
     "metadata": {},
     "output_type": "execute_result"
    }
   ],
   "source": [
    "engBrand = list(searhWord.values())[searchWordIndex]\n",
    "engBrand"
   ]
  },
  {
   "cell_type": "code",
   "execution_count": 73,
   "metadata": {},
   "outputs": [],
   "source": [
    "magazine = 'Daum_BAZAAR'"
   ]
  },
  {
   "cell_type": "markdown",
   "metadata": {},
   "source": [
    "### csv 로드"
   ]
  },
  {
   "cell_type": "code",
   "execution_count": 74,
   "metadata": {},
   "outputs": [],
   "source": [
    "df = pd.read_csv('./data/'+ magazine +'_' + engBrand +'_df_preprocessed' +'.csv', sep = '|')"
   ]
  },
  {
   "cell_type": "code",
   "execution_count": 75,
   "metadata": {},
   "outputs": [
    {
     "data": {
      "text/html": [
       "<div>\n",
       "<style scoped>\n",
       "    .dataframe tbody tr th:only-of-type {\n",
       "        vertical-align: middle;\n",
       "    }\n",
       "\n",
       "    .dataframe tbody tr th {\n",
       "        vertical-align: top;\n",
       "    }\n",
       "\n",
       "    .dataframe thead th {\n",
       "        text-align: right;\n",
       "    }\n",
       "</style>\n",
       "<table border=\"1\" class=\"dataframe\">\n",
       "  <thead>\n",
       "    <tr style=\"text-align: right;\">\n",
       "      <th></th>\n",
       "      <th>title</th>\n",
       "      <th>date</th>\n",
       "      <th>link</th>\n",
       "      <th>category</th>\n",
       "      <th>title_brand</th>\n",
       "      <th>check</th>\n",
       "      <th>why</th>\n",
       "      <th>Brand</th>\n",
       "    </tr>\n",
       "  </thead>\n",
       "  <tbody>\n",
       "    <tr>\n",
       "      <th>0</th>\n",
       "      <td>코로나19에도 불티나게 팔린 메이크업 제품은?</td>\n",
       "      <td>2020.10.05</td>\n",
       "      <td>https://www.harpersbazaar.co.kr/article/49180</td>\n",
       "      <td>BEAUTY</td>\n",
       "      <td>0</td>\n",
       "      <td>2</td>\n",
       "      <td>-</td>\n",
       "      <td>YSL</td>\n",
       "    </tr>\n",
       "    <tr>\n",
       "      <th>1</th>\n",
       "      <td>우리가 몰랐던 프라다에 대하여</td>\n",
       "      <td>2020.09.18</td>\n",
       "      <td>https://www.harpersbazaar.co.kr/article/48886</td>\n",
       "      <td>FASHION</td>\n",
       "      <td>0</td>\n",
       "      <td>0</td>\n",
       "      <td>-</td>\n",
       "      <td>YSL</td>\n",
       "    </tr>\n",
       "    <tr>\n",
       "      <th>2</th>\n",
       "      <td>베스트와 쇼츠로 완성된 웨스턴 룩</td>\n",
       "      <td>2020.06.30</td>\n",
       "      <td>https://www.harpersbazaar.co.kr/article/47283</td>\n",
       "      <td>FASHION</td>\n",
       "      <td>0</td>\n",
       "      <td>0</td>\n",
       "      <td>-</td>\n",
       "      <td>YSL</td>\n",
       "    </tr>\n",
       "    <tr>\n",
       "      <th>3</th>\n",
       "      <td>지금 가장 주목해야 할 패션 뉴스 NEW&amp;HOT</td>\n",
       "      <td>2020.06.29</td>\n",
       "      <td>https://www.harpersbazaar.co.kr/article/47357</td>\n",
       "      <td>FASHION</td>\n",
       "      <td>0</td>\n",
       "      <td>0</td>\n",
       "      <td>-</td>\n",
       "      <td>YSL</td>\n",
       "    </tr>\n",
       "    <tr>\n",
       "      <th>4</th>\n",
       "      <td>퓨전 말고 진짜 외국의 맛을 파는 식당들</td>\n",
       "      <td>2020.06.29</td>\n",
       "      <td>https://www.harpersbazaar.co.kr/article/47312</td>\n",
       "      <td>LIFESTYLE</td>\n",
       "      <td>0</td>\n",
       "      <td>0</td>\n",
       "      <td>-</td>\n",
       "      <td>YSL</td>\n",
       "    </tr>\n",
       "  </tbody>\n",
       "</table>\n",
       "</div>"
      ],
      "text/plain": [
       "                        title        date  \\\n",
       "0   코로나19에도 불티나게 팔린 메이크업 제품은?  2020.10.05   \n",
       "1            우리가 몰랐던 프라다에 대하여  2020.09.18   \n",
       "2          베스트와 쇼츠로 완성된 웨스턴 룩  2020.06.30   \n",
       "3  지금 가장 주목해야 할 패션 뉴스 NEW&HOT  2020.06.29   \n",
       "4      퓨전 말고 진짜 외국의 맛을 파는 식당들  2020.06.29   \n",
       "\n",
       "                                            link   category  title_brand  \\\n",
       "0  https://www.harpersbazaar.co.kr/article/49180     BEAUTY            0   \n",
       "1  https://www.harpersbazaar.co.kr/article/48886    FASHION            0   \n",
       "2  https://www.harpersbazaar.co.kr/article/47283    FASHION            0   \n",
       "3  https://www.harpersbazaar.co.kr/article/47357    FASHION            0   \n",
       "4  https://www.harpersbazaar.co.kr/article/47312  LIFESTYLE            0   \n",
       "\n",
       "   check why Brand  \n",
       "0      2   -   YSL  \n",
       "1      0   -   YSL  \n",
       "2      0   -   YSL  \n",
       "3      0   -   YSL  \n",
       "4      0   -   YSL  "
      ]
     },
     "execution_count": 75,
     "metadata": {},
     "output_type": "execute_result"
    }
   ],
   "source": [
    "df.head()"
   ]
  },
  {
   "cell_type": "code",
   "execution_count": 76,
   "metadata": {},
   "outputs": [
    {
     "data": {
      "text/plain": [
       "title                                     요즘 패피들은 어디서 커피 마셔?\n",
       "date                                              2019.11.15\n",
       "link           https://www.harpersbazaar.co.kr/article/43184\n",
       "category                                           LIFESTYLE\n",
       "title_brand                                                0\n",
       "check                                                      0\n",
       "why                                                        -\n",
       "Brand                                                    YSL\n",
       "Name: 14, dtype: object"
      ]
     },
     "execution_count": 76,
     "metadata": {},
     "output_type": "execute_result"
    }
   ],
   "source": [
    "df.iloc[14]"
   ]
  },
  {
   "cell_type": "markdown",
   "metadata": {},
   "source": [
    "### 웹 드라이버 실행"
   ]
  },
  {
   "cell_type": "code",
   "execution_count": 77,
   "metadata": {},
   "outputs": [],
   "source": [
    "path = 'C:/programming/multi_final_project/driver/chromedriver.exe'"
   ]
  },
  {
   "cell_type": "code",
   "execution_count": 78,
   "metadata": {},
   "outputs": [
    {
     "data": {
      "text/plain": [
       "'https://www.harpersbazaar.co.kr/article/49180'"
      ]
     },
     "execution_count": 78,
     "metadata": {},
     "output_type": "execute_result"
    }
   ],
   "source": [
    "url =  df.loc[0, 'link']\n",
    "url"
   ]
  },
  {
   "cell_type": "code",
   "execution_count": 79,
   "metadata": {},
   "outputs": [],
   "source": [
    "driver = webdriver.Chrome(path)     # 크롬 브라우저 제어할 수 있는 객체, 웹브라우저 실행\n",
    "driver\n",
    "driver.get(url)"
   ]
  },
  {
   "cell_type": "markdown",
   "metadata": {},
   "source": [
    "### p태그 읽어와서 list에 담음"
   ]
  },
  {
   "cell_type": "code",
   "execution_count": 80,
   "metadata": {},
   "outputs": [
    {
     "name": "stdout",
     "output_type": "stream",
     "text": [
      "[<selenium.webdriver.remote.webelement.WebElement (session=\"76359052c22332cd54d8bf8dfd099f72\", element=\"9e9173d0-64a8-458e-b6e6-e42f2a79c9be\")>]\n"
     ]
    }
   ],
   "source": [
    "# elements = driver.find_elements_by_css_selector('#contents > div > div.contents_wrap > div.contents > div.atc_content > p')\n",
    "# elements = driver.find_elements_by_css_selector('#contents > div > div.article_head > div > div')\n",
    "## idx 1번까지 됨 \n",
    "# elements = driver.find_elements_by_css_selector('#contents > div:nth-child(2) > div.contents_wrap')\n",
    "\n",
    "elements = driver.find_elements_by_css_selector('#contents > div')  # article-wrap 전체\n",
    "\n",
    "\n",
    "len(elements)\n",
    "print(elements)"
   ]
  },
  {
   "cell_type": "code",
   "execution_count": 81,
   "metadata": {},
   "outputs": [],
   "source": [
    "contentList = []"
   ]
  },
  {
   "cell_type": "code",
   "execution_count": 82,
   "metadata": {},
   "outputs": [],
   "source": [
    "for element in elements :\n",
    "    contentList.append(element.text)"
   ]
  },
  {
   "cell_type": "code",
   "execution_count": 83,
   "metadata": {},
   "outputs": [
    {
     "name": "stdout",
     "output_type": "stream",
     "text": [
      "['BEAUTY\\n코로나19에도 불티나게 팔린 메이크업 제품은?\\n올해로 3회를 맞은 ‘바자 뷰티 핫 100’. 국내 최대의 뷰티 유통망인 신세계백화점, SSG닷컴, 시코르에서 한 해 동안 가장 많은 판매를 기록한 아이템을 소개하며 독자들의 스마트 쇼핑 바이블로 자리 잡았다. 공정한 판매 데이터를 통해 선정된 만큼 신뢰할 수 있는 제품을 찾고 싶다면 이만한 정보가 없다.\\nBYBAZAAR2020.10.02\\n2020 BAZAAR BEAUTY HOT 100\\n\\n\\nMAKEUP\\n\\nBAZAAR LOVES\\n45 | CHANEL 레 베쥬 워터-프레시 틴트 9만5천원.75%의 수분이 선사하는 촉촉한 투명 메이크업이 눈과 피부 모두를 행복하게 만들어주는 제품. 어디에서도 볼 수 없던 샤넬만의 탱글한 마이크로 버블 텍스처가 피부에 닿아 터지면서 수분은 그대로 흡수되고 적당량의 색소가 스미듯 밀착된다. 마치 산소를 머금은 듯 가벼운 사용감에 막 세안을 마친 듯 신선한 피부 표현이 지속되는 것이 특징. 출시되자마자 일주일 만에 일부 컬러가 품절되며 웨이팅 리스트를 작성해야만 했던 진기록을 세웠다.\\n \\nCHICOR • HOT TINTED LIP BALM\\n46 | Nars 에프터글로우 립밤, 오르가즘 3만7천원.\\n로즈 골드 펄이 선사하는 오르가즘 컬러만의 은은한 광채를 입술 위에서 만날 수 있다니 인기가 높을 수밖에. 풍부한 보습감과 립 케어 효과 역시 놓치지 않았다.\\n \\nCHICOR • HOT EYEBROW\\n47 | Benefit 프리사이슬리 마이 브로우 펜슬, 3.5호 3만8천원.\\n가늘고 세밀한 펜슬 팁이 내 눈썹인 양 자연스럽게 연출해주는 것이 인기 요인. 12가지로 셰이드로 헤어 컬러에 맞춰 선택하기 용이하다.\\n \\nCHICOR & SSG.COM • HOT FOUNDATION\\n48 | EST¯EE LAUDER 더블 웨어 스테이-인-플레이스 메이크업 SPF10/ PA++ 7만원대.\\n커버력과 오랜 지속력으로 Z세대 마음까지 사로잡으며 여전한 전성기를 누리고 있는 더블 웨어 파운데이션. 작년에 이어 시코르와 SSG닷컴에서 최고 판매 개수를 기록했다.\\n \\nCHICOR • HOT EYESHADOW\\n49 | Hince 뉴 뎁스 아이섀도우 팔레트, 오프 밸런스 3만9천원.\\n밀레니얼 세대에게 가장 핫한 브랜드로 꼽히는 힌스. 그 인기를 증명하듯 아이섀도 팔레트가 시코르 최고 판매 개수를 기록했다. 10가지 컬러와 8가지 제형으로 구성돼 메이크업을 즐기는 Z세대를 제대로 저격한 덕분.\\n \\nSSG.COM • HOT K-BEAUTY CUSHION FOUNDATION\\n50 | Hera 블랙 쿠션 SPF34/ PA++ 5만5천원대. \\n안 써본 사람은 있어도 한 번만 써본 사람은 없다는 블랙 쿠션. 무너짐이 거의 없는 지속력과 높은 커버력으로 결국 다시 찾게 된다는 후기다. X, Y, Z세대까지, 팬층의 연령대 또한 다양하다.\\n \\nCHICOR • HOT MAKEUP BASE\\n51 | Mac 스트롭 크림 4만9천원대.  \\n진줏빛 펄감이 피부를 화사하고 윤기 있게 표현해주는 맥의 대표 메이크업 베이스. 수분크림만큼 촉촉한 사용감이 특징이다.\\n \\nSSG.COM • HOT MAKEUP BASE\\n52 | Giorgio Armani UV 마스터 프라이머 SPF30/ PA+++, 모브 7만6천원대.\\n‘베이스 장인’ 아르마니의 프라이머가 SSG닷컴 판매 1위를 기록했다. 모공을 메우고 칙칙한 피부톤을 정돈해 다음 단계의 메이크업을 보다 완벽하게 연출해준다.\\n \\nCHICOR • HOT K-BEAUTY CUSHION FOUNDATION\\n53 | Jung Saem Mool 에센셜 스킨 누더 쿠션 4만2천원.\\n메이크업 아티스트의 세심한 설계 덕분일까? 2년 연속 판매 1위를 한 정샘물 쿠션 파운데이션. 피부 겉은 매끈하고 속은 촉촉하게 연출해주는 마무리감이 많은 이들이 찾는 이유다.\\n \\nBAZAAR LOVES\\n54 | Mac 프렙+프라임 픽스 플러스 3만5천원대.\\n마스크 착용으로 메이크업 픽서가 또 하나의 필수품으로 자리한 요즘. 맥의 스프레이 픽서가 에디터, 메이크업 아티스트 등의 지지를 받으며 ‘바자 뷰티 핫 100’에 선정됐다.\\n \\nCHICOR • HOT BRAND\\n55 | Ges Gep 매트 립코튼, 레드머로더 1만9천원.\\n시코르 매출 톱 3 안에 랭크된 제스젭의 리퀴드 립스틱. 레드머로더는 피부톤에 상관없이 누구에게나 어울리는 말린 장미 컬러로 베스트 아이템이다.\\n \\nBAZAAR LOVES\\n56 | Nars 블러쉬, 섹스어필 4만원대. \\n강렬한 이름과 달리 청순하고 부드러운 컬러가 모든 피부톤에 잘 어울려 많은 이들의 지지를 받는다. 〈바자〉가 사랑하는 블러셔로 선정되며 100위 안에 들었다.\\n \\nCHICOR • HOT K-BEAUTY\\n57 | Rom&nd 제로 매트 립스틱, 올 댓 재즈 1만2천원.\\n시코르의 국내 브랜드 중 가장 높은 매출을 기록한 롬앤. 특히 제로 매트 립스틱은 이름값을 제대로 한다. 0g의 가벼움과 ‘착붙’하는 밀착력으로 브랜드 대표 아이템으로 자리했다.\\n \\nCHICOR • HOT SNS BEAUTY\\n\\n58 | LAKA 저스트 아이팔레트, 프레시 2만5천원.\\n한국 최초의 젠더뉴트럴 브랜드, 라카의 모든 활동에는 무리함 없는 열심이 있고, 강요하지 않는 심지가 엿보인다. SNS상에서도 직접적으로 제품의 장점을 말하기보다 우회적인 이미지에 시적인 카피를 붙이길 좋아한다. 이런 라카의 뉴트럴 감성을 고스란히 담아낸 것이 바로 저스트 아이팔레트다. 무심하게 섞어도 절묘하게 어우러지도록 설계한 4가지 컬러가 ‘곰손’도 ‘금손’으로 만들어준다. 뷰티 크리에이터 사이에서는 “실패 없는 팔레트”로 입소문 난 제품. 〈바자〉가 특히 추천하는 컬러는 프레시다.\\n \\nCHICOR • HOT CONTOUR\\n\\n59 | HINCE 트루 디멘션 래디언스 밤, 라이트 2만9천원.\\n동시대적 인디 감성으로 론칭과 동시에 밀레니얼들의 파우치를 점령한 힌스. 그중에서도 트루 디멘션 래디언스 밤은 끈적임 없이 얇게 밀착돼 마치 피부 속부터 차오르는 듯한 광채를 연출해주는 스틱 하이라이터다. 자연스럽게 피부가 좋아 보이는 속광 효과가 뛰어나 얼굴을 입체적으로 만들어주는 플러스 컨투어링에 제격이다. T존은 물론 치크, 아이, 립까지 자연스러운 광채가 필요한 곳은 어디든 덧발라 사용할 수 있다. 베스트 컬러는 투명한 빛을 더하는 #라이트.\\n \\nCHICOR • HOT GLOBAL CUSHION FOUNDATION\\n\\n60 | Nars 아쿠아 글로우 쿠션 파운데이션 SPF23/ PA++ 6만3천원. \\n새로운 쿠션의 위협에도 굳건히 1위 자리를 지키고 있는 제품. 광이 지나치지 않으면서 은은하고, 커버력도 리퀴드 파운데이션 못지않아 마니아 층이 두텁다.\\n \\nCHICOR • HOT LIP LACQUER\\n61 | Hera 센슈얼 파우더 매트, 팜파스 3만5천원대. \\n매트 제형이 유독 인기를 끌던 한 해. 헤라 역시 출사표를 던졌고, 판매 1위라는 성적표를 받았다. 부드러운 컬러와 질감이 우수하다는 평을 받는다.\\n \\nSSG.COM • HOT EYEBROW\\n62 | Shu Uemura 하드 포뮬라 3만4천원대. \\n레전드라 불리는 데는 이유가 있는 법. 출시부터 지금까지 꾸준히 사랑받으며 독보적인 존재임을 증명했다. 오크 브라운, 버건디 등 4가지 컬러가 추가돼 선택의 폭이 넓어지기까지.\\n \\nCHICOR & SSG.COM • HOT LIPSTICK\\n63 | Mac 파우더 키스 립스틱, 디보티드 투 칠리 3만1천원대. \\n바르지 않은 듯 가볍고, 건조하지 않은 매트 제형으로 출시 이후 품절 대란을 일으킨 화제의 아이템. 맥의 아이코닉한 제품으로 급부상하며 시코르, SSG닷컴을 모두 석권했다.\\n \\nSSG.COM • HOT MASCARA\\n64 | Clinique 래쉬 파워 마스카라 3만4천원. \\n얇은 솔이 짧은 속눈썹까지 놓치지 않는다. 게다가 자연스러운 컬링 효과를 함께 선물해 속눈썹 콤플렉스를 단번에 해결한다. SSG닷컴에서 3년 연속 판매 1위를 기록한 제품.\\n \\nCHICOR • HOT BLUSHER\\n65 | Naming 플러피 파우더 블러셔, 야미 1만5천원. \\n밀레니얼 세대의 감성을 제대로 담은 신규 브랜드의 강세가 돋보이는 가운데, 네이밍 역시 그중 하나다. 맑게 물들인 듯 볼에 색을 입히는 파우더 블러시가 인기 제품이다.\\n \\nSSG.COM • HOT LIP LACQUER\\n66 | Yves Saint Laurent 베르니 아 레브르 워터 스테인, 602 바그 드 루쥬 4만6천원. \\n건조해서 립스틱조차 제대로 바르지 못했다는 이들에게 구원투수가 된 제품. 특히 마스크에 묻지 않고 오랫동안 색이 유지돼 요즘 같은 때에 더욱 빛을 발한다.\\n \\nCHICOR & SSG.COM • HOT POWDER\\n67 | Make Up For Ever 울트라 HD 프레스드 파우더 5만4천원대. \\n유튜버 등이 마스크에 묻지 않는 베이스를 시연할 때 꼭 사용하는 제품. 메이크업이 무거워지지 않으면서 완벽히 고정된다.\\n \\nCHICOR & SSG.COM • HOT CONCEALER\\n68 | Nars 래디언트 크리미 컨실러 4만원.\\n나스 아쿠아 글로우 쿠션과 함께 왕좌의 자리를 굳건히 지키고 있는 나스 컨실러. 3년 연속, 시코르와 SSG닷컴에서 최고 판매를 달성했다.\\n\\n\\nSSG.COM • HOT GLOBAL CUSHION FOUNDATION\\n69 | Yves Saint Laurent 르 쿠션 엉크르 드 뽀 8만9천원. \\n럭셔리 쿠션의 1인자라고 할 수 있는 입생로랑 쿠션이 더욱 예뻐졌다. 고급스러운 가죽 패키지와 강력해진 제품력으로 내년 쿠션 부문도 1위가 예견된다.  \\n \\nSSG.COM • HOT TINTED LIP BALM & SHINSEGAE • HOT BRAND\\n70 | Dior 디올 어딕트 립 글로우 컬러 어웨이크닝 립밤, 001 핑크 4만4천원대.\\n원조 국민 립밤으로 통하는 디올 립 글로우 핑크 컬러가 올해도 1위를 차지했다. 더불어 신세계백화점에서 높은 매출을 기록하며 2관왕을 기록했다.  \\n \\nSSG.COM • HOT EYELINER\\n71 | Bobbi Brown 롱웨어 젤 아이라이너 3만9천원.\\nSSG닷컴 1위 아이라이너. ‘쉽게 번지지 않는다’ ‘그리기 쉽다’ ‘눈에 자극이 적다’ ‘수정 화장이 필요 없다’ 등 사랑받는 아이라이너의 조건을 모두 충족한다.\\n \\nSSG.COM • HOT CONTOUR\\n72 | LAURA MERCIER 매트 래디언스 베이크드 파우더 하이라이트 6만1천원대. \\n고급스러운 펄감이 피부에 미묘하고 자연스러운 광채를 선사해 ‘나 이상의 나’를 연출해준다. 피부 사이사이 새틴 광을 심어 놓은 듯, 우아한 크림 광채가 뿜어져 나와 ‘꾸안꾸’를 위한 비밀 병기로 사랑받고 있다. 마치 액체 타입 하이라이터를 바른 듯 즉각적으로 촉촉하고 윤기 있게 마무리되는 자연스러움이 특징. SSG닷컴에서 3연속 수상을 달성한 제품이다.\\n \\nBAZAAR LOVES\\n73 | Giorgio Armani 립 마에스트로, 402 트루 레드 4만7천원대. \\n슥슥 바르기만 해도 결점 없는 입술을 연출해 에디터들의 추천 아이템으로 꼽히는 아르마니 립 마에스트로. ‘촉촉한 매트 틴트’의 원조템이다.\\n \\nCHICOR • HOT EYELINER\\n74 | Stila 스테이 올 데이 워터프루프 리퀴드 아이라이너 2만8천원. \\n단단하지만 유연성 있는 붓펜으로 초보자도 쉽게 아이라인을 그릴 수 있다. 무엇보다 빠르게 마르고 잘 번지지 않는다.\\n \\nSSG.COM • HOT EYESHADOW\\n75 | Bobbi Brown 아이섀도우, #14 토스트 3만7천원대.\\n부담 없는 라테 컬러로 구성돼 베이스부터 포인트 메이크업까지 다방면으로 활용할 수 있다. 파우더 타입이지만 가루 날림이 적다.\\n \\nSSG.COM • HOT BLUSHER\\n76 | Clinique 치크 팝, 05 누드 팝 3만2천원대. \\n부드러운 리퀴드 포뮬러를 천천히 베이킹해 새로운 파우더 제형으로 만든 치크 팝. 실크처럼 부드럽게 발리면서 텁텁하지 않아 오랫동안 사랑받고 있다.\\n \\nCHICOR • HOT MASCARA\\n77 | Too Faced 베러 댄 섹스 마스카라 3만1천원. \\n미국 프레스티지 시장의 판매 1위 마스카라가 국내 시코르까지 점령했다. 볼륨을 높이는 데 최적화된 브러시와 딥 블랙 피그먼트가 풍성한 속눈썹을 연출한다.\\n \\nCHICOR • HOT BRAND\\n78 | Dear Dahlia 블루밍 에디션 시크릿 가든 팔레트, 티 파티 5만2천원. \\n시코르 입점 브랜드 중 전체 매출 3위 안에 들며 대세를 입증한 디어달리아의 베스트 아이템. 달콤하고 따뜻한 컬러로 구성된 아이&치크 팔레트로 생기 넘치는 룩을 완성한다.\\n \\n16SHARE\\nKeyword\\n바자\\n뷰티 핫100\\n신세계백화점\\nSSG닷컴\\n시코르\\n추천\\n클렌저\\n스킨케어\\n메이크업\\n바디\\n헤어\\n케어\\n뷰티 디바이스\\nCredit\\n에디터/ 정혜미，백지수(프리랜서)\\n사진/ 정원영\\n웹디자이너/ 김유진\\nWeekly Hot Issue\\n조 바이든보다 핫한 그녀, 카멀라 해리스는 누구?\\n신민아의 홀리데이 무드\\n청정한 연말 모임을 위한 #프라이빗 다이닝\\n스웨트셔츠 하나면 어디든 갈 수 있어 #원마일룩\\nBazaar Brand\\n지수는 예쁜데 그림까지 잘 그리면 어떡해?\\n01234\\nBeauty News\\n하퍼스 바자와 옹성우, 라메르가 만날 경우의 수\\n마스크 트러블로 고민이라면?\\n마스크 생활로 민감해진 피부 탈출기\\n마스크 잘 버리고 있나요?\\n사용한 마스크도 잘 버렸는지 다시 보자!\\n0123\\nRecommend\\n지수는 예쁜데 그림까지 잘 그리면 어떡해?\\n블랙핑크 지수가 촬영장에서 직접 그림까지 그린 러블리한 화보 공개!\\n내가 수지라면? #남주혁 vs #김선호 둘 중 당신의 선택은?\\n드라마 <스타트업> 속 주인공들의 얽히고 설킨 삼각 로맨스가 화제다. 정반...\\n지속가능한 제품도 이렇게 스타일리시하다!\\n지속가능한 제품의 착한 매력, <바자> 에디터들의 선택은?\\n아직도 초장에 찍어 먹니? 미식가들을 사로잡은 굴맛집 #오이스터바\\n초장에 찍어 먹던 굴과는 차원이 다르다. 미처 몰랐던 굴의 새로운 매력에 ...']\n"
     ]
    }
   ],
   "source": [
    "print(contentList)"
   ]
  },
  {
   "cell_type": "markdown",
   "metadata": {},
   "source": [
    "### link 읽어서 contentList 만듬"
   ]
  },
  {
   "cell_type": "code",
   "execution_count": 84,
   "metadata": {},
   "outputs": [
    {
     "name": "stdout",
     "output_type": "stream",
     "text": [
      "완료 idx : 0\n",
      "완료 idx : 1\n"
     ]
    },
    {
     "ename": "StaleElementReferenceException",
     "evalue": "Message: stale element reference: element is not attached to the page document\n  (Session info: chrome=86.0.4240.198)\n",
     "output_type": "error",
     "traceback": [
      "\u001b[1;31m---------------------------------------------------------------------------\u001b[0m",
      "\u001b[1;31mStaleElementReferenceException\u001b[0m            Traceback (most recent call last)",
      "\u001b[1;32m<ipython-input-84-ca8ec159cbf6>\u001b[0m in \u001b[0;36m<module>\u001b[1;34m\u001b[0m\n\u001b[0;32m     18\u001b[0m \u001b[1;33m\u001b[0m\u001b[0m\n\u001b[0;32m     19\u001b[0m     \u001b[1;32mfor\u001b[0m \u001b[0melement\u001b[0m \u001b[1;32min\u001b[0m \u001b[0melements\u001b[0m \u001b[1;33m:\u001b[0m\u001b[1;33m\u001b[0m\u001b[1;33m\u001b[0m\u001b[0m\n\u001b[1;32m---> 20\u001b[1;33m              \u001b[0mcontentList\u001b[0m\u001b[1;33m.\u001b[0m\u001b[0mappend\u001b[0m\u001b[1;33m(\u001b[0m\u001b[0melement\u001b[0m\u001b[1;33m.\u001b[0m\u001b[0mtext\u001b[0m\u001b[1;33m)\u001b[0m\u001b[1;33m\u001b[0m\u001b[1;33m\u001b[0m\u001b[0m\n\u001b[0m\u001b[0;32m     21\u001b[0m \u001b[1;33m\u001b[0m\u001b[0m\n\u001b[0;32m     22\u001b[0m     \u001b[1;32mif\u001b[0m \u001b[1;32mnot\u001b[0m \u001b[0mbrand\u001b[0m \u001b[1;32min\u001b[0m \u001b[0mcontentList\u001b[0m\u001b[1;33m:\u001b[0m\u001b[1;33m\u001b[0m\u001b[1;33m\u001b[0m\u001b[0m\n",
      "\u001b[1;32mC:\\ProgramData\\Anaconda3\\lib\\site-packages\\selenium\\webdriver\\remote\\webelement.py\u001b[0m in \u001b[0;36mtext\u001b[1;34m(self)\u001b[0m\n\u001b[0;32m     74\u001b[0m     \u001b[1;32mdef\u001b[0m \u001b[0mtext\u001b[0m\u001b[1;33m(\u001b[0m\u001b[0mself\u001b[0m\u001b[1;33m)\u001b[0m\u001b[1;33m:\u001b[0m\u001b[1;33m\u001b[0m\u001b[1;33m\u001b[0m\u001b[0m\n\u001b[0;32m     75\u001b[0m         \u001b[1;34m\"\"\"The text of the element.\"\"\"\u001b[0m\u001b[1;33m\u001b[0m\u001b[1;33m\u001b[0m\u001b[0m\n\u001b[1;32m---> 76\u001b[1;33m         \u001b[1;32mreturn\u001b[0m \u001b[0mself\u001b[0m\u001b[1;33m.\u001b[0m\u001b[0m_execute\u001b[0m\u001b[1;33m(\u001b[0m\u001b[0mCommand\u001b[0m\u001b[1;33m.\u001b[0m\u001b[0mGET_ELEMENT_TEXT\u001b[0m\u001b[1;33m)\u001b[0m\u001b[1;33m[\u001b[0m\u001b[1;34m'value'\u001b[0m\u001b[1;33m]\u001b[0m\u001b[1;33m\u001b[0m\u001b[1;33m\u001b[0m\u001b[0m\n\u001b[0m\u001b[0;32m     77\u001b[0m \u001b[1;33m\u001b[0m\u001b[0m\n\u001b[0;32m     78\u001b[0m     \u001b[1;32mdef\u001b[0m \u001b[0mclick\u001b[0m\u001b[1;33m(\u001b[0m\u001b[0mself\u001b[0m\u001b[1;33m)\u001b[0m\u001b[1;33m:\u001b[0m\u001b[1;33m\u001b[0m\u001b[1;33m\u001b[0m\u001b[0m\n",
      "\u001b[1;32mC:\\ProgramData\\Anaconda3\\lib\\site-packages\\selenium\\webdriver\\remote\\webelement.py\u001b[0m in \u001b[0;36m_execute\u001b[1;34m(self, command, params)\u001b[0m\n\u001b[0;32m    631\u001b[0m             \u001b[0mparams\u001b[0m \u001b[1;33m=\u001b[0m \u001b[1;33m{\u001b[0m\u001b[1;33m}\u001b[0m\u001b[1;33m\u001b[0m\u001b[1;33m\u001b[0m\u001b[0m\n\u001b[0;32m    632\u001b[0m         \u001b[0mparams\u001b[0m\u001b[1;33m[\u001b[0m\u001b[1;34m'id'\u001b[0m\u001b[1;33m]\u001b[0m \u001b[1;33m=\u001b[0m \u001b[0mself\u001b[0m\u001b[1;33m.\u001b[0m\u001b[0m_id\u001b[0m\u001b[1;33m\u001b[0m\u001b[1;33m\u001b[0m\u001b[0m\n\u001b[1;32m--> 633\u001b[1;33m         \u001b[1;32mreturn\u001b[0m \u001b[0mself\u001b[0m\u001b[1;33m.\u001b[0m\u001b[0m_parent\u001b[0m\u001b[1;33m.\u001b[0m\u001b[0mexecute\u001b[0m\u001b[1;33m(\u001b[0m\u001b[0mcommand\u001b[0m\u001b[1;33m,\u001b[0m \u001b[0mparams\u001b[0m\u001b[1;33m)\u001b[0m\u001b[1;33m\u001b[0m\u001b[1;33m\u001b[0m\u001b[0m\n\u001b[0m\u001b[0;32m    634\u001b[0m \u001b[1;33m\u001b[0m\u001b[0m\n\u001b[0;32m    635\u001b[0m     \u001b[1;32mdef\u001b[0m \u001b[0mfind_element\u001b[0m\u001b[1;33m(\u001b[0m\u001b[0mself\u001b[0m\u001b[1;33m,\u001b[0m \u001b[0mby\u001b[0m\u001b[1;33m=\u001b[0m\u001b[0mBy\u001b[0m\u001b[1;33m.\u001b[0m\u001b[0mID\u001b[0m\u001b[1;33m,\u001b[0m \u001b[0mvalue\u001b[0m\u001b[1;33m=\u001b[0m\u001b[1;32mNone\u001b[0m\u001b[1;33m)\u001b[0m\u001b[1;33m:\u001b[0m\u001b[1;33m\u001b[0m\u001b[1;33m\u001b[0m\u001b[0m\n",
      "\u001b[1;32mC:\\ProgramData\\Anaconda3\\lib\\site-packages\\selenium\\webdriver\\remote\\webdriver.py\u001b[0m in \u001b[0;36mexecute\u001b[1;34m(self, driver_command, params)\u001b[0m\n\u001b[0;32m    319\u001b[0m         \u001b[0mresponse\u001b[0m \u001b[1;33m=\u001b[0m \u001b[0mself\u001b[0m\u001b[1;33m.\u001b[0m\u001b[0mcommand_executor\u001b[0m\u001b[1;33m.\u001b[0m\u001b[0mexecute\u001b[0m\u001b[1;33m(\u001b[0m\u001b[0mdriver_command\u001b[0m\u001b[1;33m,\u001b[0m \u001b[0mparams\u001b[0m\u001b[1;33m)\u001b[0m\u001b[1;33m\u001b[0m\u001b[1;33m\u001b[0m\u001b[0m\n\u001b[0;32m    320\u001b[0m         \u001b[1;32mif\u001b[0m \u001b[0mresponse\u001b[0m\u001b[1;33m:\u001b[0m\u001b[1;33m\u001b[0m\u001b[1;33m\u001b[0m\u001b[0m\n\u001b[1;32m--> 321\u001b[1;33m             \u001b[0mself\u001b[0m\u001b[1;33m.\u001b[0m\u001b[0merror_handler\u001b[0m\u001b[1;33m.\u001b[0m\u001b[0mcheck_response\u001b[0m\u001b[1;33m(\u001b[0m\u001b[0mresponse\u001b[0m\u001b[1;33m)\u001b[0m\u001b[1;33m\u001b[0m\u001b[1;33m\u001b[0m\u001b[0m\n\u001b[0m\u001b[0;32m    322\u001b[0m             response['value'] = self._unwrap_value(\n\u001b[0;32m    323\u001b[0m                 response.get('value', None))\n",
      "\u001b[1;32mC:\\ProgramData\\Anaconda3\\lib\\site-packages\\selenium\\webdriver\\remote\\errorhandler.py\u001b[0m in \u001b[0;36mcheck_response\u001b[1;34m(self, response)\u001b[0m\n\u001b[0;32m    240\u001b[0m                 \u001b[0malert_text\u001b[0m \u001b[1;33m=\u001b[0m \u001b[0mvalue\u001b[0m\u001b[1;33m[\u001b[0m\u001b[1;34m'alert'\u001b[0m\u001b[1;33m]\u001b[0m\u001b[1;33m.\u001b[0m\u001b[0mget\u001b[0m\u001b[1;33m(\u001b[0m\u001b[1;34m'text'\u001b[0m\u001b[1;33m)\u001b[0m\u001b[1;33m\u001b[0m\u001b[1;33m\u001b[0m\u001b[0m\n\u001b[0;32m    241\u001b[0m             \u001b[1;32mraise\u001b[0m \u001b[0mexception_class\u001b[0m\u001b[1;33m(\u001b[0m\u001b[0mmessage\u001b[0m\u001b[1;33m,\u001b[0m \u001b[0mscreen\u001b[0m\u001b[1;33m,\u001b[0m \u001b[0mstacktrace\u001b[0m\u001b[1;33m,\u001b[0m \u001b[0malert_text\u001b[0m\u001b[1;33m)\u001b[0m\u001b[1;33m\u001b[0m\u001b[1;33m\u001b[0m\u001b[0m\n\u001b[1;32m--> 242\u001b[1;33m         \u001b[1;32mraise\u001b[0m \u001b[0mexception_class\u001b[0m\u001b[1;33m(\u001b[0m\u001b[0mmessage\u001b[0m\u001b[1;33m,\u001b[0m \u001b[0mscreen\u001b[0m\u001b[1;33m,\u001b[0m \u001b[0mstacktrace\u001b[0m\u001b[1;33m)\u001b[0m\u001b[1;33m\u001b[0m\u001b[1;33m\u001b[0m\u001b[0m\n\u001b[0m\u001b[0;32m    243\u001b[0m \u001b[1;33m\u001b[0m\u001b[0m\n\u001b[0;32m    244\u001b[0m     \u001b[1;32mdef\u001b[0m \u001b[0m_value_or_default\u001b[0m\u001b[1;33m(\u001b[0m\u001b[0mself\u001b[0m\u001b[1;33m,\u001b[0m \u001b[0mobj\u001b[0m\u001b[1;33m,\u001b[0m \u001b[0mkey\u001b[0m\u001b[1;33m,\u001b[0m \u001b[0mdefault\u001b[0m\u001b[1;33m)\u001b[0m\u001b[1;33m:\u001b[0m\u001b[1;33m\u001b[0m\u001b[1;33m\u001b[0m\u001b[0m\n",
      "\u001b[1;31mStaleElementReferenceException\u001b[0m: Message: stale element reference: element is not attached to the page document\n  (Session info: chrome=86.0.4240.198)\n"
     ]
    }
   ],
   "source": [
    "colContentList = []\n",
    "for idx in range(0, len(df)) :\n",
    "# for idx in range(0, 4) :\n",
    "\n",
    "    # 해당 링크로 이동\n",
    "    url = df.loc[idx, 'link']\n",
    "    driver.get(url)\n",
    "\n",
    "    # 페이지가 로딩될때까지 최대 N초 대기 \n",
    "    driver.implicitly_wait(10) \n",
    "    \n",
    "    # 아예 contents 안의 모든 텍스트를 읽어오자 \n",
    "    elements = driver.find_elements_by_css_selector('#contents > div') \n",
    "    \n",
    "    # 초기화\n",
    "    contentList = []\n",
    "    \n",
    "    for element in elements :        \n",
    "             contentList.append(element.text)       \n",
    "\n",
    "    if not brand in contentList:\n",
    "        df.loc[idx, 'check'] = 2\n",
    "    \n",
    "    colContentList.append(contentList)\n",
    "    \n",
    "    print('완료 idx :', idx)"
   ]
  },
  {
   "cell_type": "code",
   "execution_count": null,
   "metadata": {},
   "outputs": [],
   "source": [
    "# df의 길이와 colContenList 길이 비교하여 모든 페이지 크롤링 되었는지 확인\n",
    "if len(df) == len(colContentList) :\n",
    "    print(True)\n",
    "else :\n",
    "    print(False)"
   ]
  },
  {
   "cell_type": "code",
   "execution_count": null,
   "metadata": {},
   "outputs": [],
   "source": [
    "df['content'] = colContentList"
   ]
  },
  {
   "cell_type": "code",
   "execution_count": null,
   "metadata": {},
   "outputs": [],
   "source": [
    "colContentList"
   ]
  },
  {
   "cell_type": "code",
   "execution_count": null,
   "metadata": {},
   "outputs": [],
   "source": [
    "df.loc[len(df)-1, ['title','link','content']]"
   ]
  },
  {
   "cell_type": "code",
   "execution_count": null,
   "metadata": {},
   "outputs": [],
   "source": [
    "df"
   ]
  },
  {
   "cell_type": "markdown",
   "metadata": {},
   "source": [
    "### df -> csv"
   ]
  },
  {
   "cell_type": "code",
   "execution_count": null,
   "metadata": {},
   "outputs": [],
   "source": [
    "# 크롤링 결과 csv로 만듬\n",
    "csvFileName = './data/'+ magazine +'_' + engBrand + '.csv'\n",
    "df.to_csv(csvFileName, sep = '|', encoding = 'utf-8', index = False)"
   ]
  }
 ],
 "metadata": {
  "kernelspec": {
   "display_name": "Python 3",
   "language": "python",
   "name": "python3"
  },
  "language_info": {
   "codemirror_mode": {
    "name": "ipython",
    "version": 3
   },
   "file_extension": ".py",
   "mimetype": "text/x-python",
   "name": "python",
   "nbconvert_exporter": "python",
   "pygments_lexer": "ipython3",
   "version": "3.7.6"
  }
 },
 "nbformat": 4,
 "nbformat_minor": 4
}
