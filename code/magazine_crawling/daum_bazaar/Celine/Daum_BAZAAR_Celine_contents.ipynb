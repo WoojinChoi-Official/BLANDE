{
 "cells": [
  {
   "cell_type": "code",
   "execution_count": 34,
   "metadata": {},
   "outputs": [],
   "source": [
    "import pandas as pd\n",
    "from selenium import webdriver"
   ]
  },
  {
   "cell_type": "markdown",
   "metadata": {},
   "source": [
    "### 크롤링할 데이터의 기본 정보"
   ]
  },
  {
   "cell_type": "code",
   "execution_count": 35,
   "metadata": {},
   "outputs": [],
   "source": [
    "searhWord = {'셀린느' : 'Ce',\n",
    "             '디올'   : 'D',\n",
    "             '샤넬'   : 'Ch',\n",
    "             '생로랑' : 'YSL'}"
   ]
  },
  {
   "cell_type": "code",
   "execution_count": 36,
   "metadata": {},
   "outputs": [],
   "source": [
    "searchWordIndex = 0"
   ]
  },
  {
   "cell_type": "code",
   "execution_count": 37,
   "metadata": {},
   "outputs": [
    {
     "data": {
      "text/plain": [
       "'셀린느'"
      ]
     },
     "execution_count": 37,
     "metadata": {},
     "output_type": "execute_result"
    }
   ],
   "source": [
    "brand = list(searhWord.keys())[searchWordIndex]\n",
    "brand"
   ]
  },
  {
   "cell_type": "code",
   "execution_count": 38,
   "metadata": {},
   "outputs": [
    {
     "data": {
      "text/plain": [
       "'Ce'"
      ]
     },
     "execution_count": 38,
     "metadata": {},
     "output_type": "execute_result"
    }
   ],
   "source": [
    "engBrand = list(searhWord.values())[searchWordIndex]\n",
    "engBrand"
   ]
  },
  {
   "cell_type": "code",
   "execution_count": 39,
   "metadata": {},
   "outputs": [],
   "source": [
    "magazine = 'Daum_BAZAAR'"
   ]
  },
  {
   "cell_type": "markdown",
   "metadata": {},
   "source": [
    "### csv 로드"
   ]
  },
  {
   "cell_type": "code",
   "execution_count": 40,
   "metadata": {},
   "outputs": [],
   "source": [
    "df = pd.read_csv('./data/'+ magazine +'_' + 'Celine' +'_df' +'.csv', sep = '|')"
   ]
  },
  {
   "cell_type": "code",
   "execution_count": 41,
   "metadata": {},
   "outputs": [
    {
     "data": {
      "text/html": [
       "<div>\n",
       "<style scoped>\n",
       "    .dataframe tbody tr th:only-of-type {\n",
       "        vertical-align: middle;\n",
       "    }\n",
       "\n",
       "    .dataframe tbody tr th {\n",
       "        vertical-align: top;\n",
       "    }\n",
       "\n",
       "    .dataframe thead th {\n",
       "        text-align: right;\n",
       "    }\n",
       "</style>\n",
       "<table border=\"1\" class=\"dataframe\">\n",
       "  <thead>\n",
       "    <tr style=\"text-align: right;\">\n",
       "      <th></th>\n",
       "      <th>title</th>\n",
       "      <th>date</th>\n",
       "      <th>link</th>\n",
       "      <th>content</th>\n",
       "    </tr>\n",
       "  </thead>\n",
       "  <tbody>\n",
       "    <tr>\n",
       "      <th>0</th>\n",
       "      <td>오버사이즈로 압도하라!</td>\n",
       "      <td>2019.02.19</td>\n",
       "      <td>https://www.harpersbazaar.co.kr/article/39940</td>\n",
       "      <td>[&lt;selenium.webdriver.remote.webelement.WebElem...</td>\n",
       "    </tr>\n",
       "  </tbody>\n",
       "</table>\n",
       "</div>"
      ],
      "text/plain": [
       "          title        date                                           link  \\\n",
       "0  오버사이즈로 압도하라!  2019.02.19  https://www.harpersbazaar.co.kr/article/39940   \n",
       "\n",
       "                                             content  \n",
       "0  [<selenium.webdriver.remote.webelement.WebElem...  "
      ]
     },
     "execution_count": 41,
     "metadata": {},
     "output_type": "execute_result"
    }
   ],
   "source": [
    "df.head()"
   ]
  },
  {
   "cell_type": "markdown",
   "metadata": {},
   "source": [
    "### 웹 드라이버 실행"
   ]
  },
  {
   "cell_type": "code",
   "execution_count": 42,
   "metadata": {},
   "outputs": [],
   "source": [
    "path = 'C:/programming/multi_final_project/driver/chromedriver.exe'"
   ]
  },
  {
   "cell_type": "code",
   "execution_count": 43,
   "metadata": {},
   "outputs": [
    {
     "data": {
      "text/plain": [
       "'https://www.harpersbazaar.co.kr/article/39940'"
      ]
     },
     "execution_count": 43,
     "metadata": {},
     "output_type": "execute_result"
    }
   ],
   "source": [
    "url =  df.loc[0, 'link']\n",
    "url"
   ]
  },
  {
   "cell_type": "code",
   "execution_count": 44,
   "metadata": {},
   "outputs": [],
   "source": [
    "driver = webdriver.Chrome(path)     # 크롬 브라우저 제어할 수 있는 객체, 웹브라우저 실행\n",
    "driver\n",
    "driver.get(url)"
   ]
  },
  {
   "cell_type": "markdown",
   "metadata": {},
   "source": [
    "### p태그 읽어와서 list에 담음"
   ]
  },
  {
   "cell_type": "code",
   "execution_count": 45,
   "metadata": {},
   "outputs": [
    {
     "name": "stdout",
     "output_type": "stream",
     "text": [
      "[<selenium.webdriver.remote.webelement.WebElement (session=\"b79286b0ab724515b49de1d3adbc41a3\", element=\"3e55118b-0b58-48a0-ad89-23be1ccf7ba5\")>, <selenium.webdriver.remote.webelement.WebElement (session=\"b79286b0ab724515b49de1d3adbc41a3\", element=\"41cf44df-206c-4594-a8db-dd5114eef37e\")>, <selenium.webdriver.remote.webelement.WebElement (session=\"b79286b0ab724515b49de1d3adbc41a3\", element=\"4237f73d-cd51-46d9-8857-700fdd2708fc\")>, <selenium.webdriver.remote.webelement.WebElement (session=\"b79286b0ab724515b49de1d3adbc41a3\", element=\"5289515f-75e0-44cf-b82f-6ec5b3158687\")>, <selenium.webdriver.remote.webelement.WebElement (session=\"b79286b0ab724515b49de1d3adbc41a3\", element=\"1d7d86cb-e466-4c77-8155-bceee636d5fe\")>, <selenium.webdriver.remote.webelement.WebElement (session=\"b79286b0ab724515b49de1d3adbc41a3\", element=\"58617475-e767-4e64-9912-7e68b5096c2d\")>, <selenium.webdriver.remote.webelement.WebElement (session=\"b79286b0ab724515b49de1d3adbc41a3\", element=\"83e63a90-96de-4bdc-978a-d9b4be76cde3\")>, <selenium.webdriver.remote.webelement.WebElement (session=\"b79286b0ab724515b49de1d3adbc41a3\", element=\"bc18a7c3-c44b-4f64-8c5b-60cab1d6e5b5\")>, <selenium.webdriver.remote.webelement.WebElement (session=\"b79286b0ab724515b49de1d3adbc41a3\", element=\"70f25b4d-082d-4891-ade2-40c3c6d2a104\")>, <selenium.webdriver.remote.webelement.WebElement (session=\"b79286b0ab724515b49de1d3adbc41a3\", element=\"d3260384-1142-48ca-8f29-e4e87d98d93f\")>, <selenium.webdriver.remote.webelement.WebElement (session=\"b79286b0ab724515b49de1d3adbc41a3\", element=\"43bcedf1-acfb-4cc7-8c9b-5962635ebc54\")>]\n"
     ]
    }
   ],
   "source": [
    "elements = driver.find_elements_by_css_selector('#contents > div > div.contents_wrap > div.contents > div.atc_content > p')\n",
    "len(elements)\n",
    "print(elements)"
   ]
  },
  {
   "cell_type": "code",
   "execution_count": 46,
   "metadata": {},
   "outputs": [],
   "source": [
    "contentList = []"
   ]
  },
  {
   "cell_type": "code",
   "execution_count": 47,
   "metadata": {},
   "outputs": [],
   "source": [
    "for element in elements :\n",
    "    contentList.append(element.text)"
   ]
  },
  {
   "cell_type": "code",
   "execution_count": 48,
   "metadata": {},
   "outputs": [
    {
     "name": "stdout",
     "output_type": "stream",
     "text": [
      "['', '', '', '미니 백의 그늘에 가려져 있던 오버사이즈 백이 트렌드의 중심으로 돌아왔다. 모든 것을 담을 수 있는 관대함을 지닌 오버사이즈 백을 단순히 실용적인 측면으로만 바라보지는 말 것. 한쪽 스트랩만 어깨에 걸쳐 드라마틱한 실루엣을 연출한 프로엔자 스쿨러, 무심하게 백을 감싸안은 스텔라 매카트니 그리고', '백의 입구를 말아 구조적인 형태를 만들어낸 질 샌더까지, 오버사이즈 백을 소화한 쿨한 자세는 덤이다.', '', '', '', '', '', '슈퍼사이즈 리본의 등장! 이번 시즌 여성의 특권이자 사랑스러움의 대명사인 리본 장식이 런웨이를 로맨틱하게 채워나갔다. 셀린느의 오프닝을 장식한 도트 패턴의 보 원피스부터 발렌티노, 미우 미우, 에르뎀, 모스키노, 에밀리아 윅스테드를 대표적으로 꼽을 수 있다. 단, 그저 사랑스럽게 리본을 즐기기보단 과장된 크기를 택해 파워풀하게 연출하는 것이 포인트다.']\n"
     ]
    }
   ],
   "source": [
    "print(contentList)"
   ]
  },
  {
   "cell_type": "markdown",
   "metadata": {},
   "source": [
    "### link 읽어서 contentList 만듬"
   ]
  },
  {
   "cell_type": "code",
   "execution_count": 49,
   "metadata": {},
   "outputs": [
    {
     "name": "stdout",
     "output_type": "stream",
     "text": [
      "idx : 0\n"
     ]
    }
   ],
   "source": [
    "colContentList = []\n",
    "for idx in range(0, len(df)) :\n",
    "\n",
    "    print('idx :', idx)\n",
    "\n",
    "    # 해당 링크로 이동\n",
    "    url = df.loc[idx, 'link']\n",
    "    driver.get(url)\n",
    "\n",
    "    # p태그 추출\n",
    "    elements = driver.find_elements_by_css_selector('#contents > div > div.contents_wrap > div.contents > div.atc_content > p')\n",
    "\n",
    "    # 초기화\n",
    "    contentList = []\n",
    "    \n",
    "    for element in elements :\n",
    "        if type(element.text) == str:\n",
    "            contentList.append(element.text)\n",
    "        else:\n",
    "            continue\n",
    "    colContentList.append(contentList)"
   ]
  },
  {
   "cell_type": "code",
   "execution_count": 50,
   "metadata": {},
   "outputs": [
    {
     "name": "stdout",
     "output_type": "stream",
     "text": [
      "True\n"
     ]
    }
   ],
   "source": [
    "# df의 길이와 colContenList 길이 비교하여 모든 페이지 크롤링 되었는지 확인\n",
    "if len(df) == len(colContentList) :\n",
    "    print(True)\n",
    "else :\n",
    "    print(False)"
   ]
  },
  {
   "cell_type": "code",
   "execution_count": 51,
   "metadata": {},
   "outputs": [],
   "source": [
    "df['category'] = 'Fashion'\n",
    "df['title_brand'] = 0\n",
    "df['check'] = 0\n",
    "df['why'] = '-'\n",
    "df['Brand'] = engBrand\n",
    "\n",
    "df['content'] = colContentList\n",
    "\n",
    "\n"
   ]
  },
  {
   "cell_type": "code",
   "execution_count": 52,
   "metadata": {},
   "outputs": [
    {
     "data": {
      "text/plain": [
       "[['',\n",
       "  '',\n",
       "  '',\n",
       "  '미니 백의 그늘에 가려져 있던 오버사이즈 백이 트렌드의 중심으로 돌아왔다. 모든 것을 담을 수 있는 관대함을 지닌 오버사이즈 백을 단순히 실용적인 측면으로만 바라보지는 말 것. 한쪽 스트랩만 어깨에 걸쳐 드라마틱한 실루엣을 연출한 프로엔자 스쿨러, 무심하게 백을 감싸안은 스텔라 매카트니 그리고',\n",
       "  '백의 입구를 말아 구조적인 형태를 만들어낸 질 샌더까지, 오버사이즈 백을 소화한 쿨한 자세는 덤이다.',\n",
       "  '',\n",
       "  '',\n",
       "  '',\n",
       "  '',\n",
       "  '',\n",
       "  '슈퍼사이즈 리본의 등장! 이번 시즌 여성의 특권이자 사랑스러움의 대명사인 리본 장식이 런웨이를 로맨틱하게 채워나갔다. 셀린느의 오프닝을 장식한 도트 패턴의 보 원피스부터 발렌티노, 미우 미우, 에르뎀, 모스키노, 에밀리아 윅스테드를 대표적으로 꼽을 수 있다. 단, 그저 사랑스럽게 리본을 즐기기보단 과장된 크기를 택해 파워풀하게 연출하는 것이 포인트다.']]"
      ]
     },
     "execution_count": 52,
     "metadata": {},
     "output_type": "execute_result"
    }
   ],
   "source": [
    "colContentList"
   ]
  },
  {
   "cell_type": "code",
   "execution_count": 55,
   "metadata": {},
   "outputs": [
    {
     "data": {
      "text/plain": [
       "title                                           오버사이즈로 압도하라!\n",
       "link           https://www.harpersbazaar.co.kr/article/39940\n",
       "content    [, , , 미니 백의 그늘에 가려져 있던 오버사이즈 백이 트렌드의 중심으로 돌아왔...\n",
       "Name: 0, dtype: object"
      ]
     },
     "execution_count": 55,
     "metadata": {},
     "output_type": "execute_result"
    }
   ],
   "source": [
    "df.loc[len(df)-1, ['title','link','content']]"
   ]
  },
  {
   "cell_type": "markdown",
   "metadata": {},
   "source": [
    "### df -> csv"
   ]
  },
  {
   "cell_type": "code",
   "execution_count": 57,
   "metadata": {},
   "outputs": [],
   "source": [
    "# 크롤링 결과 csv로 만듬\n",
    "csvFileName = './data/'+ magazine +'_' + engBrand + '_contents_processed'+'.csv'\n",
    "df.to_csv(csvFileName, sep = '|', encoding = 'utf-8', index = False)"
   ]
  },
  {
   "cell_type": "code",
   "execution_count": null,
   "metadata": {},
   "outputs": [],
   "source": []
  }
 ],
 "metadata": {
  "kernelspec": {
   "display_name": "Python 3",
   "language": "python",
   "name": "python3"
  },
  "language_info": {
   "codemirror_mode": {
    "name": "ipython",
    "version": 3
   },
   "file_extension": ".py",
   "mimetype": "text/x-python",
   "name": "python",
   "nbconvert_exporter": "python",
   "pygments_lexer": "ipython3",
   "version": "3.7.6"
  }
 },
 "nbformat": 4,
 "nbformat_minor": 4
}
