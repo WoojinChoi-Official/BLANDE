{
 "cells": [
  {
   "cell_type": "code",
   "execution_count": 232,
   "metadata": {},
   "outputs": [],
   "source": [
    "import pandas as pd\n",
    "import numpy as np\n",
    "import time"
   ]
  },
  {
   "cell_type": "code",
   "execution_count": 233,
   "metadata": {},
   "outputs": [],
   "source": [
    "from selenium import webdriver\n",
    "from selenium.webdriver.common.by import By   # 특정 요소 존재 여부 확인\n",
    "from selenium.webdriver.support.ui import WebDriverWait # 웹 페이지 로딩 완료될 때까지 대기\n",
    "from selenium.webdriver.support import expected_conditions as EC\n",
    "from selenium.webdriver.common.keys import Keys # key event 발생 시킴\n",
    "\n",
    "# Exception\n",
    "from selenium.common.exceptions import TimeoutException, NoSuchElementException"
   ]
  },
  {
   "cell_type": "code",
   "execution_count": 234,
   "metadata": {},
   "outputs": [],
   "source": [
    "path = 'C:\\programming\\multi_final_project\\driver\\chromedriver.exe'\n",
    "\n",
    "# http 안넣어주면 오류남 ! \n",
    "Url = 'https://search.daum.net/search?w=news&sort=recency&q={}&cluster=n&dc=STC&pg=1&r=1&p={}&rc=1&at=more&sd=20160901000000&ed=20201117235959&period=u&cpname=%ED%95%98%ED%8D%BC%EC%8A%A4%EB%B0%94%EC%9E%90&cp=16tGeOd_Hc_jGqFhjc'"
   ]
  },
  {
   "cell_type": "code",
   "execution_count": 235,
   "metadata": {},
   "outputs": [],
   "source": [
    "def short_naming(brand_name):\n",
    "    if brand_name == '셀린느':\n",
    "        return \"Ce\"\n",
    "    elif brand_name == '샤넬':\n",
    "        return \"Ch\"\n",
    "    elif brand_name == '로랑':\n",
    "        return \"YSL\"\n",
    "    elif brand_name == '디올':\n",
    "        return \"D\"\n",
    "    else:\n",
    "        return \"입력오류\""
   ]
  },
  {
   "cell_type": "code",
   "execution_count": 236,
   "metadata": {},
   "outputs": [],
   "source": [
    "SearhWord = ['셀린느']\n",
    "brand_code = short_naming(SearhWord[0])"
   ]
  },
  {
   "cell_type": "code",
   "execution_count": 237,
   "metadata": {},
   "outputs": [],
   "source": [
    "magazine = 'Daum_BAZZAR'"
   ]
  },
  {
   "cell_type": "code",
   "execution_count": 238,
   "metadata": {},
   "outputs": [
    {
     "data": {
      "text/plain": [
       "<selenium.webdriver.chrome.webdriver.WebDriver (session=\"e04fa956ba7da04cecede77b24a01868\")>"
      ]
     },
     "execution_count": 238,
     "metadata": {},
     "output_type": "execute_result"
    }
   ],
   "source": [
    "driver = webdriver.Chrome(path)     # 크롬 브라우저 제어할 수 있는 객체, 웹브라우저 실행\n",
    "driver"
   ]
  },
  {
   "cell_type": "code",
   "execution_count": 239,
   "metadata": {},
   "outputs": [],
   "source": [
    "titleList = []\n",
    "linkList = []\n",
    "dateList = []\n",
    "categoryList = []\n",
    "contentList = []\n",
    "Temp_contentList = []"
   ]
  },
  {
   "cell_type": "markdown",
   "metadata": {},
   "source": [
    "### 크롤링 수행 "
   ]
  },
  {
   "cell_type": "code",
   "execution_count": 240,
   "metadata": {
    "scrolled": false
   },
   "outputs": [
    {
     "name": "stdout",
     "output_type": "stream",
     "text": [
      "제목 :  오버사이즈로 압도하라!\n",
      "날짜 : 2019.02.19\n"
     ]
    },
    {
     "name": "stderr",
     "output_type": "stream",
     "text": [
      "C:\\ProgramData\\Anaconda3\\lib\\site-packages\\ipykernel_launcher.py:25: DeprecationWarning: use driver.switch_to.window instead\n"
     ]
    },
    {
     "name": "stdout",
     "output_type": "stream",
     "text": [
      "link : https://www.harpersbazaar.co.kr/article/39940\n",
      "FASHION\n",
      "[['미니 백의 그늘에 가려져 있던 오버사이즈 백이 트렌드의 중심으로 돌아왔다. 모든 것을 담을 수 있는 관대함을 지닌 오버사이즈 백을 단순히 실용적인 측면으로만 바라보지는 말 것. 한쪽 스트랩만 어깨에 걸쳐 드라마틱한 실루엣을 연출한 프로엔자 스쿨러, 무심하게 백을 감싸안은 스텔라 매카트니 그리고', '백의 입구를 말아 구조적인 형태를 만들어낸 질 샌더까지, 오버사이즈 백을 소화한 쿨한 자세는 덤이다.', '슈퍼사이즈 리본의 등장! 이번 시즌 여성의 특권이자 사랑스러움의 대명사인 리본 장식이 런웨이를 로맨틱하게 채워나갔다. 셀린느의 오프닝을 장식한 도트 패턴의 보 원피스부터 발렌티노, 미우 미우, 에르뎀, 모스키노, 에밀리아 윅스테드를 대표적으로 꼽을 수 있다. 단, 그저 사랑스럽게 리본을 즐기기보단 과장된 크기를 택해 파워풀하게 연출하는 것이 포인트다.']]\n",
      "--------------------------------------------------\n"
     ]
    },
    {
     "name": "stderr",
     "output_type": "stream",
     "text": [
      "C:\\ProgramData\\Anaconda3\\lib\\site-packages\\ipykernel_launcher.py:57: DeprecationWarning: use driver.switch_to.window instead\n"
     ]
    },
    {
     "name": "stdout",
     "output_type": "stream",
     "text": [
      "완료 : 1페이지, 0번 게시물\n"
     ]
    }
   ],
   "source": [
    "end_of_page = 2\n",
    "\n",
    "for page in range(1,end_of_page) :\n",
    "    driver.get(Url.format(SearchWord, page))\n",
    "    contElements = driver.find_elements_by_css_selector('#newsResultUL > li')\n",
    "    \n",
    "    for i, cont in enumerate(contElements):\n",
    "        \n",
    "        #제목 가져오기\n",
    "        title = cont.find_element_by_xpath('//*[@id=\"newsResultUL\"]/li[{}]/div/div/div/a'.format(i+1))\n",
    "        titleList.append(str(title.text))\n",
    "        print('제목 : ', title.text)\n",
    "       \n",
    "        #날짜 가져오기\n",
    "        date = cont.find_element_by_css_selector('span.f_nb.date').text[:10]\n",
    "        dateList.append(date)\n",
    "        print('날짜 :', date)\n",
    "                \n",
    "        \n",
    "        #페이지 클릭\n",
    "        title.click()  \n",
    "        time.sleep(2)\n",
    "\n",
    "        ## 새 탭으로 이동 \n",
    "        driver.switch_to_window(driver.window_handles[1])\n",
    "        \n",
    "        ##  링크 가져오기 \n",
    "        link = driver.find_element_by_css_selector('head > meta:nth-child(9)').get_attribute('content')\n",
    "        linkList.append(link)\n",
    "        print('link :', link)\n",
    "        \n",
    "        ## 카테고리 가져오기        \n",
    "        category =  driver.find_element_by_xpath('//*[@id=\"contents\"]/div/div[1]/div/span').text\n",
    "        categoryList.append(category)\n",
    "        print(category)\n",
    "        \n",
    "        # 본문 가져오기 \n",
    "        content_box = driver.find_element_by_css_selector('div.atc_content')\n",
    "        content = content_box.find_elements_by_tag_name(\"p\")\n",
    "\n",
    "        for element in content :\n",
    "        \n",
    "            # 공백이 아닌 문자열만 추가 \n",
    "            if len(element.text) != 0:\n",
    "                Temp_contentList.append(element.text)        \n",
    "            else:\n",
    "                continue\n",
    "\n",
    "        contentList.append(Temp_contentList)         \n",
    "        print(contentList)\n",
    "   \n",
    "    \n",
    "        driver.close()\n",
    "\n",
    "        # 메인 탭으로 가기 \n",
    "        driver.switch_to_window(driver.window_handles[0])\n",
    "        time.sleep(2)\n",
    "        # 게시물 10개 읽으면 다음 페이지로 \n",
    "        if i == 9:\n",
    "            break\n",
    "        \n",
    "        print(\"완료 : {}페이지, {}번 게시물\".format(page, i))\n",
    "        print('-'*50)"
   ]
  },
  {
   "cell_type": "markdown",
   "metadata": {},
   "source": [
    "### 검색한 페이지"
   ]
  },
  {
   "cell_type": "code",
   "execution_count": 241,
   "metadata": {},
   "outputs": [
    {
     "name": "stdout",
     "output_type": "stream",
     "text": [
      "len : 1\n",
      "['오버사이즈로 압도하라!']\n"
     ]
    }
   ],
   "source": [
    "print('len :', len(titleList))\n",
    "print(titleList)"
   ]
  },
  {
   "cell_type": "code",
   "execution_count": 242,
   "metadata": {
    "scrolled": true
   },
   "outputs": [
    {
     "name": "stdout",
     "output_type": "stream",
     "text": [
      "len : 1\n",
      "['https://www.harpersbazaar.co.kr/article/39940']\n"
     ]
    }
   ],
   "source": [
    "print('len :', len(linkList))\n",
    "print(linkList)"
   ]
  },
  {
   "cell_type": "code",
   "execution_count": 243,
   "metadata": {},
   "outputs": [
    {
     "name": "stdout",
     "output_type": "stream",
     "text": [
      "len : 1\n",
      "['2019.02.19']\n"
     ]
    }
   ],
   "source": [
    "print('len :', len(dateList))\n",
    "print(dateList)"
   ]
  },
  {
   "cell_type": "code",
   "execution_count": 244,
   "metadata": {},
   "outputs": [
    {
     "name": "stdout",
     "output_type": "stream",
     "text": [
      "1\n"
     ]
    },
    {
     "data": {
      "text/plain": [
       "[['미니 백의 그늘에 가려져 있던 오버사이즈 백이 트렌드의 중심으로 돌아왔다. 모든 것을 담을 수 있는 관대함을 지닌 오버사이즈 백을 단순히 실용적인 측면으로만 바라보지는 말 것. 한쪽 스트랩만 어깨에 걸쳐 드라마틱한 실루엣을 연출한 프로엔자 스쿨러, 무심하게 백을 감싸안은 스텔라 매카트니 그리고',\n",
       "  '백의 입구를 말아 구조적인 형태를 만들어낸 질 샌더까지, 오버사이즈 백을 소화한 쿨한 자세는 덤이다.',\n",
       "  '슈퍼사이즈 리본의 등장! 이번 시즌 여성의 특권이자 사랑스러움의 대명사인 리본 장식이 런웨이를 로맨틱하게 채워나갔다. 셀린느의 오프닝을 장식한 도트 패턴의 보 원피스부터 발렌티노, 미우 미우, 에르뎀, 모스키노, 에밀리아 윅스테드를 대표적으로 꼽을 수 있다. 단, 그저 사랑스럽게 리본을 즐기기보단 과장된 크기를 택해 파워풀하게 연출하는 것이 포인트다.']]"
      ]
     },
     "execution_count": 244,
     "metadata": {},
     "output_type": "execute_result"
    }
   ],
   "source": [
    "print(len(contentList))\n",
    "contentList"
   ]
  },
  {
   "cell_type": "code",
   "execution_count": 245,
   "metadata": {},
   "outputs": [],
   "source": [
    "F_D = pd.DataFrame({\n",
    "    'title' : titleList,\n",
    "    'date'  : dateList, \n",
    "    'link'  : linkList\n",
    "})"
   ]
  },
  {
   "cell_type": "markdown",
   "metadata": {},
   "source": [
    "### 크롤링 데이터 전처리 "
   ]
  },
  {
   "cell_type": "code",
   "execution_count": 246,
   "metadata": {},
   "outputs": [
    {
     "name": "stdout",
     "output_type": "stream",
     "text": [
      "0\n"
     ]
    }
   ],
   "source": [
    "title_brand = []\n",
    "\n",
    "for i in range(len(F_D['title'])) :\n",
    "    if SearhWord[0] in F_D['title'][i] :\n",
    "        title_brand.append(1)\n",
    "        print(1)\n",
    "    else :\n",
    "        title_brand.append(0)\n",
    "        print(0)"
   ]
  },
  {
   "cell_type": "code",
   "execution_count": 247,
   "metadata": {},
   "outputs": [
    {
     "data": {
      "text/plain": [
       "1"
      ]
     },
     "execution_count": 247,
     "metadata": {},
     "output_type": "execute_result"
    }
   ],
   "source": [
    "len(title_brand)"
   ]
  },
  {
   "cell_type": "code",
   "execution_count": 248,
   "metadata": {},
   "outputs": [
    {
     "data": {
      "text/html": [
       "<div>\n",
       "<style scoped>\n",
       "    .dataframe tbody tr th:only-of-type {\n",
       "        vertical-align: middle;\n",
       "    }\n",
       "\n",
       "    .dataframe tbody tr th {\n",
       "        vertical-align: top;\n",
       "    }\n",
       "\n",
       "    .dataframe thead th {\n",
       "        text-align: right;\n",
       "    }\n",
       "</style>\n",
       "<table border=\"1\" class=\"dataframe\">\n",
       "  <thead>\n",
       "    <tr style=\"text-align: right;\">\n",
       "      <th></th>\n",
       "      <th>title</th>\n",
       "      <th>date</th>\n",
       "      <th>link</th>\n",
       "      <th>category</th>\n",
       "      <th>title_brand</th>\n",
       "      <th>check</th>\n",
       "      <th>why</th>\n",
       "      <th>Brand</th>\n",
       "      <th>contents</th>\n",
       "    </tr>\n",
       "  </thead>\n",
       "  <tbody>\n",
       "    <tr>\n",
       "      <th>0</th>\n",
       "      <td>오버사이즈로 압도하라!</td>\n",
       "      <td>2019.02.19</td>\n",
       "      <td>https://www.harpersbazaar.co.kr/article/39940</td>\n",
       "      <td>FASHION</td>\n",
       "      <td>0</td>\n",
       "      <td>0</td>\n",
       "      <td>-</td>\n",
       "      <td>Ce</td>\n",
       "      <td>[미니 백의 그늘에 가려져 있던 오버사이즈 백이 트렌드의 중심으로 돌아왔다. 모든 ...</td>\n",
       "    </tr>\n",
       "  </tbody>\n",
       "</table>\n",
       "</div>"
      ],
      "text/plain": [
       "          title        date                                           link  \\\n",
       "0  오버사이즈로 압도하라!  2019.02.19  https://www.harpersbazaar.co.kr/article/39940   \n",
       "\n",
       "  category  title_brand  check why Brand  \\\n",
       "0  FASHION            0      0   -    Ce   \n",
       "\n",
       "                                            contents  \n",
       "0  [미니 백의 그늘에 가려져 있던 오버사이즈 백이 트렌드의 중심으로 돌아왔다. 모든 ...  "
      ]
     },
     "execution_count": 248,
     "metadata": {},
     "output_type": "execute_result"
    }
   ],
   "source": [
    "F_D['category'] = categoryList\n",
    "F_D['title_brand'] = 0\n",
    "F_D['check'] = 0\n",
    "F_D['why'] = '-'\n",
    "F_D['Brand'] = brand_code\n",
    "F_D['contents'] = contentList\n",
    "\n",
    "F_D"
   ]
  },
  {
   "cell_type": "code",
   "execution_count": 249,
   "metadata": {},
   "outputs": [
    {
     "data": {
      "text/plain": [
       "0    1\n",
       "Name: title_brand, dtype: int64"
      ]
     },
     "execution_count": 249,
     "metadata": {},
     "output_type": "execute_result"
    }
   ],
   "source": [
    "F_D['title_brand'].value_counts()"
   ]
  },
  {
   "cell_type": "markdown",
   "metadata": {},
   "source": [
    "## 본문에 브랜드 명 있는지 확인 "
   ]
  },
  {
   "cell_type": "code",
   "execution_count": 250,
   "metadata": {},
   "outputs": [
    {
     "name": "stdout",
     "output_type": "stream",
     "text": [
      "1\n"
     ]
    }
   ],
   "source": [
    "for i in range(len(F_D)):\n",
    "    brand_cnt = 0\n",
    "    for j in range(len(F_D['contents'][i])):\n",
    "            if '셀린느' in F_D['contents'][i][j] :\n",
    "                brand_cnt += 1\n",
    "                print(brand_cnt)\n",
    "            else:\n",
    "                continue\n",
    "    if brand_cnt == 0:\n",
    "        F_D['check'][i] = 2"
   ]
  },
  {
   "cell_type": "code",
   "execution_count": 251,
   "metadata": {},
   "outputs": [],
   "source": [
    "## 확인하는 다른 방법 (보류)\n",
    "\n",
    "# for i in range(len(F_D)):\n",
    "#     brand_cnt = 0\n",
    "#     for j in range(len(F_D['contents'][i])):\n",
    "#             k = F_D['contents'][i][j].find('셀린느')\n",
    "#             if (k != -1):\n",
    "#                 brand_cnt += 1\n",
    "#                 print(brand_cnt)\n",
    "#             else:\n",
    "#                 continue\n",
    "#     if brand_cnt == 0:\n",
    "#         F_D['check'][i] = 2"
   ]
  },
  {
   "cell_type": "code",
   "execution_count": 252,
   "metadata": {
    "scrolled": true
   },
   "outputs": [
    {
     "data": {
      "text/html": [
       "<div>\n",
       "<style scoped>\n",
       "    .dataframe tbody tr th:only-of-type {\n",
       "        vertical-align: middle;\n",
       "    }\n",
       "\n",
       "    .dataframe tbody tr th {\n",
       "        vertical-align: top;\n",
       "    }\n",
       "\n",
       "    .dataframe thead th {\n",
       "        text-align: right;\n",
       "    }\n",
       "</style>\n",
       "<table border=\"1\" class=\"dataframe\">\n",
       "  <thead>\n",
       "    <tr style=\"text-align: right;\">\n",
       "      <th></th>\n",
       "      <th>title</th>\n",
       "      <th>date</th>\n",
       "      <th>link</th>\n",
       "      <th>category</th>\n",
       "      <th>title_brand</th>\n",
       "      <th>check</th>\n",
       "      <th>why</th>\n",
       "      <th>Brand</th>\n",
       "      <th>contents</th>\n",
       "    </tr>\n",
       "  </thead>\n",
       "  <tbody>\n",
       "    <tr>\n",
       "      <th>0</th>\n",
       "      <td>오버사이즈로 압도하라!</td>\n",
       "      <td>2019.02.19</td>\n",
       "      <td>https://www.harpersbazaar.co.kr/article/39940</td>\n",
       "      <td>FASHION</td>\n",
       "      <td>0</td>\n",
       "      <td>0</td>\n",
       "      <td>-</td>\n",
       "      <td>Ce</td>\n",
       "      <td>[미니 백의 그늘에 가려져 있던 오버사이즈 백이 트렌드의 중심으로 돌아왔다. 모든 ...</td>\n",
       "    </tr>\n",
       "  </tbody>\n",
       "</table>\n",
       "</div>"
      ],
      "text/plain": [
       "          title        date                                           link  \\\n",
       "0  오버사이즈로 압도하라!  2019.02.19  https://www.harpersbazaar.co.kr/article/39940   \n",
       "\n",
       "  category  title_brand  check why Brand  \\\n",
       "0  FASHION            0      0   -    Ce   \n",
       "\n",
       "                                            contents  \n",
       "0  [미니 백의 그늘에 가려져 있던 오버사이즈 백이 트렌드의 중심으로 돌아왔다. 모든 ...  "
      ]
     },
     "execution_count": 252,
     "metadata": {},
     "output_type": "execute_result"
    }
   ],
   "source": [
    "F_D"
   ]
  },
  {
   "cell_type": "markdown",
   "metadata": {},
   "source": [
    "### CSV로 저장 "
   ]
  },
  {
   "cell_type": "code",
   "execution_count": 253,
   "metadata": {},
   "outputs": [
    {
     "name": "stdout",
     "output_type": "stream",
     "text": [
      "success\n"
     ]
    }
   ],
   "source": [
    "F_D.to_csv('./data/{}_{}.csv'.format(magazine, brand_code) , mode='w' , sep ='|', encoding='utf-8' , index=False)\n",
    "print('success')"
   ]
  },
  {
   "cell_type": "markdown",
   "metadata": {},
   "source": [
    "### 확인 "
   ]
  },
  {
   "cell_type": "code",
   "execution_count": 254,
   "metadata": {},
   "outputs": [
    {
     "data": {
      "text/html": [
       "<div>\n",
       "<style scoped>\n",
       "    .dataframe tbody tr th:only-of-type {\n",
       "        vertical-align: middle;\n",
       "    }\n",
       "\n",
       "    .dataframe tbody tr th {\n",
       "        vertical-align: top;\n",
       "    }\n",
       "\n",
       "    .dataframe thead th {\n",
       "        text-align: right;\n",
       "    }\n",
       "</style>\n",
       "<table border=\"1\" class=\"dataframe\">\n",
       "  <thead>\n",
       "    <tr style=\"text-align: right;\">\n",
       "      <th></th>\n",
       "      <th>title</th>\n",
       "      <th>date</th>\n",
       "      <th>link</th>\n",
       "      <th>category</th>\n",
       "      <th>title_brand</th>\n",
       "      <th>check</th>\n",
       "      <th>why</th>\n",
       "      <th>Brand</th>\n",
       "      <th>contents</th>\n",
       "    </tr>\n",
       "  </thead>\n",
       "  <tbody>\n",
       "    <tr>\n",
       "      <th>0</th>\n",
       "      <td>오버사이즈로 압도하라!</td>\n",
       "      <td>2019.02.19</td>\n",
       "      <td>https://www.harpersbazaar.co.kr/article/39940</td>\n",
       "      <td>FASHION</td>\n",
       "      <td>0</td>\n",
       "      <td>0</td>\n",
       "      <td>-</td>\n",
       "      <td>Ce</td>\n",
       "      <td>['미니 백의 그늘에 가려져 있던 오버사이즈 백이 트렌드의 중심으로 돌아왔다. 모든...</td>\n",
       "    </tr>\n",
       "  </tbody>\n",
       "</table>\n",
       "</div>"
      ],
      "text/plain": [
       "          title        date                                           link  \\\n",
       "0  오버사이즈로 압도하라!  2019.02.19  https://www.harpersbazaar.co.kr/article/39940   \n",
       "\n",
       "  category  title_brand  check why Brand  \\\n",
       "0  FASHION            0      0   -    Ce   \n",
       "\n",
       "                                            contents  \n",
       "0  ['미니 백의 그늘에 가려져 있던 오버사이즈 백이 트렌드의 중심으로 돌아왔다. 모든...  "
      ]
     },
     "execution_count": 254,
     "metadata": {},
     "output_type": "execute_result"
    }
   ],
   "source": [
    "result = pd.read_csv(\"./data/{}_{}.csv\".format(magazine, brand_code),sep = \"|\" , encoding = 'utf-8')\n",
    "result"
   ]
  }
 ],
 "metadata": {
  "kernelspec": {
   "display_name": "Python 3",
   "language": "python",
   "name": "python3"
  },
  "language_info": {
   "codemirror_mode": {
    "name": "ipython",
    "version": 3
   },
   "file_extension": ".py",
   "mimetype": "text/x-python",
   "name": "python",
   "nbconvert_exporter": "python",
   "pygments_lexer": "ipython3",
   "version": "3.7.6"
  }
 },
 "nbformat": 4,
 "nbformat_minor": 4
}
